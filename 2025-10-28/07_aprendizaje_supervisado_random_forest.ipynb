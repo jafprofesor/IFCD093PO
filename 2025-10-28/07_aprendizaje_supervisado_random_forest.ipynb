{
 "cells": [
  {
   "cell_type": "markdown",
   "id": "7f6d48e7",
   "metadata": {},
   "source": [
    "# 🌲 Módulo 2.4: Métodos de Ensamblado - Random Forest\n",
    "### Curso: **Machine Learning con Python** (IFCD093PO)\n",
    "**Duración estimada:** 10 horas\n",
    "\n",
    "---\n",
    "\n",
    "## 🎯 Objetivos del Módulo\n",
    "\n",
    "Un solo árbol es bueno, pero un bosque es más fuerte. En este módulo, descubrirás el poder de los **métodos de ensamblado (Ensemble Methods)**, una de las técnicas más potentes en Machine Learning. Nos centraremos en el **Random Forest**, un algoritmo que soluciona la principal debilidad de los árboles de decisión: su tendencia al overfitting.\n",
    "\n",
    "Al finalizar, serás capaz de:\n",
    "\n",
    "- ✅ Entender la \"sabiduría de la multitud\" y por qué los ensamblados superan a los modelos individuales.\n",
    "- ✅ Dominar la técnica de **Bagging (Bootstrap Aggregating)**, el pilar fundamental de Random Forest.\n",
    "- ✅ Entrenar, evaluar y optimizar modelos de **Random Forest** para clasificación y regresión.\n",
    "- ✅ Utilizar la **Importancia de Características (Feature Importance)** para interpretar qué variables son más influyentes en tu modelo Random Forest.\n",
    "- ✅ Comprender el papel del parámetro `n_estimators` y cómo afecta al rendimiento.\n",
    "\n",
    "**¡Prepárate para dejar de confiar en un solo experto y empezar a escuchar a un comité de ellos!**\n",
    "\n",
    "---"
   ]
  },
  {
   "cell_type": "markdown",
   "id": "6f3fa3e5",
   "metadata": {},
   "source": [
    "## 📚 Tabla de Contenidos\n",
    "\n",
    "1. [La Sabiduría de la Multitud: Métodos de Ensamblado](#1-ensamblado)\n",
    "   - [¿Por qué un Ensamblado es Mejor?](#1.1-porque)\n",
    "2. [Bagging: Bootstrap Aggregating](#2-bagging)\n",
    "   - [Paso a Paso: Cómo Funciona el Bagging](#2.1-pasos)\n",
    "3. [Random Forest: El Bosque Aleatorio](#3-random-forest)\n",
    "   - [Añadiendo Aleatoriedad a Bagging](#3.1-aleatoriedad)\n",
    "   - [Implementación de Random Forest para Clasificación](#3.2-implementacion-clas)\n",
    "   - [Random Forest para Regresión](#3.3-implementacion-reg)\n",
    "4. [Interpretación: Importancia de Características](#4-importancia)\n",
    "   - [¿Qué Variables Mira más el Bosque?](#4.1-variables)\n",
    "5. [Ventajas y Desventajas de Random Forest](#5-ventajas)\n",
    "6. [Resumen y Próximos Pasos](#6-resumen)\n",
    "\n",
    "---"
   ]
  },
  {
   "cell_type": "markdown",
   "id": "4677fb3b",
   "metadata": {},
   "source": [
    "## 👨‍👩‍👧‍👦 1. La Sabiduría de la Multitud: Métodos de Ensamblado <a id='1-ensamblado'></a>\n",
    "\n",
    "### 1.1 ¿Por qué un Ensamblado es Mejor? <a id='1.1-porque'></a>\n",
    "\n",
    "La idea central de los métodos de ensamblado es simple: **combinar las predicciones de varios modelos (llamados \"aprendices débiles\" o \"weak learners\") para crear un único modelo superior (un \"aprendiz fuerte\" o \"strong learner\")**.\n",
    "\n",
    "**Analogía**: Imagina que estás en un concurso. En lugar de responder tú solo, puedes preguntar a 100 personas y quedarte con la respuesta más votada. La probabilidad de que la mayoría se equivoque es mucho menor que la probabilidad de que una sola persona se equivoque.\n",
    "\n",
    "Un ensamblado funciona si los modelos que lo componen son:\n",
    "1.  **Diversos**: Cometen errores en diferentes sitios. Si todos se equivocan en lo mismo, el ensamblado también se equivocará.\n",
    "2.  **Mejores que el azar**: Cada modelo individual debe tener un rendimiento al menos ligeramente superior al de una predicción aleatoria.\n",
    "\n",
    "Los árboles de decisión son candidatos perfectos para ser los aprendices débiles en un ensamblado, ya que son muy sensibles a los datos de entrenamiento (alta varianza), lo que facilita la creación de árboles diversos."
   ]
  },
  {
   "cell_type": "markdown",
   "id": "4e90db4a",
   "metadata": {},
   "source": [
    "## 🛍️ 2. Bagging: Bootstrap Aggregating <a id='2-bagging'></a>\n",
    "\n",
    "El **Bagging** es una de las técnicas de ensamblado más importantes y es la base del Random Forest.\n",
    "\n",
    "### 2.1 Paso a Paso: Cómo Funciona el Bagging <a id='2.1-pasos'></a>\n",
    "\n",
    "1.  **Bootstrap (Muestreo con Reemplazo)**: Se crean múltiples subconjuntos de datos a partir del conjunto de entrenamiento original. Cada subconjunto tiene el mismo tamaño que el original, pero se crea **muestreando con reemplazo**. Esto significa que algunas muestras pueden aparecer varias veces en un subconjunto, mientras que otras pueden no aparecer en absoluto.\n",
    "\n",
    "2.  **Training (Entrenamiento Paralelo)**: Se entrena un modelo (un árbol de decisión, en nuestro caso) de forma independiente en cada uno de los subconjuntos de datos. Como cada árbol ve una versión ligeramente diferente de los datos, aprenderá patrones ligeramente diferentes, creando la **diversidad** que necesitamos.\n",
    "\n",
    "3.  **Aggregating (Agregación)**: Para hacer una nueva predicción, se le pregunta a todos los árboles del ensamblado. \n",
    "    -   En **clasificación**, la predicción final es la clase más votada (**votación por mayoría**).\n",
    "    -   En **regresión**, la predicción final es el **promedio** de las predicciones de todos los árboles.\n",
    "\n",
    "![Bagging](imagenes/Bagging.png)"
   ]
  },
  {
   "cell_type": "markdown",
   "id": "aff24099",
   "metadata": {},
   "source": [
    "## 🌲 3. Random Forest: El Bosque Aleatorio <a id='3-random-forest'></a>\n",
    "\n",
    "### 3.1 Añadiendo Aleatoriedad a Bagging <a id='3.1-aleatoriedad'></a>\n",
    "\n",
    "Un Random Forest es, en esencia, un modelo de Bagging de árboles de decisión con un toque extra de aleatoriedad para aumentar la diversidad de los árboles.\n",
    "\n",
    "**¿Cuál es el truco?**\n",
    "\n",
    "Cuando un árbol del bosque está decidiendo en qué característica y umbral dividir un nodo, **no considera todas las características disponibles**. En su lugar, selecciona un **subconjunto aleatorio de características** y solo busca la mejor división entre ellas.\n",
    "\n",
    "**¿Por qué hacer esto?**\n",
    "\n",
    "Imagina que tienes una característica muy predictiva. En un modelo de Bagging normal, la mayoría de los árboles empezarían dividiendo por esa característica, lo que haría que todos los árboles fueran muy similares (correlacionados). Al forzar a cada árbol a considerar solo un subconjunto aleatorio de características, nos aseguramos de que los árboles sean más diferentes entre sí, lo que **reduce la varianza** y hace que el modelo final sea más robusto."
   ]
  },
  {
   "cell_type": "markdown",
   "id": "a3f953bd",
   "metadata": {},
   "source": [
    "### 3.2 Implementación de Random Forest para Clasificación <a id='3.2-implementacion-clas'></a>\n",
    "\n",
    "Vamos a usar el dataset de `make_moons` para ver cómo un Random Forest puede superar a un único árbol de decisión."
   ]
  },
  {
   "cell_type": "code",
   "execution_count": null,
   "id": "f13449df",
   "metadata": {},
   "outputs": [],
   "source": [
    "from sklearn.datasets import make_moons # Generar un conjunto de datos de \"lunas\"\n",
    "from sklearn.model_selection import train_test_split # Dividir los datos en conjuntos de entrenamiento y prueba\n",
    "from sklearn.ensemble import RandomForestClassifier # Importar el clasificador Random Forest\n",
    "from sklearn.tree import DecisionTreeClassifier # Importar el clasificador Árbol de Decisión\n",
    "from sklearn.metrics import accuracy_score # Medir la precisión del modelo\n",
    "import matplotlib.pyplot as plt # Para visualización\n",
    "import numpy as np # Para operaciones numéricas\n",
    "\n",
    "# Generar datos de \"lunas\" para clasificación, esto crea un conjunto de datos no linealmente separable\n",
    "X, y = make_moons(n_samples=500, noise=0.30, random_state=42)\n",
    "# Dividir los datos en conjuntos de entrenamiento y prueba\n",
    "X_train, X_test, y_train, y_test = train_test_split(X, y, random_state=42)\n",
    "\n",
    "# Entrenar un único Árbol de Decisión \n",
    "tree_clf = DecisionTreeClassifier(random_state=42)\n",
    "tree_clf.fit(X_train, y_train)\n",
    "y_pred_tree = tree_clf.predict(X_test)\n",
    "print(f\"Accuracy de un solo Árbol de Decisión: {accuracy_score(y_test, y_pred_tree):.4f}\")\n",
    "\n",
    "# Entrenar un Random Forest\n",
    "# n_estimators es el número de árboles en el bosque, n_estimators=100 es un valor comúnmente usado \n",
    "# y nos dice que usemos 100 árboles, cada uno entrenado con una muestra aleatoria del conjunto de datos\n",
    "# n_jobs=-1 indica que se usen todos los núcleos del procesador para acelerar el entrenamiento\n",
    "rf_clf = RandomForestClassifier(n_estimators=100, random_state=42, n_jobs=-1) # n_jobs=-1 usa todos los cores\n",
    "rf_clf.fit(X_train, y_train)\n",
    "y_pred_rf = rf_clf.predict(X_test)\n",
    "print(f\"Accuracy de Random Forest (100 árboles): {accuracy_score(y_test, y_pred_rf):.4f}\")"
   ]
  },
  {
   "cell_type": "code",
   "execution_count": null,
   "id": "780c156a",
   "metadata": {},
   "outputs": [],
   "source": [
    "# Función para visualizar los límites de decisión\n",
    "# Aqui vamos a crear una malla de puntos en el espacio de características \n",
    "# y predecir la clase para cada punto\n",
    "# Luego, usamos estos puntos para dibujar los límites de decisión del clasificador\n",
    "# Esto nos ayuda a ver cómo el modelo clasifica diferentes regiones del espacio \n",
    "# de características\n",
    "def plot_decision_boundary(clf, X, y, axes, title):\n",
    "    x0s = np.linspace(axes[0], axes[1], 100)\n",
    "    x1s = np.linspace(axes[2], axes[3], 100)\n",
    "    x0, x1 = np.meshgrid(x0s, x1s)\n",
    "    X_new = np.c_[x0.ravel(), x1.ravel()]\n",
    "    y_pred = clf.predict(X_new).reshape(x0.shape)\n",
    "    plt.contourf(x0, x1, y_pred, cmap=plt.cm.RdYlBu, alpha=0.5)\n",
    "    plt.plot(X[:, 0][y==0], X[:, 1][y==0], \"b.\")\n",
    "    plt.plot(X[:, 0][y==1], X[:, 1][y==1], \"r.\")\n",
    "    plt.title(title)\n",
    "    plt.axis(axes)\n",
    "\n",
    "fig, axes_fig = plt.subplots(1, 2, figsize=(12, 5))\n",
    "plt.sca(axes_fig[0])\n",
    "plot_decision_boundary(tree_clf, X, y, [-1.5, 2.5, -1, 1.5], \"Árbol de Decisión\")\n",
    "plt.sca(axes_fig[1])\n",
    "plot_decision_boundary(rf_clf, X, y, [-1.5, 2.5, -1, 1.5], \"Random Forest\")\n",
    "plt.show()"
   ]
  },
  {
   "cell_type": "markdown",
   "id": "23190d83",
   "metadata": {},
   "source": [
    "**Observaciones:**\n",
    "- El límite de decisión del único árbol es irregular y claramente sobreajustado a los datos de entrenamiento (alta varianza).\n",
    "- El límite de decisión del Random Forest es mucho más suave y general. Al promediar las predicciones de muchos árboles, se reduce el ruido y se obtiene un modelo más robusto."
   ]
  },
  {
   "cell_type": "markdown",
   "id": "c936e063",
   "metadata": {},
   "source": [
    "### 3.3 Random Forest para Regresión <a id='3.3-implementacion-reg'></a>\n",
    "\n",
    "El concepto es exactamente el mismo para regresión. Se entrenan múltiples árboles de regresión en subconjuntos de datos, y la predicción final es el **promedio** de las predicciones de todos los árboles."
   ]
  },
  {
   "cell_type": "code",
   "execution_count": null,
   "id": "c324e6ab",
   "metadata": {},
   "outputs": [],
   "source": [
    "from sklearn.ensemble import RandomForestRegressor # Importar el regresor Random Forest\n",
    "from sklearn.metrics import mean_squared_error # Medir el error cuadrático medio\n",
    "\n",
    "# Datos de ejemplo para regresión\n",
    "# Generar datos sintéticos para regresión\n",
    "# Aquí usamos una función seno con algo de ruido\n",
    "np.random.seed(42)\n",
    "X_reg = np.random.rand(100, 1) * 10\n",
    "y_reg = np.sin(X_reg).ravel() + np.random.randn(100) * 0.5\n",
    "\n",
    "# Dividir los datos en conjuntos de entrenamiento y prueba\n",
    "X_train_r, X_test_r, y_train_r, y_test_r = train_test_split(X_reg, y_reg, random_state=42)\n",
    "\n",
    "# Entrenar un Random Forest Regressor\n",
    "# n_estimators es el número de árboles en el bosque\n",
    "# n_jobs=-1 usa todos los cores para acelerar el entrenamiento\n",
    "# Si n_jobs no se especifica, el valor por defecto es 1, \n",
    "# lo que significa que solo se usa un núcleo del procesador\n",
    "rf_reg = RandomForestRegressor(n_estimators=100, random_state=42, n_jobs=-1)\n",
    "rf_reg.fit(X_train_r, y_train_r)\n",
    "\n",
    "# Predecir y evaluar el modelo\n",
    "y_pred_reg = rf_reg.predict(X_test_r)\n",
    "rmse = np.sqrt(mean_squared_error(y_test_r, y_pred_reg))\n",
    "print(f\"RMSE del Random Forest Regressor: {rmse:.4f}\")\n",
    "\n",
    "# Visualización\n",
    "X_plot = np.linspace(0, 10, 100).reshape(-1, 1)\n",
    "y_plot = rf_reg.predict(X_plot)\n",
    "\n",
    "plt.figure(figsize=(10, 6))\n",
    "plt.scatter(X_train_r, y_train_r, c='b', s=20, label='Datos de entrenamiento')\n",
    "plt.plot(X_plot, y_plot, c='r', lw=3, label='Predicción Random Forest')\n",
    "plt.title('Random Forest para Regresión')\n",
    "plt.legend()\n",
    "plt.show()"
   ]
  },
  {
   "cell_type": "markdown",
   "id": "af7237e2",
   "metadata": {},
   "source": [
    "---"
   ]
  },
  {
   "cell_type": "markdown",
   "id": "126c1403",
   "metadata": {},
   "source": [
    "## 📊 4. Interpretación: Importancia de Características <a id='4-importancia'></a>\n",
    "\n",
    "### 4.1 ¿Qué Variables Mira más el Bosque? <a id='4.1-variables'></a>\n",
    "\n",
    "Aunque un Random Forest es más una \"caja negra\" que un solo árbol, nos ofrece una herramienta muy útil para la interpretación: la **importancia de características (feature importance)**.\n",
    "\n",
    "**¿Cómo se calcula?**\n",
    "\n",
    "Para cada característica, se mide cuánto ha contribuido en promedio a **reducir la impureza** en todos los árboles del bosque. Una característica que se usa a menudo en las divisiones de los nodos superiores (cerca de la raíz) y que produce grandes ganancias de información tendrá una alta importancia.\n",
    "\n",
    "Esto es extremadamente útil para entender qué variables son las más predictivas en nuestro problema."
   ]
  },
  {
   "cell_type": "code",
   "execution_count": null,
   "id": "613e4f24",
   "metadata": {},
   "outputs": [],
   "source": [
    "from sklearn.datasets import load_iris # Cargar el dataset Iris\n",
    "import pandas as pd\n",
    "\n",
    "# Usar el dataset Iris, que tiene características con nombres\n",
    "iris = load_iris()\n",
    "X_iris = iris.data\n",
    "y_iris = iris.target\n",
    "\n",
    "# Entrenar un Random Forest en el dataset Iris\n",
    "rf_iris = RandomForestClassifier(n_estimators=100, random_state=42, n_jobs=-1)\n",
    "rf_iris.fit(X_iris, y_iris)\n",
    "\n",
    "# Obtener la importancia de las características\n",
    "# La importancia de las características indica qué tan útiles son las características \n",
    "# individuales para hacer predicciones\n",
    "importances = rf_iris.feature_importances_\n",
    "\n",
    "# Crear un DataFrame para visualizarlo mejor\n",
    "feature_importance_df = pd.DataFrame({\n",
    "    'Característica': iris.feature_names,\n",
    "    'Importancia': importances\n",
    "}).sort_values(by='Importancia', ascending=False)\n",
    "\n",
    "print(\"Importancia de las Características (Dataset Iris):\")\n",
    "display(feature_importance_df)\n",
    "\n",
    "# Visualizar\n",
    "plt.figure(figsize=(10, 6))\n",
    "plt.barh(feature_importance_df['Característica'], feature_importance_df['Importancia'])\n",
    "plt.xlabel('Importancia')\n",
    "plt.title('Importancia de Características según Random Forest')\n",
    "plt.gca().invert_yaxis()\n",
    "plt.show()"
   ]
  },
  {
   "cell_type": "markdown",
   "id": "99e1fc61",
   "metadata": {},
   "source": [
    "Claramente, las características relacionadas con los pétalos (`petal width` y `petal length`) son mucho más importantes para clasificar las flores Iris que las relacionadas con los sépalos."
   ]
  },
  {
   "cell_type": "markdown",
   "id": "f5ded7a6",
   "metadata": {},
   "source": [
    "---"
   ]
  },
  {
   "cell_type": "markdown",
   "id": "8e0a5388",
   "metadata": {},
   "source": [
    "## ✅ 5. Ventajas y Desventajas de Random Forest <a id='5-ventajas'></a>\n",
    "\n",
    "### Ventajas\n",
    "1.  **Alto Rendimiento**: Es uno de los mejores algoritmos \"listos para usar\". Generalmente ofrece un rendimiento muy bueno con poca optimización de hiperparámetros.\n",
    "2.  **Robusto al Overfitting**: La combinación de Bagging y la selección aleatoria de características lo hace mucho menos propenso al overfitting que un solo árbol.\n",
    "3.  **No Requiere Escalado de Datos**: Al igual que los árboles individuales, no es sensible a la escala de las características.\n",
    "4.  **Maneja Datos Faltantes**: Puede manejar valores nulos de forma robusta.\n",
    "5.  **Proporciona Importancia de Características**: Permite interpretar qué variables son más predictivas.\n",
    "\n",
    "### Desventajas\n",
    "1.  **Menos Interpretable**: Es una \"caja negra\". No podemos visualizar un bosque de 500 árboles como lo haríamos con uno solo.\n",
    "2.  **Más Lento**: Entrenar y predecir con cientos de árboles es más costoso computacionalmente que con un solo modelo.\n",
    "3.  **Puede no ser la mejor opción para datos muy esparsos** (muchos ceros), como los datos de texto."
   ]
  },
  {
   "cell_type": "markdown",
   "id": "6654bf74",
   "metadata": {},
   "source": [
    "---"
   ]
  },
  {
   "cell_type": "markdown",
   "id": "4ba98756",
   "metadata": {},
   "source": [
    "## 📝 6. Resumen y Próximos Pasos <a id='6-resumen'></a>\n",
    "\n",
    "### 🎉 ¡Has construido tu primer bosque! Has dominado uno de los algoritmos más potentes y versátiles del Machine Learning.\n",
    "\n",
    "#### ✅ Lo que has aprendido:\n",
    "\n",
    "1. **El Poder del Ensamblado**\n",
    "   - Que combinar muchos modelos débiles y diversos crea un modelo fuerte y robusto.\n",
    "   - La técnica de **Bagging**, que entrena modelos en subconjuntos de datos muestreados con reemplazo.\n",
    "\n",
    "2. **Random Forest**\n",
    "   - Que un Random Forest es un ensamblado de árboles de decisión que añade una capa extra de aleatoriedad al seleccionar características.\n",
    "   - Cómo esta doble aleatoriedad combate eficazmente el overfitting.\n",
    "   - A implementar `RandomForestClassifier` y `RandomForestRegressor` en Scikit-learn.\n",
    "\n",
    "3. **Interpretabilidad**\n",
    "   - A extraer y visualizar la **importancia de las características** para entender qué variables son las más predictivas, abriendo una pequeña ventana en la \"caja negra\".\n",
    "\n",
    "---\n",
    "\n",
    "### 🚀 Próximo Módulo: Boosting - El Otro Gran Ensamblado\n",
    "\n",
    "El Bagging (y Random Forest) construye los árboles en paralelo, de forma independiente. Pero, ¿y si los construyéramos en secuencia, donde cada nuevo árbol intenta corregir los errores del anterior?\n",
    "\n",
    "Esa es la idea detrás del **Boosting**, la otra gran familia de métodos de ensamblado. En el próximo módulo, explorarás:\n",
    "\n",
    "- **AdaBoost** y **Gradient Boosting**: Los algoritmos fundamentales de boosting.\n",
    "- **XGBoost** y **LightGBM**: Las implementaciones modernas y ultra optimizadas que dominan las competiciones de Machine Learning (como Kaggle).\n",
    "\n",
    "**Has aprendido a construir un bosque donde cada árbol crece por su cuenta. Ahora, ¡vamos a enseñar a los árboles a aprender de los errores de sus predecesores!**"
   ]
  }
 ],
 "metadata": {
  "kernelspec": {
   "display_name": "cpu",
   "language": "python",
   "name": "python3"
  },
  "language_info": {
   "codemirror_mode": {
    "name": "ipython",
    "version": 3
   },
   "file_extension": ".py",
   "mimetype": "text/x-python",
   "name": "python",
   "nbconvert_exporter": "python",
   "pygments_lexer": "ipython3",
   "version": "3.13.7"
  }
 },
 "nbformat": 4,
 "nbformat_minor": 5
}
