{
 "cells": [
  {
   "cell_type": "markdown",
   "id": "5a39351e-9f24-46d3-8b52-8f695f41535f",
   "metadata": {},
   "source": [
    "# Predicción de Enfermedad Cardíaca: Explicación Paso a Paso\n",
    "\n",
    "En este cuaderno vamos a ver cómo una computadora puede ayudarnos a predecir si una persona tiene enfermedad cardíaca (`HeartDisease`). Usaremos dos \"modelos\" (formas de predecir): **regresión logística** y **Random Forest**. También veremos qué factores de salud son más importantes para la predicción.\n",
    "\n",
    "## ¿Qué aprenderás aquí?\n",
    "- **Clasificación binaria**: El objetivo es responder a una pregunta de sí o no: ¿la persona tiene enfermedad cardíaca?\n",
    "- **Interpretabilidad**: Queremos saber qué factores de salud (como el colesterol, la edad, etc.) influyen más en el resultado.\n",
    "- **Métricas de clasificación**: Son formas de medir si el modelo acierta o se equivoca, por ejemplo: cuántas veces acierta (accuracy), qué tan bien separa sanos de enfermos (AUC), etc.\n",
    "\n",
    "> **Nota:** No necesitas saber matemáticas ni programación para entender los conceptos. Los comentarios y explicaciones te guiarán paso a paso."
   ]
  },
  {
   "cell_type": "code",
   "execution_count": null,
   "id": "b016cbc7-2389-4be9-b3f3-7b3e84ad35df",
   "metadata": {},
   "outputs": [],
   "source": [
    "# PASO 1: Cargar los datos y ver cómo son\n",
    "import pandas as pd  # Para manejar tablas de datos\n",
    "import matplotlib.pyplot as plt  # Para hacer gráficos\n",
    "import seaborn as sns  # Para hacer gráficos bonitos\n",
    "\n",
    "# Leemos el archivo CSV con los datos de pacientes\n",
    "df = pd.read_csv('heart.csv')\n",
    "\n",
    "# Mostramos las primeras filas para ver cómo son los datos\n",
    "print(df.head())  # Así vemos qué columnas hay y cómo son los valores"
   ]
  },
  {
   "cell_type": "markdown",
   "id": "2766ec34-df4e-4858-a33d-95da2c6ca7a9",
   "metadata": {},
   "source": [
    "**Exploración:**  \n",
    "Mira las columnas de la tabla. ¿Cuáles de estos datos crees que pueden estar relacionados con problemas del corazón? Por ejemplo: la edad, el tipo de dolor en el pecho, el sexo, el colesterol, etc.\n",
    "\n",
    "> **Consejo:** Si no entiendes alguna palabra, ¡pregunta! Lo importante es tener curiosidad."
   ]
  },
  {
   "cell_type": "code",
   "execution_count": null,
   "id": "0b42735b-e240-4799-8aae-487324111d58",
   "metadata": {},
   "outputs": [],
   "source": [
    "# PASO 2: Ver cuántas personas tienen enfermedad cardíaca y cuántas no\n",
    "# Esto nos ayuda a saber si los datos están equilibrados (hay más sanos o más enfermos)\n",
    "sns.countplot(x='HeartDisease', data=df)\n",
    "plt.title('¿Cuántas personas tienen enfermedad cardíaca?')\n",
    "plt.xlabel('0 = No tiene enfermedad, 1 = Sí tiene enfermedad')\n",
    "plt.ylabel('Número de personas')\n",
    "plt.show()"
   ]
  },
  {
   "cell_type": "markdown",
   "id": "00c03f3f-ecca-4dd2-a26e-18cb5c0b1612",
   "metadata": {},
   "source": [
    "**Pregunta:**  \n",
    "¿Hay más personas sanas o más personas con enfermedad cardíaca en los datos? Si hay muchos más de un grupo que de otro, el modelo puede aprender peor.\n",
    "\n",
    "> **Ejemplo:** Si hay 90% sanos y 10% enfermos, el modelo podría aprender a decir siempre \"sano\" y acertar mucho, pero no sería útil."
   ]
  },
  {
   "cell_type": "code",
   "execution_count": null,
   "id": "eeb9cebd-60e2-4dc9-887d-c7458d726d9b",
   "metadata": {},
   "outputs": [],
   "source": [
    "# PASO 3: Ver si el colesterol influye en la enfermedad\n",
    "# Comparamos los valores de colesterol entre personas sanas y con enfermedad\n",
    "sns.boxplot(x='HeartDisease', y='Cholesterol', data=df)\n",
    "plt.title('¿El colesterol es diferente entre sanos y enfermos?')\n",
    "plt.xlabel('0 = No tiene enfermedad, 1 = Sí tiene enfermedad')\n",
    "plt.ylabel('Colesterol')\n",
    "plt.show()"
   ]
  },
  {
   "cell_type": "markdown",
   "id": "e36cba72-ab51-4c2b-aeb8-c09a5c409dec",
   "metadata": {},
   "source": [
    "**Análisis:**  \n",
    "¿Ves que las personas con enfermedad cardíaca suelen tener el colesterol más alto? Si es así, el colesterol podría ser un factor importante.\n",
    "\n",
    "> **Recuerda:** Un factor importante es aquel que ayuda a diferenciar entre sanos y enfermos."
   ]
  },
  {
   "cell_type": "code",
   "execution_count": null,
   "id": "cb16bd0a-d533-4a32-948f-75470255d2bf",
   "metadata": {},
   "outputs": [],
   "source": [
    "# PASO 4: Preparar los datos para el modelo\n",
    "# Algunas columnas tienen palabras (como tipo de dolor), las convertimos a números (dummies)\n",
    "cat_vars = ['Sex', 'ChestPainType', 'RestingECG', 'ExerciseAngina', 'ST_Slope']  # Estas son las columnas con palabras\n",
    "df = pd.get_dummies(df, columns=cat_vars, drop_first=True)  # Creamos columnas nuevas con 0 y 1\n",
    "\n",
    "# Mostramos cómo queda la tabla después de convertir a dummies\n",
    "print(df.head())  # Ahora todo son números, ¡listo para el modelo!"
   ]
  },
  {
   "cell_type": "markdown",
   "id": "61a3c9ce-3cb9-4762-a6fe-855e3ead3367",
   "metadata": {},
   "source": [
    "**¿Por qué convertir a dummies?**  \n",
    "Algunos datos, como el tipo de dolor en el pecho, no son números sino palabras. Los modelos de inteligencia artificial solo entienden números. Por eso, convertimos cada opción en una columna que vale 0 o 1 (por ejemplo: dolor tipo A = 1, si no = 0).\n",
    "\n",
    "> **Ejemplo:** Si tienes \"DolorTipo = A\" y \"DolorTipo = B\", creamos dos columnas: una para A y otra para B, y ponemos 1 o 0 según corresponda."
   ]
  },
  {
   "cell_type": "code",
   "execution_count": null,
   "id": "69871351-06e0-475b-88ea-69a706eefe22",
   "metadata": {},
   "outputs": [],
   "source": [
    "# PASO 5: Separar los datos en entrenamiento y prueba\n",
    "# Así podemos entrenar el modelo con una parte y comprobar si acierta con la otra\n",
    "from sklearn.model_selection import train_test_split  # Herramienta para separar los datos\n",
    "\n",
    "# X son las variables que usaremos para predecir, y es la respuesta (enfermedad sí/no)\n",
    "X = df.drop(columns=['HeartDisease'])  # Todo menos la columna de respuesta\n",
    "y = df['HeartDisease']  # La columna que queremos predecir\n",
    "\n",
    "# 70% para entrenar, 30% para probar. random_state=8 hace que siempre salga igual.\n",
    "X_train, X_test, y_train, y_test = train_test_split(X, y, test_size=0.3, random_state=8)\n",
    "\n",
    "# Ahora tenemos X_train, y_train para entrenar y X_test, y_test para comprobar"
   ]
  },
  {
   "cell_type": "code",
   "execution_count": null,
   "id": "1c6f7a56-6491-43ce-9760-14a6a2448bf9",
   "metadata": {},
   "outputs": [],
   "source": [
    "# PASO 6: Crear y probar el modelo de regresión logística\n",
    "# Este modelo intenta encontrar una fórmula para predecir sí/no\n",
    "from sklearn.linear_model import LogisticRegression\n",
    "from sklearn.metrics import accuracy_score, roc_auc_score, classification_report, confusion_matrix\n",
    "\n",
    "# Creamos el modelo y lo entrenamos con los datos de entrenamiento\n",
    "logreg = LogisticRegression(max_iter=1000)\n",
    "logreg.fit(X_train, y_train)\n",
    "\n",
    "# Hacemos predicciones con los datos de prueba\n",
    "y_pred = logreg.predict(X_test)\n",
    "\n",
    "# Mostramos qué porcentaje acierta el modelo (accuracy)\n",
    "print('Accuracy:', accuracy_score(y_test, y_pred))\n",
    "\n",
    "# Calculamos el AUC, que mide qué tan bien separa sanos de enfermos\n",
    "print('AUC:', roc_auc_score(y_test, logreg.predict_proba(X_test)[:,1]))\n",
    "\n",
    "# Mostramos un reporte más detallado (precisión, recall, etc.)\n",
    "print('Reporte de clasificación:\\n', classification_report(y_test, y_pred))\n",
    "\n",
    "# Mostramos la matriz de confusión: cuántos aciertos y errores\n",
    "sns.heatmap(confusion_matrix(y_test, y_pred), annot=True)\n",
    "plt.title('Matriz de confusión')\n",
    "plt.xlabel('Predicción del modelo')\n",
    "plt.ylabel('Valor real')\n",
    "plt.show()"
   ]
  },
  {
   "cell_type": "markdown",
   "id": "05bfedf5-6791-4ea9-950a-938ff1904a06",
   "metadata": {},
   "source": [
    "**¿Qué es el AUC?**  \n",
    "El AUC (Area Under Curve) es una forma de medir qué tan bien el modelo distingue entre personas sanas y personas con enfermedad. Si el AUC es 1, el modelo es perfecto; si es 0.5, el modelo no sabe distinguir (es como lanzar una moneda).\n",
    "\n",
    "> **En resumen:** Cuanto más cerca de 1, mejor."
   ]
  },
  {
   "cell_type": "code",
   "execution_count": null,
   "id": "9fa6ed10-d6d3-403f-bd47-c19de681ba51",
   "metadata": {},
   "outputs": [],
   "source": [
    "# PASO 7: Probar un modelo más avanzado: Random Forest\n",
    "# Random Forest es un modelo que combina muchos árboles de decisión para mejorar la predicción\n",
    "from sklearn.ensemble import RandomForestClassifier\n",
    "\n",
    "# Creamos el modelo y lo entrenamos\n",
    "rf = RandomForestClassifier()\n",
    "rf.fit(X_train, y_train)\n",
    "\n",
    "# Hacemos predicciones con Random Forest\n",
    "y_pred_rf = rf.predict(X_test)\n",
    "\n",
    "# Mostramos el porcentaje de aciertos y el AUC\n",
    "print('Random Forest Accuracy:', accuracy_score(y_test, y_pred_rf))\n",
    "print('Random Forest AUC:', roc_auc_score(y_test, rf.predict_proba(X_test)[:,1]))"
   ]
  },
  {
   "cell_type": "markdown",
   "id": "82b88914-c45f-4bb6-9524-c18ba06951de",
   "metadata": {},
   "source": [
    "#### Reflexión final para todos:\n",
    "\n",
    "- ¿Qué modelo acierta más, la regresión logística o el Random Forest? ¿Por qué crees que ocurre esto?\n",
    "- ¿Qué factores de salud (variables) parecen ser los más importantes según los modelos?\n",
    "- ¿Crees que sería útil en la vida real poder predecir así este tipo de enfermedades? ¿Por qué?\n",
    "\n",
    "> **Recuerda:** Lo importante no es solo acertar, sino también entender por qué el modelo toma sus decisiones."
   ]
  }
 ],
 "metadata": {
  "kernelspec": {
   "display_name": "cpu",
   "language": "python",
   "name": "python3"
  },
  "language_info": {
   "codemirror_mode": {
    "name": "ipython",
    "version": 3
   },
   "file_extension": ".py",
   "mimetype": "text/x-python",
   "name": "python",
   "nbconvert_exporter": "python",
   "pygments_lexer": "ipython3",
   "version": "3.13.7"
  }
 },
 "nbformat": 4,
 "nbformat_minor": 5
}
