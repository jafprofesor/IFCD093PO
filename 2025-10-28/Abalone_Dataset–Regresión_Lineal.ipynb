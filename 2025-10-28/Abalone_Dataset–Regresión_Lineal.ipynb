{
  "cells": [
    {
      "cell_type": "markdown",
      "id": "26a91fbe-a6db-4180-bf6c-b140d2e8e4f4",
      "metadata": {},
      "source": [
        "# Abalone Dataset: Predicción de Edad con Machine Learning\n",
        "\n",
        "En este notebook aprenderemos cómo predecir la edad de un abulón usando sus características físicas y prácticas con modelos de regresión lineal y avanzados como Random Forest.\n",
        "\n",
        "## Conceptos principales\n",
        "- **Regresión**: Técnica de machine learning supervisado para predecir una variable continua (por ejemplo, edad).\n",
        "- **EDA (Análisis exploratorio de datos)**: Primer paso para conocer, visualizar y comprender los datos.\n",
        "- **Preprocesamiento**: Transformar variables categóricas a numéricas para el modelo.\n",
        "- **Modelo básico vs avanzado**: Compararemos el desempeño de una regresión lineal simple contra un Random Forest.\n"
      ]
    },
    {
      "cell_type": "code",
      "execution_count": null,
      "id": "ddeaf0b9-1ced-4910-9c07-f1d0f437d7c2",
      "metadata": {},
      "outputs": [],
      "source": [
        "# Librerías y carga de datos\n",
        "import pandas as pd  # Para manejar tablas de datos\n",
        "import matplotlib.pyplot as plt  # Para hacer gráficos\n",
        "import seaborn as sns  # Para gráficos estadísticos\n",
        "\n",
        "# Cargamos el archivo CSV con los datos de abulones\n",
        "df = pd.read_csv('abalone.csv')\n",
        "\n",
        "# Mostramos las primeras filas para ver cómo son los datos\n",
        "print(df.head())\n"
      ]
    },
    {
      "cell_type": "markdown",
      "id": "01ccb8d5-6476-4880-97e1-d1974e726789",
      "metadata": {},
      "source": [
        "### ¿Qué estamos viendo?\n",
        "Las primeras filas del dataframe muestran las variables disponibles. La variable objetivo aquí es **\"Rings\"**, que representa la edad del abulón (edad ≈ Rings + 1.5).\n"
      ]
    },
    {
      "cell_type": "code",
      "execution_count": null,
      "id": "8920bc29-9703-4815-af5f-de2b6ed65e8b",
      "metadata": {},
      "outputs": [],
      "source": [
        "# EDA básica: exploramos la estructura y la estadística del dataset\n",
        "print(df.describe())  # Estadísticas básicas de cada columna\n",
        "print(df.info())     # Tipos de datos y si hay valores nulos\n"
      ]
    },
    {
      "cell_type": "markdown",
      "id": "81d52de6-d6cb-487e-bccc-6a1fc694eaad",
      "metadata": {},
      "source": [
        "### ¿Por qué hacer EDA?\n",
        "Nos permite saber rangos, valores faltantes, tipo de variables y hacernos una idea para elegir los mejores modelos o preprocesamientos.\n"
      ]
    },
    {
      "cell_type": "code",
      "execution_count": null,
      "id": "b2119b37-e8de-4bcb-ab1a-49759b872a05",
      "metadata": {},
      "outputs": [],
      "source": [
        "# Visualización de la relación entre Shell weight y Rings\n",
        "# Esto nos ayuda a ver si hay relación entre el peso del caparazón y la edad\n",
        "sns.scatterplot(x='Shell weight', y='Rings', data=df)\n",
        "plt.title('Relación entre peso del caparazón y edad (número de anillos)')\n",
        "plt.show()\n"
      ]
    },
    {
      "cell_type": "markdown",
      "id": "e7c06ab6-097d-43f0-b30f-ce69cf14e6b6",
      "metadata": {},
      "source": [
        "#### Reflexión:  \n",
        "¿Crees que el peso del caparazón es buen predictor de la edad? ¿Por qué?\n"
      ]
    },
    {
      "cell_type": "code",
      "execution_count": null,
      "id": "d5bd314c-a2b9-4f49-b632-8ceb3f6374d0",
      "metadata": {},
      "outputs": [],
      "source": [
        "# Preprocesamiento: convertir la columna 'Sex' en variables dummy\n",
        "# Los modelos solo entienden números, así que convertimos 'Sex' en varias columnas 0/1\n",
        "df = pd.get_dummies(df, columns=['Sex'], drop_first=True)\n",
        "\n",
        "# Mostramos cómo queda la tabla después de convertir a dummies\n",
        "print(df.head())\n"
      ]
    },
    {
      "cell_type": "markdown",
      "id": "fe460746-00fb-44b4-a329-82b3de42a1bd",
      "metadata": {},
      "source": [
        "**¿Por qué usar dummies?**  \n",
        "Los algoritmos de ML requieren variables numéricas. Las dummies convierten categorías en columnas con valores 0/1.\n"
      ]
    },
    {
      "cell_type": "code",
      "execution_count": null,
      "id": "2d9c717c-f49b-48a4-8023-a481762fe58c",
      "metadata": {},
      "outputs": [],
      "source": [
        "# División en features y target + split entre entrenamiento y test\n",
        "from sklearn.model_selection import train_test_split  # Para separar los datos\n",
        "\n",
        "# X son las columnas que usaremos para predecir, y es la edad (Rings)\n",
        "X = df.drop(columns=['Rings'])\n",
        "y = df['Rings']\n",
        "\n",
        "# Separamos el 80% para entrenar y el 20% para probar\n",
        "X_train, X_test, y_train, y_test = train_test_split(X, y, test_size=0.2, random_state=0)\n"
      ]
    },
    {
      "cell_type": "markdown",
      "id": "4e3decd0-c934-434f-b42b-cab4dec6e657",
      "metadata": {},
      "source": [
        "**División de datos**\n",
        "Separar datos de entrenamiento y test ayuda a medir si nuestro modelo generaliza bien y no sólo aprende de memoria.\n"
      ]
    },
    {
      "cell_type": "code",
      "execution_count": null,
      "id": "3770325f-8783-4c80-9da3-06ae45678788",
      "metadata": {},
      "outputs": [],
      "source": [
        "# Regresión lineal simple\n",
        "from sklearn.linear_model import LinearRegression  # Importamos el modelo\n",
        "\n",
        "# Creamos el modelo de regresión lineal\n",
        "lr = LinearRegression()\n",
        "\n",
        "# Entrenamos el modelo con los datos de entrenamiento\n",
        "lr.fit(X_train, y_train)\n",
        "\n",
        "# Hacemos predicciones con los datos de test\n",
        "y_pred = lr.predict(X_test)\n"
      ]
    },
    {
      "cell_type": "markdown",
      "id": "a6bbba90-7c0b-4bd3-9ac3-426e5c45d048",
      "metadata": {},
      "source": [
        "**Regresión lineal:**  \n",
        "Es la técnica más sencilla de regresión: ajusta una línea para aproximar los datos.\n"
      ]
    },
    {
      "cell_type": "code",
      "execution_count": null,
      "id": "8bdaf3e2-148d-4e72-bc06-4ec57bde3c8f",
      "metadata": {},
      "outputs": [],
      "source": [
        "# Evaluación del resultado\n",
        "from sklearn.metrics import mean_squared_error, r2_score  # Métricas de evaluación\n",
        "\n",
        "# Calculamos el error medio cuadrático y el R²\n",
        "mse = mean_squared_error(y_test, y_pred)\n",
        "r2 = r2_score(y_test, y_pred)\n",
        "print(f'MSE: {mse:.2f}, R²: {r2:.2f}')\n",
        "\n",
        "# Gráfico para comparar edad real vs edad predicha\n",
        "plt.scatter(y_test, y_pred)\n",
        "plt.xlabel('Edad real')\n",
        "plt.ylabel('Edad predicha')\n",
        "plt.title('Predicción vs Edad real')\n",
        "plt.show()\n"
      ]
    },
    {
      "cell_type": "markdown",
      "id": "c7b3b2b4-068a-45b7-b330-9e986ababe6e",
      "metadata": {},
      "source": [
        "**¿Qué significan MSE y R²?**  \n",
        "- El MSE (Error medio cuadrático) nos dice cuánto se equivoca el modelo en promedio.\n",
        "- El R² indica qué porcentaje de la variabilidad de la edad explica el modelo.\n"
      ]
    },
    {
      "cell_type": "code",
      "execution_count": null,
      "id": "3f99278a-82c6-4ec7-82af-82e12968353d",
      "metadata": {},
      "outputs": [],
      "source": [
        "# Random Forest: comparación con un modelo más avanzado\n",
        "# Un Random Forest es como un \"equipo\" de muchos árboles de decisión.\n",
        "# Cada árbol hace una predicción y el modelo final toma el promedio de todas.\n",
        "# Esto suele dar mejores resultados que una sola línea (regresión lineal),\n",
        "# especialmente cuando la relación entre variables no es tan simple.\n",
        "\n",
        "from sklearn.ensemble import RandomForestRegressor  # Importamos el modelo avanzado\n",
        "\n",
        "# Creamos el modelo Random Forest (no hace falta ajustar parámetros para empezar)\n",
        "rf = RandomForestRegressor()\n",
        "\n",
        "# Entrenamos el modelo con los datos de entrenamiento\n",
        "rf.fit(X_train, y_train)\n",
        "\n",
        "# Hacemos predicciones con los datos de test\n",
        "y_pred_rf = rf.predict(X_test)\n",
        "\n",
        "# Calculamos el error medio cuadrático (MSE) y el R² para ver qué tan bien predice\n",
        "print(f'Random Forest MSE: {mean_squared_error(y_test, y_pred_rf):.2f}')\n",
        "print(f'Random Forest R²: {r2_score(y_test, y_pred_rf):.2f}')\n",
        "\n",
        "# Puedes comparar estos resultados con los de la regresión lineal.\n",
        "# Si el R² es más alto y el MSE más bajo, el Random Forest está prediciendo mejor.\n"
      ]
    },
    {
      "cell_type": "markdown",
      "id": "971c2c52-445f-4d5b-92b3-d1b70e3d473a",
      "metadata": {},
      "source": [
        "**Random Forest:**  \n",
        "Permite ajustar modelos mucho más complejos (\"conjuntos de árboles\") y generalmente predice mejor en casos no lineales.\n",
        "\n",
        "#### Espacio para tu análisis:\n",
        "- ¿Cómo cambian las métricas cuando usas Random Forest versus la regresión lineal?\n",
        "- ¿Existen variables que influyen más? Prueba cambiar las features y observa el impacto.\n"
      ]
    }
  ],
  "metadata": {
    "kernelspec": {
      "display_name": "cpu",
      "language": "python",
      "name": "python3"
    },
    "language_info": {
      "codemirror_mode": {
        "name": "ipython",
        "version": 3
      },
      "file_extension": ".py",
      "mimetype": "text/x-python",
      "name": "python",
      "nbconvert_exporter": "python",
      "pygments_lexer": "ipython3",
      "version": "3.13.7"
    }
  },
  "nbformat": 4,
  "nbformat_minor": 5
}
