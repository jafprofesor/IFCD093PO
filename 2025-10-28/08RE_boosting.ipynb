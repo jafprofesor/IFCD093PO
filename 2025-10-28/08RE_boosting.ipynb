{
 "cells": [
  {
   "cell_type": "markdown",
   "id": "4ba4c88e",
   "metadata": {},
   "source": [
    "# 🏆 Práctica de Modelos de Boosting en Machine Learning\n",
    "En este notebook practicaremos con los principales modelos de boosting: **Boosting clásico, AdaBoost, Gradient Boosting, XGBoost y LightGBM**. Usaremos tres datasets clásicos: California Housing (regresión), Diabetes (clasificación) y Titanic (clasificación).\n",
    "Al final, compararemos los resultados y discutiremos cuándo es mejor usar cada uno de estos modelos."
   ]
  },
  {
   "cell_type": "markdown",
   "id": "6705acbf",
   "metadata": {},
   "source": [
    "## 1. Importar librerías necesarias\n",
    "Importamos las librerías de manipulación de datos, modelos de boosting y visualización."
   ]
  },
  {
   "cell_type": "code",
   "execution_count": 1,
   "id": "80e35f98",
   "metadata": {},
   "outputs": [],
   "source": [
    "# Manipulación y visualización de datos\n",
    "import numpy as np\n",
    "import pandas as pd\n",
    "import matplotlib.pyplot as plt\n",
    "import seaborn as sns\n",
    "\n",
    "# Modelos de boosting y métricas\n",
    "from sklearn.ensemble import AdaBoostClassifier, AdaBoostRegressor, GradientBoostingClassifier, GradientBoostingRegressor\n",
    "from sklearn.metrics import accuracy_score, mean_squared_error, r2_score, classification_report, confusion_matrix\n",
    "from sklearn.model_selection import train_test_split\n",
    "import xgboost as xgb\n",
    "import lightgbm as lgb\n",
    "\n",
    "# Configuración de gráficos\n",
    "sns.set_style('whitegrid')\n",
    "plt.rcParams['figure.figsize'] = (8, 5)"
   ]
  },
  {
   "cell_type": "markdown",
   "id": "262dbf3e",
   "metadata": {},
   "source": [
    "---\n",
    "\n",
    "# 1️⃣ California Housing: Regresión con Boosting\n",
    "En esta sección aplicaremos todos los modelos de boosting al dataset California Housing."
   ]
  },
  {
   "cell_type": "code",
   "execution_count": 2,
   "id": "d20f0f61",
   "metadata": {},
   "outputs": [],
   "source": [
    "# --- Preparar datos California Housing ---\n",
    "from sklearn.datasets import fetch_california_housing\n",
    "california = fetch_california_housing()\n",
    "X_cal = pd.DataFrame(california.data, columns=california.feature_names)\n",
    "y_cal = california.target\n",
    "X_cal_train, X_cal_test, y_cal_train, y_cal_test = train_test_split(X_cal, y_cal, test_size=0.2, random_state=42)"
   ]
  },
  {
   "cell_type": "markdown",
   "id": "0afbf3d9",
   "metadata": {},
   "source": [
    "### AdaBoost Regressor"
   ]
  },
  {
   "cell_type": "code",
   "execution_count": 3,
   "id": "1791b439",
   "metadata": {},
   "outputs": [
    {
     "name": "stdout",
     "output_type": "stream",
     "text": [
      "AdaBoost - MSE: 0.61, R²: 0.53\n"
     ]
    }
   ],
   "source": [
    "ada_cal = AdaBoostRegressor(n_estimators=100, random_state=42)\n",
    "ada_cal.fit(X_cal_train, y_cal_train)\n",
    "y_cal_pred_ada = ada_cal.predict(X_cal_test)\n",
    "mse_cal_ada = mean_squared_error(y_cal_test, y_cal_pred_ada)\n",
    "r2_cal_ada = r2_score(y_cal_test, y_cal_pred_ada)\n",
    "print(f'AdaBoost - MSE: {mse_cal_ada:.2f}, R²: {r2_cal_ada:.2f}')"
   ]
  },
  {
   "cell_type": "markdown",
   "id": "948b1222",
   "metadata": {},
   "source": [
    "### Gradient Boosting Regressor"
   ]
  },
  {
   "cell_type": "code",
   "execution_count": 4,
   "id": "86cb4439",
   "metadata": {},
   "outputs": [
    {
     "name": "stdout",
     "output_type": "stream",
     "text": [
      "Gradient Boosting - MSE: 0.29, R²: 0.78\n"
     ]
    }
   ],
   "source": [
    "gbr_cal = GradientBoostingRegressor(n_estimators=100, random_state=42)\n",
    "gbr_cal.fit(X_cal_train, y_cal_train)\n",
    "y_cal_pred = gbr_cal.predict(X_cal_test)\n",
    "mse_cal = mean_squared_error(y_cal_test, y_cal_pred)\n",
    "r2_cal = r2_score(y_cal_test, y_cal_pred)\n",
    "print(f'Gradient Boosting - MSE: {mse_cal:.2f}, R²: {r2_cal:.2f}')"
   ]
  },
  {
   "cell_type": "markdown",
   "id": "76299bbf",
   "metadata": {},
   "source": [
    "### XGBoost Regressor"
   ]
  },
  {
   "cell_type": "code",
   "execution_count": 5,
   "id": "095df8da",
   "metadata": {},
   "outputs": [
    {
     "name": "stdout",
     "output_type": "stream",
     "text": [
      "XGBoost - MSE: 0.22, R²: 0.83\n"
     ]
    }
   ],
   "source": [
    "xgb_cal = xgb.XGBRegressor(n_estimators=100, random_state=42, verbosity=0)\n",
    "xgb_cal.fit(X_cal_train, y_cal_train)\n",
    "y_cal_pred_xgb = xgb_cal.predict(X_cal_test)\n",
    "mse_cal_xgb = mean_squared_error(y_cal_test, y_cal_pred_xgb)\n",
    "r2_cal_xgb = r2_score(y_cal_test, y_cal_pred_xgb)\n",
    "print(f'XGBoost - MSE: {mse_cal_xgb:.2f}, R²: {r2_cal_xgb:.2f}')"
   ]
  },
  {
   "cell_type": "markdown",
   "id": "40af0c0f",
   "metadata": {},
   "source": [
    "### LightGBM Regressor"
   ]
  },
  {
   "cell_type": "code",
   "execution_count": 6,
   "id": "c04def78",
   "metadata": {},
   "outputs": [
    {
     "name": "stdout",
     "output_type": "stream",
     "text": [
      "[LightGBM] [Info] Auto-choosing col-wise multi-threading, the overhead of testing was 0.000430 seconds.\n",
      "You can set `force_col_wise=true` to remove the overhead.\n",
      "[LightGBM] [Info] Total Bins 1838\n",
      "[LightGBM] [Info] Number of data points in the train set: 16512, number of used features: 8\n",
      "[LightGBM] [Info] Start training from score 2.071947\n",
      "LightGBM - MSE: 0.21, R²: 0.84\n"
     ]
    }
   ],
   "source": [
    "lgbm_cal = lgb.LGBMRegressor(n_estimators=100, random_state=42)\n",
    "lgbm_cal.fit(X_cal_train, y_cal_train)\n",
    "y_cal_pred_lgbm = lgbm_cal.predict(X_cal_test)\n",
    "mse_cal_lgbm = mean_squared_error(y_cal_test, y_cal_pred_lgbm)\n",
    "r2_cal_lgbm = r2_score(y_cal_test, y_cal_pred_lgbm)\n",
    "print(f'LightGBM - MSE: {mse_cal_lgbm:.2f}, R²: {r2_cal_lgbm:.2f}')"
   ]
  },
  {
   "cell_type": "code",
   "execution_count": 8,
   "id": "09bf57a8",
   "metadata": {},
   "outputs": [
    {
     "data": {
      "text/html": [
       "<div>\n",
       "<style scoped>\n",
       "    .dataframe tbody tr th:only-of-type {\n",
       "        vertical-align: middle;\n",
       "    }\n",
       "\n",
       "    .dataframe tbody tr th {\n",
       "        vertical-align: top;\n",
       "    }\n",
       "\n",
       "    .dataframe thead th {\n",
       "        text-align: right;\n",
       "    }\n",
       "</style>\n",
       "<table border=\"1\" class=\"dataframe\">\n",
       "  <thead>\n",
       "    <tr style=\"text-align: right;\">\n",
       "      <th></th>\n",
       "      <th>Modelo</th>\n",
       "      <th>MSE</th>\n",
       "      <th>RMSE</th>\n",
       "      <th>R2</th>\n",
       "    </tr>\n",
       "  </thead>\n",
       "  <tbody>\n",
       "    <tr>\n",
       "      <th>0</th>\n",
       "      <td>AdaBoost</td>\n",
       "      <td>0.614478</td>\n",
       "      <td>0.783887</td>\n",
       "      <td>0.531079</td>\n",
       "    </tr>\n",
       "    <tr>\n",
       "      <th>1</th>\n",
       "      <td>GradientBoosting</td>\n",
       "      <td>0.293997</td>\n",
       "      <td>0.542215</td>\n",
       "      <td>0.775645</td>\n",
       "    </tr>\n",
       "    <tr>\n",
       "      <th>2</th>\n",
       "      <td>XGBoost</td>\n",
       "      <td>0.222590</td>\n",
       "      <td>0.471794</td>\n",
       "      <td>0.830137</td>\n",
       "    </tr>\n",
       "    <tr>\n",
       "      <th>3</th>\n",
       "      <td>LightGBM</td>\n",
       "      <td>0.214848</td>\n",
       "      <td>0.463517</td>\n",
       "      <td>0.836045</td>\n",
       "    </tr>\n",
       "  </tbody>\n",
       "</table>\n",
       "</div>"
      ],
      "text/plain": [
       "             Modelo       MSE      RMSE        R2\n",
       "0          AdaBoost  0.614478  0.783887  0.531079\n",
       "1  GradientBoosting  0.293997  0.542215  0.775645\n",
       "2           XGBoost  0.222590  0.471794  0.830137\n",
       "3          LightGBM  0.214848  0.463517  0.836045"
      ]
     },
     "metadata": {},
     "output_type": "display_data"
    },
    {
     "data": {
      "image/png": "[encoded data removed]",
      "text/plain": [
       "<Figure size 800x500 with 3 Axes>"
      ]
     },
     "metadata": {},
     "output_type": "display_data"
    }
   ],
   "source": [
    "# --- Comparativa California Housing (Regresión) ---\n",
    "rmse_cal_ada = mse_cal_ada ** 0.5\n",
    "rmse_cal = mse_cal ** 0.5\n",
    "rmse_cal_xgb = mse_cal_xgb ** 0.5\n",
    "rmse_cal_lgbm = mse_cal_lgbm ** 0.5\n",
    "resultados_cal = pd.DataFrame({\n",
    "    'Modelo': ['AdaBoost', 'GradientBoosting', 'XGBoost', 'LightGBM'],\n",
    "    'MSE': [mse_cal_ada, mse_cal, mse_cal_xgb, mse_cal_lgbm],\n",
    "    'RMSE': [rmse_cal_ada, rmse_cal, rmse_cal_xgb, rmse_cal_lgbm],\n",
    "    'R2': [r2_cal_ada, r2_cal, r2_cal_xgb, r2_cal_lgbm]\n",
    "})\n",
    "display(resultados_cal)\n",
    "resultados_cal.plot(x='Modelo', y=['MSE', 'RMSE', 'R2'], kind='bar', subplots=True, layout=(1,3), legend=False, title=['MSE','RMSE','R2'])\n",
    "plt.tight_layout()\n",
    "plt.show()"
   ]
  },
  {
   "cell_type": "markdown",
   "id": "1d30883b",
   "metadata": {},
   "source": [
    "- **MSE (Error Medio Cuadrático):** Cuanto más bajo, mejor. Indica el error promedio al predecir el precio de la vivienda.\n",
    "- **RMSE (Raíz del Error Medio Cuadrático):** Es la raíz cuadrada del MSE, se interpreta en las mismas unidades que la variable objetivo (precio de la vivienda). Cuanto más bajo, mejor.\n",
    "- **R2 (Coeficiente de determinación):** Cuanto más cerca de 1, mejor. Indica el porcentaje de variabilidad del precio explicado por el modelo.\n",
    "\n",
    "**Interpretación:**\n",
    "\n",
    "- **AdaBoost** tiene el peor desempeño (MSE y RMSE más altos, R2 más bajo), lo que indica que no es el modelo más adecuado para este problema de regresión.\n",
    "- **GradientBoosting** mejora notablemente el error y la capacidad explicativa respecto a AdaBoost.\n",
    "- **XGBoost** y **LightGBM** son los que mejor funcionan: tienen el menor error (MSE y RMSE) y el mayor R2, explicando más del 83% de la variabilidad del precio de la vivienda.\n",
    "- **LightGBM** es el que obtiene el mejor resultado global en este caso.\n",
    "\n",
    "**Conclusión:**\n",
    "Para este dataset, los modelos más avanzados (XGBoost y LightGBM) superan claramente a AdaBoost y al Gradient Boosting clásico, logrando predicciones más precisas y explicando mejor la variabilidad de los precios. Esto es habitual en problemas de regresión con datos complejos y muchas variables."
   ]
  },
  {
   "cell_type": "markdown",
   "id": "c6934d8d",
   "metadata": {},
   "source": [
    "---\n",
    "\n",
    "# 2️⃣ Diabetes: Clasificación con Boosting\n",
    "En esta sección aplicaremos todos los modelos de boosting al dataset Diabetes."
   ]
  },
  {
   "cell_type": "code",
   "execution_count": 9,
   "id": "2c4d2c87",
   "metadata": {},
   "outputs": [],
   "source": [
    "# --- Preparar datos Diabetes ---\n",
    "from sklearn.datasets import load_diabetes\n",
    "diabetes = load_diabetes()\n",
    "X_dia = pd.DataFrame(diabetes.data, columns=diabetes.feature_names)\n",
    "y_dia = (diabetes.target > diabetes.target.mean()).astype(int)  # 1 si avanzado, 0 si no\n",
    "from sklearn.preprocessing import StandardScaler\n",
    "scaler_dia = StandardScaler()\n",
    "X_dia_scaled = scaler_dia.fit_transform(X_dia)\n",
    "X_dia_train, X_dia_test, y_dia_train, y_dia_test = train_test_split(X_dia_scaled, y_dia, test_size=0.3, random_state=42)"
   ]
  },
  {
   "cell_type": "markdown",
   "id": "062ff10d",
   "metadata": {},
   "source": [
    "### AdaBoost Classifier"
   ]
  },
  {
   "cell_type": "code",
   "execution_count": 10,
   "id": "39ade713",
   "metadata": {},
   "outputs": [
    {
     "name": "stdout",
     "output_type": "stream",
     "text": [
      "AdaBoost - Accuracy: 0.75\n",
      "              precision    recall  f1-score   support\n",
      "\n",
      "           0       0.76      0.83      0.79        75\n",
      "           1       0.75      0.66      0.70        58\n",
      "\n",
      "    accuracy                           0.75       133\n",
      "   macro avg       0.75      0.74      0.74       133\n",
      "weighted avg       0.75      0.75      0.75       133\n",
      "\n"
     ]
    }
   ],
   "source": [
    "ada_dia = AdaBoostClassifier(n_estimators=100, random_state=42)\n",
    "ada_dia.fit(X_dia_train, y_dia_train)\n",
    "y_dia_pred_ada = ada_dia.predict(X_dia_test)\n",
    "acc_dia_ada = accuracy_score(y_dia_test, y_dia_pred_ada)\n",
    "print(f'AdaBoost - Accuracy: {acc_dia_ada:.2f}')\n",
    "print(classification_report(y_dia_test, y_dia_pred_ada))"
   ]
  },
  {
   "cell_type": "markdown",
   "id": "2673490f",
   "metadata": {},
   "source": [
    "### Gradient Boosting Classifier"
   ]
  },
  {
   "cell_type": "code",
   "execution_count": 11,
   "id": "be09cc45",
   "metadata": {},
   "outputs": [
    {
     "name": "stdout",
     "output_type": "stream",
     "text": [
      "Gradient Boosting - Accuracy: 0.75\n",
      "              precision    recall  f1-score   support\n",
      "\n",
      "           0       0.78      0.77      0.78        75\n",
      "           1       0.71      0.72      0.72        58\n",
      "\n",
      "    accuracy                           0.75       133\n",
      "   macro avg       0.75      0.75      0.75       133\n",
      "weighted avg       0.75      0.75      0.75       133\n",
      "\n"
     ]
    }
   ],
   "source": [
    "gbr_dia = GradientBoostingClassifier(n_estimators=100, random_state=42)\n",
    "gbr_dia.fit(X_dia_train, y_dia_train)\n",
    "y_dia_pred = gbr_dia.predict(X_dia_test)\n",
    "acc_dia = accuracy_score(y_dia_test, y_dia_pred)\n",
    "print(f'Gradient Boosting - Accuracy: {acc_dia:.2f}')\n",
    "print(classification_report(y_dia_test, y_dia_pred))"
   ]
  },
  {
   "cell_type": "markdown",
   "id": "519453a3",
   "metadata": {},
   "source": [
    "### XGBoost Classifier"
   ]
  },
  {
   "cell_type": "code",
   "execution_count": 12,
   "id": "bbea5698",
   "metadata": {},
   "outputs": [
    {
     "name": "stdout",
     "output_type": "stream",
     "text": [
      "XGBoost - Accuracy: 0.78\n",
      "              precision    recall  f1-score   support\n",
      "\n",
      "           0       0.80      0.81      0.81        75\n",
      "           1       0.75      0.74      0.75        58\n",
      "\n",
      "    accuracy                           0.78       133\n",
      "   macro avg       0.78      0.78      0.78       133\n",
      "weighted avg       0.78      0.78      0.78       133\n",
      "\n"
     ]
    }
   ],
   "source": [
    "xgb_dia = xgb.XGBClassifier(n_estimators=100, random_state=42, use_label_encoder=False, eval_metric='logloss', verbosity=0)\n",
    "xgb_dia.fit(X_dia_train, y_dia_train)\n",
    "y_dia_pred_xgb = xgb_dia.predict(X_dia_test)\n",
    "acc_dia_xgb = accuracy_score(y_dia_test, y_dia_pred_xgb)\n",
    "print(f'XGBoost - Accuracy: {acc_dia_xgb:.2f}')\n",
    "print(classification_report(y_dia_test, y_dia_pred_xgb))"
   ]
  },
  {
   "cell_type": "markdown",
   "id": "b1cb92ee",
   "metadata": {},
   "source": [
    "### LightGBM Classifier"
   ]
  },
  {
   "cell_type": "code",
   "execution_count": 13,
   "id": "22860886",
   "metadata": {},
   "outputs": [
    {
     "name": "stdout",
     "output_type": "stream",
     "text": [
      "[LightGBM] [Info] Number of positive: 137, number of negative: 172\n",
      "[LightGBM] [Info] Auto-choosing row-wise multi-threading, the overhead of testing was 0.000025 seconds.\n",
      "You can set `force_row_wise=true` to remove the overhead.\n",
      "And if memory is not enough, you can set `force_col_wise=true`.\n",
      "[LightGBM] [Info] Total Bins 545\n",
      "[LightGBM] [Info] Number of data points in the train set: 309, number of used features: 10\n",
      "[LightGBM] [Info] [binary:BoostFromScore]: pavg=0.443366 -> initscore=-0.227514\n",
      "[LightGBM] [Info] Start training from score -0.227514\n",
      "[LightGBM] [Warning] No further splits with positive gain, best gain: -inf\n",
      "[LightGBM] [Warning] No further splits with positive gain, best gain: -inf\n",
      "[LightGBM] [Warning] No further splits with positive gain, best gain: -inf\n",
      "[LightGBM] [Warning] No further splits with positive gain, best gain: -inf\n",
      "[LightGBM] [Warning] No further splits with positive gain, best gain: -inf\n",
      "[LightGBM] [Warning] No further splits with positive gain, best gain: -inf\n",
      "[LightGBM] [Warning] No further splits with positive gain, best gain: -inf\n",
      "[LightGBM] [Warning] No further splits with positive gain, best gain: -inf\n",
      "[LightGBM] [Warning] No further splits with positive gain, best gain: -inf\n",
      "[LightGBM] [Warning] No further splits with positive gain, best gain: -inf\n",
      "[LightGBM] [Warning] No further splits with positive gain, best gain: -inf\n",
      "[LightGBM] [Warning] No further splits with positive gain, best gain: -inf\n",
      "[LightGBM] [Warning] No further splits with positive gain, best gain: -inf\n",
      "[LightGBM] [Warning] No further splits with positive gain, best gain: -inf\n",
      "[LightGBM] [Warning] No further splits with positive gain, best gain: -inf\n",
      "[LightGBM] [Warning] No further splits with positive gain, best gain: -inf\n",
      "[LightGBM] [Warning] No further splits with positive gain, best gain: -inf\n",
      "[LightGBM] [Warning] No further splits with positive gain, best gain: -inf\n",
      "[LightGBM] [Warning] No further splits with positive gain, best gain: -inf\n",
      "[LightGBM] [Warning] No further splits with positive gain, best gain: -inf\n",
      "[LightGBM] [Warning] No further splits with positive gain, best gain: -inf\n",
      "[LightGBM] [Warning] No further splits with positive gain, best gain: -inf\n",
      "[LightGBM] [Warning] No further splits with positive gain, best gain: -inf\n",
      "[LightGBM] [Warning] No further splits with positive gain, best gain: -inf\n",
      "[LightGBM] [Warning] No further splits with positive gain, best gain: -inf\n",
      "[LightGBM] [Warning] No further splits with positive gain, best gain: -inf\n",
      "[LightGBM] [Warning] No further splits with positive gain, best gain: -inf\n",
      "[LightGBM] [Warning] No further splits with positive gain, best gain: -inf\n",
      "[LightGBM] [Warning] No further splits with positive gain, best gain: -inf\n",
      "[LightGBM] [Warning] No further splits with positive gain, best gain: -inf\n",
      "[LightGBM] [Warning] No further splits with positive gain, best gain: -inf\n",
      "[LightGBM] [Warning] No further splits with positive gain, best gain: -inf\n",
      "[LightGBM] [Warning] No further splits with positive gain, best gain: -inf\n",
      "[LightGBM] [Warning] No further splits with positive gain, best gain: -inf\n",
      "[LightGBM] [Warning] No further splits with positive gain, best gain: -inf\n",
      "[LightGBM] [Warning] No further splits with positive gain, best gain: -inf\n",
      "[LightGBM] [Warning] No further splits with positive gain, best gain: -inf\n",
      "[LightGBM] [Warning] No further splits with positive gain, best gain: -inf\n",
      "[LightGBM] [Warning] No further splits with positive gain, best gain: -inf\n",
      "[LightGBM] [Warning] No further splits with positive gain, best gain: -inf\n",
      "[LightGBM] [Warning] No further splits with positive gain, best gain: -inf\n",
      "[LightGBM] [Warning] No further splits with positive gain, best gain: -inf\n",
      "[LightGBM] [Warning] No further splits with positive gain, best gain: -inf\n",
      "[LightGBM] [Warning] No further splits with positive gain, best gain: -inf\n",
      "[LightGBM] [Warning] No further splits with positive gain, best gain: -inf\n",
      "[LightGBM] [Warning] No further splits with positive gain, best gain: -inf\n",
      "[LightGBM] [Warning] No further splits with positive gain, best gain: -inf\n",
      "[LightGBM] [Warning] No further splits with positive gain, best gain: -inf\n",
      "[LightGBM] [Warning] No further splits with positive gain, best gain: -inf\n",
      "[LightGBM] [Warning] No further splits with positive gain, best gain: -inf\n",
      "[LightGBM] [Warning] No further splits with positive gain, best gain: -inf\n",
      "[LightGBM] [Warning] No further splits with positive gain, best gain: -inf\n",
      "[LightGBM] [Warning] No further splits with positive gain, best gain: -inf\n",
      "[LightGBM] [Warning] No further splits with positive gain, best gain: -inf\n",
      "[LightGBM] [Warning] No further splits with positive gain, best gain: -inf\n",
      "[LightGBM] [Warning] No further splits with positive gain, best gain: -inf\n",
      "[LightGBM] [Warning] No further splits with positive gain, best gain: -inf\n",
      "[LightGBM] [Warning] No further splits with positive gain, best gain: -inf\n",
      "[LightGBM] [Warning] No further splits with positive gain, best gain: -inf\n",
      "[LightGBM] [Warning] No further splits with positive gain, best gain: -inf\n",
      "[LightGBM] [Warning] No further splits with positive gain, best gain: -inf\n",
      "[LightGBM] [Warning] No further splits with positive gain, best gain: -inf\n",
      "[LightGBM] [Warning] No further splits with positive gain, best gain: -inf\n",
      "[LightGBM] [Warning] No further splits with positive gain, best gain: -inf\n",
      "[LightGBM] [Warning] No further splits with positive gain, best gain: -inf\n",
      "[LightGBM] [Warning] No further splits with positive gain, best gain: -inf\n",
      "[LightGBM] [Warning] No further splits with positive gain, best gain: -inf\n",
      "[LightGBM] [Warning] No further splits with positive gain, best gain: -inf\n",
      "[LightGBM] [Warning] No further splits with positive gain, best gain: -inf\n",
      "[LightGBM] [Warning] No further splits with positive gain, best gain: -inf\n",
      "[LightGBM] [Warning] No further splits with positive gain, best gain: -inf\n",
      "[LightGBM] [Warning] No further splits with positive gain, best gain: -inf\n",
      "[LightGBM] [Warning] No further splits with positive gain, best gain: -inf\n",
      "[LightGBM] [Warning] No further splits with positive gain, best gain: -inf\n",
      "[LightGBM] [Warning] No further splits with positive gain, best gain: -inf\n",
      "[LightGBM] [Warning] No further splits with positive gain, best gain: -inf\n",
      "[LightGBM] [Warning] No further splits with positive gain, best gain: -inf\n",
      "[LightGBM] [Warning] No further splits with positive gain, best gain: -inf\n",
      "[LightGBM] [Warning] No further splits with positive gain, best gain: -inf\n",
      "[LightGBM] [Warning] No further splits with positive gain, best gain: -inf\n",
      "[LightGBM] [Warning] No further splits with positive gain, best gain: -inf\n",
      "[LightGBM] [Warning] No further splits with positive gain, best gain: -inf\n",
      "[LightGBM] [Warning] No further splits with positive gain, best gain: -inf\n",
      "[LightGBM] [Warning] No further splits with positive gain, best gain: -inf\n",
      "[LightGBM] [Warning] No further splits with positive gain, best gain: -inf\n",
      "[LightGBM] [Warning] No further splits with positive gain, best gain: -inf\n",
      "[LightGBM] [Warning] No further splits with positive gain, best gain: -inf\n",
      "[LightGBM] [Warning] No further splits with positive gain, best gain: -inf\n",
      "[LightGBM] [Warning] No further splits with positive gain, best gain: -inf\n",
      "[LightGBM] [Warning] No further splits with positive gain, best gain: -inf\n",
      "[LightGBM] [Warning] No further splits with positive gain, best gain: -inf\n",
      "[LightGBM] [Warning] No further splits with positive gain, best gain: -inf\n",
      "[LightGBM] [Warning] No further splits with positive gain, best gain: -inf\n",
      "[LightGBM] [Warning] No further splits with positive gain, best gain: -inf\n",
      "[LightGBM] [Warning] No further splits with positive gain, best gain: -inf\n",
      "[LightGBM] [Warning] No further splits with positive gain, best gain: -inf\n",
      "[LightGBM] [Warning] No further splits with positive gain, best gain: -inf\n",
      "[LightGBM] [Warning] No further splits with positive gain, best gain: -inf\n",
      "[LightGBM] [Warning] No further splits with positive gain, best gain: -inf\n",
      "[LightGBM] [Warning] No further splits with positive gain, best gain: -inf\n",
      "LightGBM - Accuracy: 0.75\n",
      "              precision    recall  f1-score   support\n",
      "\n",
      "           0       0.78      0.77      0.78        75\n",
      "           1       0.71      0.72      0.72        58\n",
      "\n",
      "    accuracy                           0.75       133\n",
      "   macro avg       0.75      0.75      0.75       133\n",
      "weighted avg       0.75      0.75      0.75       133\n",
      "\n"
     ]
    },
    {
     "name": "stderr",
     "output_type": "stream",
     "text": [
      "C:\\Users\\Jaf\\AppData\\Roaming\\Python\\Python313\\site-packages\\sklearn\\utils\\validation.py:2749: UserWarning: X does not have valid feature names, but LGBMClassifier was fitted with feature names\n",
      "  warnings.warn(\n"
     ]
    }
   ],
   "source": [
    "lgbm_dia = lgb.LGBMClassifier(n_estimators=100, random_state=42)\n",
    "lgbm_dia.fit(X_dia_train, y_dia_train)\n",
    "y_dia_pred_lgbm = lgbm_dia.predict(X_dia_test)\n",
    "acc_dia_lgbm = accuracy_score(y_dia_test, y_dia_pred_lgbm)\n",
    "print(f'LightGBM - Accuracy: {acc_dia_lgbm:.2f}')\n",
    "print(classification_report(y_dia_test, y_dia_pred_lgbm))"
   ]
  },
  {
   "cell_type": "code",
   "execution_count": 15,
   "id": "49dfddf0",
   "metadata": {},
   "outputs": [
    {
     "data": {
      "text/html": [
       "<div>\n",
       "<style scoped>\n",
       "    .dataframe tbody tr th:only-of-type {\n",
       "        vertical-align: middle;\n",
       "    }\n",
       "\n",
       "    .dataframe tbody tr th {\n",
       "        vertical-align: top;\n",
       "    }\n",
       "\n",
       "    .dataframe thead th {\n",
       "        text-align: right;\n",
       "    }\n",
       "</style>\n",
       "<table border=\"1\" class=\"dataframe\">\n",
       "  <thead>\n",
       "    <tr style=\"text-align: right;\">\n",
       "      <th></th>\n",
       "      <th>Modelo</th>\n",
       "      <th>Accuracy</th>\n",
       "      <th>Precision</th>\n",
       "      <th>Recall</th>\n",
       "      <th>F1-score</th>\n",
       "    </tr>\n",
       "  </thead>\n",
       "  <tbody>\n",
       "    <tr>\n",
       "      <th>0</th>\n",
       "      <td>AdaBoost</td>\n",
       "      <td>0.751880</td>\n",
       "      <td>0.745098</td>\n",
       "      <td>0.655172</td>\n",
       "      <td>0.697248</td>\n",
       "    </tr>\n",
       "    <tr>\n",
       "      <th>1</th>\n",
       "      <td>GradientBoosting</td>\n",
       "      <td>0.751880</td>\n",
       "      <td>0.711864</td>\n",
       "      <td>0.724138</td>\n",
       "      <td>0.717949</td>\n",
       "    </tr>\n",
       "    <tr>\n",
       "      <th>2</th>\n",
       "      <td>XGBoost</td>\n",
       "      <td>0.781955</td>\n",
       "      <td>0.754386</td>\n",
       "      <td>0.741379</td>\n",
       "      <td>0.747826</td>\n",
       "    </tr>\n",
       "    <tr>\n",
       "      <th>3</th>\n",
       "      <td>LightGBM</td>\n",
       "      <td>0.751880</td>\n",
       "      <td>0.711864</td>\n",
       "      <td>0.724138</td>\n",
       "      <td>0.717949</td>\n",
       "    </tr>\n",
       "  </tbody>\n",
       "</table>\n",
       "</div>"
      ],
      "text/plain": [
       "             Modelo  Accuracy  Precision    Recall  F1-score\n",
       "0          AdaBoost  0.751880   0.745098  0.655172  0.697248\n",
       "1  GradientBoosting  0.751880   0.711864  0.724138  0.717949\n",
       "2           XGBoost  0.781955   0.754386  0.741379  0.747826\n",
       "3          LightGBM  0.751880   0.711864  0.724138  0.717949"
      ]
     },
     "metadata": {},
     "output_type": "display_data"
    },
    {
     "data": {
      "image/png": "[encoded data removed]",
      "text/plain": [
       "<Figure size 800x500 with 4 Axes>"
      ]
     },
     "metadata": {},
     "output_type": "display_data"
    }
   ],
   "source": [
    "# --- Comparativa Diabetes (Clasificación) ---\n",
    "from sklearn.metrics import precision_score, recall_score, f1_score\n",
    "\n",
    "# Calcular métricas adicionales para cada modelo\n",
    "precision_dia_ada = precision_score(y_dia_test, y_dia_pred_ada)\n",
    "recall_dia_ada = recall_score(y_dia_test, y_dia_pred_ada)\n",
    "f1_dia_ada = f1_score(y_dia_test, y_dia_pred_ada)\n",
    "\n",
    "precision_dia = precision_score(y_dia_test, y_dia_pred)\n",
    "recall_dia = recall_score(y_dia_test, y_dia_pred)\n",
    "f1_dia = f1_score(y_dia_test, y_dia_pred)\n",
    "\n",
    "precision_dia_xgb = precision_score(y_dia_test, y_dia_pred_xgb)\n",
    "recall_dia_xgb = recall_score(y_dia_test, y_dia_pred_xgb)\n",
    "f1_dia_xgb = f1_score(y_dia_test, y_dia_pred_xgb)\n",
    "\n",
    "precision_dia_lgbm = precision_score(y_dia_test, y_dia_pred_lgbm)\n",
    "recall_dia_lgbm = recall_score(y_dia_test, y_dia_pred_lgbm)\n",
    "f1_dia_lgbm = f1_score(y_dia_test, y_dia_pred_lgbm)\n",
    "\n",
    "resultados_dia = pd.DataFrame({\n",
    "    'Modelo': ['AdaBoost', 'GradientBoosting', 'XGBoost', 'LightGBM'],\n",
    "    'Accuracy': [acc_dia_ada, acc_dia, acc_dia_xgb, acc_dia_lgbm],\n",
    "    'Precision': [precision_dia_ada, precision_dia, precision_dia_xgb, precision_dia_lgbm],\n",
    "    'Recall': [recall_dia_ada, recall_dia, recall_dia_xgb, recall_dia_lgbm],\n",
    "    'F1-score': [f1_dia_ada, f1_dia, f1_dia_xgb, f1_dia_lgbm]\n",
    "})\n",
    "display(resultados_dia)\n",
    "resultados_dia.plot(x='Modelo', y=['Accuracy', 'Precision', 'Recall', 'F1-score'], kind='bar', subplots=True, layout=(2,2), legend=False, title=['Accuracy','Precision','Recall','F1-score'])\n",
    "plt.tight_layout()\n",
    "plt.show()"
   ]
  },
  {
   "cell_type": "markdown",
   "id": "e1fd12c5",
   "metadata": {},
   "source": [
    "**Interpretación de las métricas para Diabetes (clasificación):**\n",
    "\n",
    "- **Accuracy:** Proporción de aciertos totales. Todos los modelos tienen una accuracy similar (~0.75-0.78), pero XGBoost destaca ligeramente.\n",
    "- **Precision:** Proporción de positivos predichos que realmente lo son. AdaBoost tiene la mayor precisión, pero a costa de un menor recall.\n",
    "- **Recall:** Proporción de positivos reales que el modelo identifica correctamente. GradientBoosting, XGBoost y LightGBM tienen mejor recall que AdaBoost, lo que significa que detectan más casos positivos.\n",
    "- **F1-score:** Media armónica entre precisión y recall. XGBoost obtiene el mejor F1-score, lo que indica un equilibrio óptimo entre precisión y recall.\n",
    "\n",
    "**Conclusión:**\n",
    "- **XGBoost** es el modelo más equilibrado y con mejor rendimiento global para este problema, ya que maximiza tanto la precisión como el recall, logrando el mayor F1-score y accuracy.\n",
    "- **AdaBoost** es más conservador: predice menos positivos, pero cuando lo hace suele acertar (alta precisión, bajo recall).\n",
    "- **GradientBoosting** y **LightGBM** logran un buen equilibrio, pero no superan a XGBoost.\n",
    "\n",
    "**Recomendación:**\n",
    "Para este dataset, XGBoost es la mejor opción si se busca un modelo robusto y equilibrado. Si se prefiere minimizar falsos positivos, AdaBoost puede ser útil, pero a costa de dejar escapar más casos positivos reales."
   ]
  },
  {
   "cell_type": "markdown",
   "id": "010dbeed",
   "metadata": {},
   "source": [
    "---\n",
    "\n",
    "# 3️⃣ Titanic: Clasificación con Boosting\n",
    "En esta sección aplicaremos todos los modelos de boosting al dataset Titanic."
   ]
  },
  {
   "cell_type": "code",
   "execution_count": 16,
   "id": "eecf23aa",
   "metadata": {},
   "outputs": [
    {
     "name": "stderr",
     "output_type": "stream",
     "text": [
      "C:\\Users\\Jaf\\AppData\\Local\\Temp\\ipykernel_20664\\741399263.py:5: FutureWarning: A value is trying to be set on a copy of a DataFrame or Series through chained assignment using an inplace method.\n",
      "The behavior will change in pandas 3.0. This inplace method will never work because the intermediate object on which we are setting values always behaves as a copy.\n",
      "\n",
      "For example, when doing 'df[col].method(value, inplace=True)', try using 'df.method({col: value}, inplace=True)' or df[col] = df[col].method(value) instead, to perform the operation inplace on the original object.\n",
      "\n",
      "\n",
      "  df_titanic['Age'].fillna(df_titanic['Age'].median(), inplace=True)\n",
      "C:\\Users\\Jaf\\AppData\\Local\\Temp\\ipykernel_20664\\741399263.py:6: FutureWarning: A value is trying to be set on a copy of a DataFrame or Series through chained assignment using an inplace method.\n",
      "The behavior will change in pandas 3.0. This inplace method will never work because the intermediate object on which we are setting values always behaves as a copy.\n",
      "\n",
      "For example, when doing 'df[col].method(value, inplace=True)', try using 'df.method({col: value}, inplace=True)' or df[col] = df[col].method(value) instead, to perform the operation inplace on the original object.\n",
      "\n",
      "\n",
      "  df_titanic['Embarked'].fillna(df_titanic['Embarked'].mode()[0], inplace=True)\n"
     ]
    }
   ],
   "source": [
    "# --- Preparar datos Titanic ---\n",
    "url_titanic = 'https://raw.githubusercontent.com/datasciencedojo/datasets/master/titanic.csv'\n",
    "df_titanic = pd.read_csv(url_titanic)\n",
    "# Limpieza básica\n",
    "df_titanic['Age'].fillna(df_titanic['Age'].median(), inplace=True)\n",
    "df_titanic['Embarked'].fillna(df_titanic['Embarked'].mode()[0], inplace=True)\n",
    "df_titanic['FamilySize'] = df_titanic['SibSp'] + df_titanic['Parch'] + 1\n",
    "df_titanic['IsAlone'] = (df_titanic['FamilySize'] == 1).astype(int)\n",
    "df_titanic['Title'] = df_titanic['Name'].str.extract(' ([A-Za-z]+)\\\\.', expand=False)\n",
    "title_mapping = {\n",
    "    'Mr': 'Mr', 'Miss': 'Miss', 'Mrs': 'Mrs', 'Master': 'Master',\n",
    "    'Dr': 'Rare', 'Rev': 'Rare', 'Col': 'Rare', 'Major': 'Rare',\n",
    "    'Mlle': 'Miss', 'Countess': 'Rare', 'Ms': 'Miss', 'Lady': 'Rare',\n",
    "    'Jonkheer': 'Rare', 'Don': 'Rare', 'Dona': 'Rare', 'Mme': 'Mrs',\n",
    "    'Capt': 'Rare', 'Sir': 'Rare'\n",
    "}\n",
    "df_titanic['Title'] = df_titanic['Title'].map(title_mapping)\n",
    "# Codificar variables categóricas\n",
    "from sklearn.preprocessing import LabelEncoder\n",
    "for col in ['Sex', 'Embarked', 'Title']:\n",
    "    le = LabelEncoder()\n",
    "    df_titanic[col] = le.fit_transform(df_titanic[col].astype(str))\n",
    "# Selección de variables\n",
    "features_titanic = ['Pclass', 'Sex', 'Age', 'SibSp', 'Parch', 'Fare', 'Embarked', 'FamilySize', 'IsAlone', 'Title']\n",
    "X_tit = df_titanic[features_titanic]\n",
    "y_tit = df_titanic['Survived']\n",
    "from sklearn.preprocessing import StandardScaler\n",
    "scaler_tit = StandardScaler()\n",
    "X_tit_scaled = scaler_tit.fit_transform(X_tit)\n",
    "X_tit_train, X_tit_test, y_tit_train, y_tit_test = train_test_split(X_tit_scaled, y_tit, test_size=0.3, random_state=42, stratify=y_tit)"
   ]
  },
  {
   "cell_type": "markdown",
   "id": "1c98cbfd",
   "metadata": {},
   "source": [
    "### AdaBoost Classifier"
   ]
  },
  {
   "cell_type": "code",
   "execution_count": 17,
   "id": "e79d821e",
   "metadata": {},
   "outputs": [
    {
     "name": "stdout",
     "output_type": "stream",
     "text": [
      "AdaBoost - Accuracy: 0.81\n",
      "              precision    recall  f1-score   support\n",
      "\n",
      "           0       0.85      0.84      0.85       165\n",
      "           1       0.75      0.77      0.76       103\n",
      "\n",
      "    accuracy                           0.81       268\n",
      "   macro avg       0.80      0.80      0.80       268\n",
      "weighted avg       0.81      0.81      0.81       268\n",
      "\n"
     ]
    }
   ],
   "source": [
    "ada_tit = AdaBoostClassifier(n_estimators=100, random_state=42)\n",
    "ada_tit.fit(X_tit_train, y_tit_train)\n",
    "y_tit_pred_ada = ada_tit.predict(X_tit_test)\n",
    "acc_tit_ada = accuracy_score(y_tit_test, y_tit_pred_ada)\n",
    "print(f'AdaBoost - Accuracy: {acc_tit_ada:.2f}')\n",
    "print(classification_report(y_tit_test, y_tit_pred_ada))"
   ]
  },
  {
   "cell_type": "markdown",
   "id": "e3a5ed48",
   "metadata": {},
   "source": [
    "### Gradient Boosting Classifier"
   ]
  },
  {
   "cell_type": "code",
   "execution_count": 18,
   "id": "dd169da0",
   "metadata": {},
   "outputs": [
    {
     "name": "stdout",
     "output_type": "stream",
     "text": [
      "Gradient Boosting - Accuracy: 0.80\n",
      "              precision    recall  f1-score   support\n",
      "\n",
      "           0       0.79      0.91      0.85       165\n",
      "           1       0.81      0.62      0.70       103\n",
      "\n",
      "    accuracy                           0.80       268\n",
      "   macro avg       0.80      0.77      0.78       268\n",
      "weighted avg       0.80      0.80      0.79       268\n",
      "\n"
     ]
    }
   ],
   "source": [
    "gbr_tit = GradientBoostingClassifier(n_estimators=100, random_state=42)\n",
    "gbr_tit.fit(X_tit_train, y_tit_train)\n",
    "y_tit_pred = gbr_tit.predict(X_tit_test)\n",
    "acc_tit = accuracy_score(y_tit_test, y_tit_pred)\n",
    "print(f'Gradient Boosting - Accuracy: {acc_tit:.2f}')\n",
    "print(classification_report(y_tit_test, y_tit_pred))"
   ]
  },
  {
   "cell_type": "markdown",
   "id": "110ae36f",
   "metadata": {},
   "source": [
    "### XGBoost Classifier"
   ]
  },
  {
   "cell_type": "code",
   "execution_count": 19,
   "id": "71dfbf87",
   "metadata": {},
   "outputs": [
    {
     "name": "stdout",
     "output_type": "stream",
     "text": [
      "XGBoost - Accuracy: 0.79\n",
      "              precision    recall  f1-score   support\n",
      "\n",
      "           0       0.80      0.87      0.83       165\n",
      "           1       0.76      0.66      0.70       103\n",
      "\n",
      "    accuracy                           0.79       268\n",
      "   macro avg       0.78      0.76      0.77       268\n",
      "weighted avg       0.78      0.79      0.78       268\n",
      "\n"
     ]
    }
   ],
   "source": [
    "xgb_tit = xgb.XGBClassifier(n_estimators=100, random_state=42, use_label_encoder=False, eval_metric='logloss', verbosity=0)\n",
    "xgb_tit.fit(X_tit_train, y_tit_train)\n",
    "y_tit_pred_xgb = xgb_tit.predict(X_tit_test)\n",
    "acc_tit_xgb = accuracy_score(y_tit_test, y_tit_pred_xgb)\n",
    "print(f'XGBoost - Accuracy: {acc_tit_xgb:.2f}')\n",
    "print(classification_report(y_tit_test, y_tit_pred_xgb))"
   ]
  },
  {
   "cell_type": "markdown",
   "id": "ef91ace1",
   "metadata": {},
   "source": [
    "### LightGBM Classifier"
   ]
  },
  {
   "cell_type": "code",
   "execution_count": 20,
   "id": "42bad681",
   "metadata": {},
   "outputs": [
    {
     "name": "stdout",
     "output_type": "stream",
     "text": [
      "[LightGBM] [Info] Number of positive: 239, number of negative: 384\n",
      "[LightGBM] [Info] Auto-choosing col-wise multi-threading, the overhead of testing was 0.000058 seconds.\n",
      "You can set `force_col_wise=true` to remove the overhead.\n",
      "[LightGBM] [Info] Total Bins 217\n",
      "[LightGBM] [Info] Number of data points in the train set: 623, number of used features: 10\n",
      "[LightGBM] [Info] [binary:BoostFromScore]: pavg=0.383628 -> initscore=-0.474179\n",
      "[LightGBM] [Info] Start training from score -0.474179\n",
      "[LightGBM] [Warning] No further splits with positive gain, best gain: -inf\n",
      "[LightGBM] [Warning] No further splits with positive gain, best gain: -inf\n",
      "[LightGBM] [Warning] No further splits with positive gain, best gain: -inf\n",
      "[LightGBM] [Warning] No further splits with positive gain, best gain: -inf\n",
      "[LightGBM] [Warning] No further splits with positive gain, best gain: -inf\n",
      "[LightGBM] [Warning] No further splits with positive gain, best gain: -inf\n",
      "[LightGBM] [Warning] No further splits with positive gain, best gain: -inf\n",
      "[LightGBM] [Warning] No further splits with positive gain, best gain: -inf\n",
      "[LightGBM] [Warning] No further splits with positive gain, best gain: -inf\n",
      "[LightGBM] [Warning] No further splits with positive gain, best gain: -inf\n",
      "[LightGBM] [Warning] No further splits with positive gain, best gain: -inf\n",
      "[LightGBM] [Warning] No further splits with positive gain, best gain: -inf\n",
      "[LightGBM] [Warning] No further splits with positive gain, best gain: -inf\n",
      "[LightGBM] [Warning] No further splits with positive gain, best gain: -inf\n",
      "[LightGBM] [Warning] No further splits with positive gain, best gain: -inf\n",
      "[LightGBM] [Warning] No further splits with positive gain, best gain: -inf\n",
      "[LightGBM] [Warning] No further splits with positive gain, best gain: -inf\n",
      "[LightGBM] [Warning] No further splits with positive gain, best gain: -inf\n",
      "[LightGBM] [Warning] No further splits with positive gain, best gain: -inf\n",
      "[LightGBM] [Warning] No further splits with positive gain, best gain: -inf\n",
      "[LightGBM] [Warning] No further splits with positive gain, best gain: -inf\n",
      "[LightGBM] [Warning] No further splits with positive gain, best gain: -inf\n",
      "[LightGBM] [Warning] No further splits with positive gain, best gain: -inf\n",
      "[LightGBM] [Warning] No further splits with positive gain, best gain: -inf\n",
      "[LightGBM] [Warning] No further splits with positive gain, best gain: -inf\n",
      "[LightGBM] [Warning] No further splits with positive gain, best gain: -inf\n",
      "[LightGBM] [Warning] No further splits with positive gain, best gain: -inf\n",
      "[LightGBM] [Warning] No further splits with positive gain, best gain: -inf\n",
      "[LightGBM] [Warning] No further splits with positive gain, best gain: -inf\n",
      "[LightGBM] [Warning] No further splits with positive gain, best gain: -inf\n",
      "[LightGBM] [Warning] No further splits with positive gain, best gain: -inf\n",
      "[LightGBM] [Warning] No further splits with positive gain, best gain: -inf\n",
      "[LightGBM] [Warning] No further splits with positive gain, best gain: -inf\n",
      "[LightGBM] [Warning] No further splits with positive gain, best gain: -inf\n",
      "[LightGBM] [Warning] No further splits with positive gain, best gain: -inf\n",
      "[LightGBM] [Warning] No further splits with positive gain, best gain: -inf\n",
      "[LightGBM] [Warning] No further splits with positive gain, best gain: -inf\n",
      "[LightGBM] [Warning] No further splits with positive gain, best gain: -inf\n",
      "[LightGBM] [Warning] No further splits with positive gain, best gain: -inf\n",
      "[LightGBM] [Warning] No further splits with positive gain, best gain: -inf\n",
      "[LightGBM] [Warning] No further splits with positive gain, best gain: -inf\n",
      "[LightGBM] [Warning] No further splits with positive gain, best gain: -inf\n",
      "[LightGBM] [Warning] No further splits with positive gain, best gain: -inf\n",
      "[LightGBM] [Warning] No further splits with positive gain, best gain: -inf\n",
      "[LightGBM] [Warning] No further splits with positive gain, best gain: -inf\n",
      "[LightGBM] [Warning] No further splits with positive gain, best gain: -inf\n",
      "[LightGBM] [Warning] No further splits with positive gain, best gain: -inf\n",
      "[LightGBM] [Warning] No further splits with positive gain, best gain: -inf\n",
      "[LightGBM] [Warning] No further splits with positive gain, best gain: -inf\n",
      "[LightGBM] [Warning] No further splits with positive gain, best gain: -inf\n",
      "[LightGBM] [Warning] No further splits with positive gain, best gain: -inf\n",
      "[LightGBM] [Warning] No further splits with positive gain, best gain: -inf\n",
      "[LightGBM] [Warning] No further splits with positive gain, best gain: -inf\n",
      "[LightGBM] [Warning] No further splits with positive gain, best gain: -inf\n",
      "[LightGBM] [Warning] No further splits with positive gain, best gain: -inf\n",
      "[LightGBM] [Warning] No further splits with positive gain, best gain: -inf\n",
      "[LightGBM] [Warning] No further splits with positive gain, best gain: -inf\n",
      "[LightGBM] [Warning] No further splits with positive gain, best gain: -inf\n",
      "[LightGBM] [Warning] No further splits with positive gain, best gain: -inf\n",
      "[LightGBM] [Warning] No further splits with positive gain, best gain: -inf\n",
      "[LightGBM] [Warning] No further splits with positive gain, best gain: -inf\n",
      "[LightGBM] [Warning] No further splits with positive gain, best gain: -inf\n",
      "[LightGBM] [Warning] No further splits with positive gain, best gain: -inf\n",
      "[LightGBM] [Warning] No further splits with positive gain, best gain: -inf\n",
      "[LightGBM] [Warning] No further splits with positive gain, best gain: -inf\n",
      "[LightGBM] [Warning] No further splits with positive gain, best gain: -inf\n",
      "[LightGBM] [Warning] No further splits with positive gain, best gain: -inf\n",
      "[LightGBM] [Warning] No further splits with positive gain, best gain: -inf\n",
      "[LightGBM] [Warning] No further splits with positive gain, best gain: -inf\n",
      "[LightGBM] [Warning] No further splits with positive gain, best gain: -inf\n",
      "[LightGBM] [Warning] No further splits with positive gain, best gain: -inf\n",
      "[LightGBM] [Warning] No further splits with positive gain, best gain: -inf\n",
      "[LightGBM] [Warning] No further splits with positive gain, best gain: -inf\n",
      "[LightGBM] [Warning] No further splits with positive gain, best gain: -inf\n",
      "[LightGBM] [Warning] No further splits with positive gain, best gain: -inf\n",
      "[LightGBM] [Warning] No further splits with positive gain, best gain: -inf\n",
      "[LightGBM] [Warning] No further splits with positive gain, best gain: -inf\n",
      "[LightGBM] [Warning] No further splits with positive gain, best gain: -inf\n",
      "[LightGBM] [Warning] No further splits with positive gain, best gain: -inf\n",
      "[LightGBM] [Warning] No further splits with positive gain, best gain: -inf\n",
      "[LightGBM] [Warning] No further splits with positive gain, best gain: -inf\n",
      "[LightGBM] [Warning] No further splits with positive gain, best gain: -inf\n",
      "[LightGBM] [Warning] No further splits with positive gain, best gain: -inf\n",
      "[LightGBM] [Warning] No further splits with positive gain, best gain: -inf\n",
      "[LightGBM] [Warning] No further splits with positive gain, best gain: -inf\n",
      "[LightGBM] [Warning] No further splits with positive gain, best gain: -inf\n",
      "[LightGBM] [Warning] No further splits with positive gain, best gain: -inf\n",
      "[LightGBM] [Warning] No further splits with positive gain, best gain: -inf\n",
      "[LightGBM] [Warning] No further splits with positive gain, best gain: -inf\n",
      "[LightGBM] [Warning] No further splits with positive gain, best gain: -inf\n",
      "[LightGBM] [Warning] No further splits with positive gain, best gain: -inf\n",
      "[LightGBM] [Warning] No further splits with positive gain, best gain: -inf\n",
      "[LightGBM] [Warning] No further splits with positive gain, best gain: -inf\n",
      "[LightGBM] [Warning] No further splits with positive gain, best gain: -inf\n",
      "[LightGBM] [Warning] No further splits with positive gain, best gain: -inf\n",
      "[LightGBM] [Warning] No further splits with positive gain, best gain: -inf\n",
      "[LightGBM] [Warning] No further splits with positive gain, best gain: -inf\n",
      "[LightGBM] [Warning] No further splits with positive gain, best gain: -inf\n",
      "[LightGBM] [Warning] No further splits with positive gain, best gain: -inf\n",
      "[LightGBM] [Warning] No further splits with positive gain, best gain: -inf\n",
      "LightGBM - Accuracy: 0.79\n",
      "              precision    recall  f1-score   support\n",
      "\n",
      "           0       0.80      0.87      0.83       165\n",
      "           1       0.76      0.66      0.70       103\n",
      "\n",
      "    accuracy                           0.79       268\n",
      "   macro avg       0.78      0.76      0.77       268\n",
      "weighted avg       0.78      0.79      0.78       268\n",
      "\n"
     ]
    },
    {
     "name": "stderr",
     "output_type": "stream",
     "text": [
      "C:\\Users\\Jaf\\AppData\\Roaming\\Python\\Python313\\site-packages\\sklearn\\utils\\validation.py:2749: UserWarning: X does not have valid feature names, but LGBMClassifier was fitted with feature names\n",
      "  warnings.warn(\n"
     ]
    }
   ],
   "source": [
    "lgbm_tit = lgb.LGBMClassifier(n_estimators=100, random_state=42)\n",
    "lgbm_tit.fit(X_tit_train, y_tit_train)\n",
    "y_tit_pred_lgbm = lgbm_tit.predict(X_tit_test)\n",
    "acc_tit_lgbm = accuracy_score(y_tit_test, y_tit_pred_lgbm)\n",
    "print(f'LightGBM - Accuracy: {acc_tit_lgbm:.2f}')\n",
    "print(classification_report(y_tit_test, y_tit_pred_lgbm))"
   ]
  },
  {
   "cell_type": "code",
   "execution_count": 22,
   "id": "21c93441",
   "metadata": {},
   "outputs": [
    {
     "data": {
      "text/html": [
       "<div>\n",
       "<style scoped>\n",
       "    .dataframe tbody tr th:only-of-type {\n",
       "        vertical-align: middle;\n",
       "    }\n",
       "\n",
       "    .dataframe tbody tr th {\n",
       "        vertical-align: top;\n",
       "    }\n",
       "\n",
       "    .dataframe thead th {\n",
       "        text-align: right;\n",
       "    }\n",
       "</style>\n",
       "<table border=\"1\" class=\"dataframe\">\n",
       "  <thead>\n",
       "    <tr style=\"text-align: right;\">\n",
       "      <th></th>\n",
       "      <th>Modelo</th>\n",
       "      <th>Accuracy</th>\n",
       "      <th>Precision</th>\n",
       "      <th>Recall</th>\n",
       "      <th>F1-score</th>\n",
       "    </tr>\n",
       "  </thead>\n",
       "  <tbody>\n",
       "    <tr>\n",
       "      <th>0</th>\n",
       "      <td>AdaBoost</td>\n",
       "      <td>0.813433</td>\n",
       "      <td>0.752381</td>\n",
       "      <td>0.766990</td>\n",
       "      <td>0.759615</td>\n",
       "    </tr>\n",
       "    <tr>\n",
       "      <th>1</th>\n",
       "      <td>GradientBoosting</td>\n",
       "      <td>0.798507</td>\n",
       "      <td>0.810127</td>\n",
       "      <td>0.621359</td>\n",
       "      <td>0.703297</td>\n",
       "    </tr>\n",
       "    <tr>\n",
       "      <th>2</th>\n",
       "      <td>XGBoost</td>\n",
       "      <td>0.787313</td>\n",
       "      <td>0.755556</td>\n",
       "      <td>0.660194</td>\n",
       "      <td>0.704663</td>\n",
       "    </tr>\n",
       "    <tr>\n",
       "      <th>3</th>\n",
       "      <td>LightGBM</td>\n",
       "      <td>0.787313</td>\n",
       "      <td>0.755556</td>\n",
       "      <td>0.660194</td>\n",
       "      <td>0.704663</td>\n",
       "    </tr>\n",
       "  </tbody>\n",
       "</table>\n",
       "</div>"
      ],
      "text/plain": [
       "             Modelo  Accuracy  Precision    Recall  F1-score\n",
       "0          AdaBoost  0.813433   0.752381  0.766990  0.759615\n",
       "1  GradientBoosting  0.798507   0.810127  0.621359  0.703297\n",
       "2           XGBoost  0.787313   0.755556  0.660194  0.704663\n",
       "3          LightGBM  0.787313   0.755556  0.660194  0.704663"
      ]
     },
     "metadata": {},
     "output_type": "display_data"
    },
    {
     "data": {
      "image/png": "[encoded data removed]",
      "text/plain": [
       "<Figure size 800x500 with 4 Axes>"
      ]
     },
     "metadata": {},
     "output_type": "display_data"
    }
   ],
   "source": [
    "# --- Comparativa Titanic (Clasificación) ---\n",
    "from sklearn.metrics import precision_score, recall_score, f1_score\n",
    "\n",
    "# Calcular métricas adicionales para cada modelo\n",
    "precision_tit_ada = precision_score(y_tit_test, y_tit_pred_ada)\n",
    "recall_tit_ada = recall_score(y_tit_test, y_tit_pred_ada)\n",
    "f1_tit_ada = f1_score(y_tit_test, y_tit_pred_ada)\n",
    "\n",
    "precision_tit = precision_score(y_tit_test, y_tit_pred)\n",
    "recall_tit = recall_score(y_tit_test, y_tit_pred)\n",
    "f1_tit = f1_score(y_tit_test, y_tit_pred)\n",
    "\n",
    "precision_tit_xgb = precision_score(y_tit_test, y_tit_pred_xgb)\n",
    "recall_tit_xgb = recall_score(y_tit_test, y_tit_pred_xgb)\n",
    "f1_tit_xgb = f1_score(y_tit_test, y_tit_pred_xgb)\n",
    "\n",
    "precision_tit_lgbm = precision_score(y_tit_test, y_tit_pred_lgbm)\n",
    "recall_tit_lgbm = recall_score(y_tit_test, y_tit_pred_lgbm)\n",
    "f1_tit_lgbm = f1_score(y_tit_test, y_tit_pred_lgbm)\n",
    "\n",
    "resultados_tit = pd.DataFrame({\n",
    "    'Modelo': ['AdaBoost', 'GradientBoosting', 'XGBoost', 'LightGBM'],\n",
    "    'Accuracy': [acc_tit_ada, acc_tit, acc_tit_xgb, acc_tit_lgbm],\n",
    "    'Precision': [precision_tit_ada, precision_tit, precision_tit_xgb, precision_tit_lgbm],\n",
    "    'Recall': [recall_tit_ada, recall_tit, recall_tit_xgb, recall_tit_lgbm],\n",
    "    'F1-score': [f1_tit_ada, f1_tit, f1_tit_xgb, f1_tit_lgbm]\n",
    "})\n",
    "display(resultados_tit)\n",
    "resultados_tit.plot(x='Modelo', y=['Accuracy', 'Precision', 'Recall', 'F1-score'], kind='bar', subplots=True, layout=(2,2), legend=False, title=['Accuracy','Precision','Recall','F1-score'])\n",
    "plt.tight_layout()\n",
    "plt.show()"
   ]
  },
  {
   "cell_type": "markdown",
   "id": "424b46d9",
   "metadata": {},
   "source": [
    "**Interpretación de las métricas para Titanic (clasificación):**\n",
    "\n",
    "- **Accuracy:** Proporción de aciertos totales. AdaBoost es el que obtiene la mayor accuracy (0.81), seguido de GradientBoosting (0.80) y XGBoost/LightGBM (0.79).\n",
    "- **Precision:** Proporción de positivos predichos que realmente lo son. GradientBoosting destaca en precisión (0.81), lo que indica que cuando predice supervivientes, suele acertar más que el resto.\n",
    "- **Recall:** Proporción de positivos reales que el modelo identifica correctamente. AdaBoost tiene el mejor recall (0.77), es decir, detecta más supervivientes reales.\n",
    "- **F1-score:** Media armónica entre precisión y recall. AdaBoost logra el mejor F1-score (0.76), mostrando el mejor equilibrio entre ambas métricas.\n",
    "\n",
    "**Conclusión:**\n",
    "- **AdaBoost** es el modelo más equilibrado y con mejor rendimiento global para este problema, ya que maximiza tanto la capacidad de detectar supervivientes (recall) como la precisión y el F1-score.\n",
    "- **GradientBoosting** es muy preciso, pero sacrifica recall, es decir, predice menos supervivientes pero con mayor certeza.\n",
    "- **XGBoost** y **LightGBM** tienen un rendimiento similar, equilibrado pero ligeramente inferior a AdaBoost en este caso.\n",
    "\n",
    "**Recomendación:**\n",
    "Para este dataset, AdaBoost es la mejor opción si se busca un modelo equilibrado. Si se prefiere minimizar falsos positivos (predecir solo cuando se está muy seguro), GradientBoosting puede ser útil, aunque dejará escapar más supervivientes reales."
   ]
  },
  {
   "cell_type": "markdown",
   "id": "f149dacc",
   "metadata": {},
   "source": [
    "## 4️⃣ Análisis: ¿Cuándo usar cada modelo de boosting?\n",
    "A continuación, se resumen las ventajas, desventajas y recomendaciones de uso para cada modelo de boosting probado:\n",
    "\n",
    "- **AdaBoost**:\n",
    "  - Ventajas: Simple, fácil de entender, funciona bien con datos limpios y sin mucho ruido.\n",
    "  - Desventajas: Sensible a outliers y ruido, menos potente en datasets complejos.\n",
    "  - Usar cuando: El dataset es pequeño, limpio y se busca interpretabilidad.\n",
    "\n",
    "- **Gradient Boosting (GBM)**:\n",
    "  - Ventajas: Muy flexible, buen rendimiento en la mayoría de los problemas, permite ajustar muchos hiperparámetros.\n",
    "  - Desventajas: Más lento que XGBoost/LightGBM, sensible a overfitting si no se regula.\n",
    "  - Usar cuando: Se requiere un modelo robusto y se puede invertir tiempo en ajustar hiperparámetros.\n",
    "\n",
    "- **XGBoost**:\n",
    "  - Ventajas: Muy rápido, regularización avanzada, manejo de valores nulos, excelente para competiciones y grandes volúmenes de datos.\n",
    "  - Desventajas: Más complejo de ajustar, puede consumir más memoria.\n",
    "  - Usar cuando: Se busca el mejor rendimiento posible y se dispone de recursos computacionales.\n",
    "\n",
    "- **LightGBM**:\n",
    "  - Ventajas: Extremadamente rápido, eficiente en memoria, ideal para datasets grandes y muchas variables.\n",
    "  - Desventajas: Puede sobreajustar en datasets pequeños, menos interpretable.\n",
    "  - Usar cuando: El dataset es muy grande o de alta dimensionalidad y se necesita velocidad.\n",
    "\n",
    "**Sobre las métricas:**\n",
    "- En problemas de regresión (como California Housing) es fundamental analizar tanto el **MSE** como el **RMSE** y el **R2**. El RMSE es especialmente útil porque se interpreta en las mismas unidades que la variable objetivo, facilitando la comprensión del error real de las predicciones.\n",
    "- En problemas de clasificación (Diabetes, Titanic) la métrica principal utilizada aquí es la **Accuracy**, pero también es recomendable revisar otras métricas como precisión, recall y F1-score según el contexto del problema.\n",
    "\n",
    "**Recomendación general:**\n",
    "- Para empezar, Gradient Boosting suele ser una buena opción base.\n",
    "- Si el dataset es grande o se busca máxima eficiencia, probar XGBoost o LightGBM.\n",
    "- AdaBoost es útil para problemas sencillos o como modelo base para comparar.\n",
    "\n",
    "**Recuerda:** Siempre valida los resultados con tus propios datos y ajusta los hiperparámetros según el problema concreto."
   ]
  }
 ],
 "metadata": {
  "kernelspec": {
   "display_name": "cpu",
   "language": "python",
   "name": "python3"
  },
  "language_info": {
   "codemirror_mode": {
    "name": "ipython",
    "version": 3
   },
   "file_extension": ".py",
   "mimetype": "text/x-python",
   "name": "python",
   "nbconvert_exporter": "python",
   "pygments_lexer": "ipython3",
   "version": "3.13.7"
  }
 },
 "nbformat": 4,
 "nbformat_minor": 5
}
