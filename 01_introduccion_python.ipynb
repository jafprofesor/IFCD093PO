{
 "cells": [
  {
   "cell_type": "markdown",
   "id": "95f82963",
   "metadata": {},
   "source": [
    "# 🐍 Módulo 1.1: Introducción a Python desde Cero\n",
    "### Curso: **Machine Learning con Python** (IFCD093PO)\n",
    "**Duración estimada:** 10 horas\n",
    "\n",
    "---\n",
    "\n",
    "## 🎯 Objetivos del Módulo\n",
    "\n",
    "En este módulo, aprenderás a programar en Python desde cero. No se requiere experiencia previa. Al finalizar, serás capaz de:\n",
    "\n",
    "- ✅ Escribir y ejecutar tus primeros programas en Python.\n",
    "- ✅ Entender y usar variables y los tipos de datos fundamentales.\n",
    "- ✅ Trabajar con las estructuras de datos más importantes: listas, diccionarios, tuplas y sets.\n",
    "- ✅ Controlar el flujo de tus programas con condicionales y bucles.\n",
    "- ✅ Crear tus propias funciones para reutilizar código.\n",
    "- ✅ Comprender los conceptos básicos de la Programación Orientada a Objetos (POO).\n",
    "\n",
    "**Este es el cimiento sobre el que construiremos todo lo demás. ¡Vamos a empezar!**\n",
    "\n",
    "---"
   ]
  },
  {
   "cell_type": "markdown",
   "id": "36f04333",
   "metadata": {},
   "source": [
    "## 📚 Tabla de Contenidos\n",
    "\n",
    "1. [¿Qué es Python y por qué usarlo?](#1-intro)\n",
    "2. [Tu Primer Programa: \"Hola, Mundo\"](#2-hola-mundo)\n",
    "3. [Variables y Tipos de Datos](#3-variables)\n",
    "4. [Estructuras de Datos](#4-estructuras)\n",
    "   - [Listas](#4.1-listas)\n",
    "   - [Diccionarios](#4.2-diccionarios)\n",
    "   - [Tuplas](#4.3-tuplas)\n",
    "   - [Sets](#4.4-sets)\n",
    "5. [Control de Flujo](#5-control)\n",
    "   - [Condicionales (if, elif, else)](#5.1-condicionales)\n",
    "   - [Bucles (for, while)](#5.2-bucles)\n",
    "6. [Funciones](#6-funciones)\n",
    "7. [Programación Orientada a Objetos (POO)](#7-poo)\n",
    "8. [Resumen y Próximos Pasos](#8-resumen)\n",
    "\n",
    "---"
   ]
  },
  {
   "cell_type": "markdown",
   "id": "9c5be1a3",
   "metadata": {},
   "source": [
    "## 🐍 1. ¿Qué es Python y por qué usarlo? <a id='1-intro'></a>\n",
    "\n",
    "**Python** es un lenguaje de programación de alto nivel, interpretado y de propósito general. ¿Qué significa todo eso?\n",
    "\n",
    "- **Alto nivel**: Su sintaxis es muy parecida al lenguaje humano (inglés), lo que lo hace fácil de leer y escribir.\n",
    "- **Interpretado**: No necesitas compilar tu código. Un intérprete lee y ejecuta el código línea por línea, lo que agiliza el desarrollo.\n",
    "- **Propósito general**: Sirve para casi todo: desarrollo web, ciencia de datos, inteligencia artificial, scripting, automatización, etc.\n",
    "\n",
    "### ¿Por qué es el lenguaje #1 para Machine Learning?\n",
    "\n",
    "1. **Sintaxis Simple**: Permite concentrarse en los problemas de ML en lugar de en la complejidad del lenguaje.\n",
    "2. **Ecosistema de Librerías**: Tiene librerías increíbles como **NumPy, Pandas, Scikit-learn, TensorFlow y PyTorch** que hacen el trabajo pesado por nosotros.\n",
    "3. **Comunidad Gigante**: Millones de desarrolladores usan Python. Si tienes un problema, es casi seguro que alguien ya lo ha resuelto.\n",
    "4. **Flexibilidad**: Se integra fácilmente con otros lenguajes y tecnologías.\n",
    "\n",
    "---"
   ]
  },
  {
   "cell_type": "markdown",
   "id": "7bb9a486",
   "metadata": {},
   "source": [
    "## 👋 2. Tu Primer Programa: \"Hola, Mundo\" <a id='2-hola-mundo'></a>\n",
    "\n",
    "La tradición al aprender un nuevo lenguaje es empezar con un \"Hola, Mundo\". En Python, es increíblemente simple.\n",
    "\n",
    "Usamos la función `print()` para mostrar texto en la pantalla."
   ]
  },
  {
   "cell_type": "code",
   "execution_count": null,
   "id": "76ce1bf6",
   "metadata": {},
   "outputs": [],
   "source": [
    "# Este es un comentario. Python lo ignora.\n",
    "# La función print() muestra un mensaje en la pantalla.\n",
    "\n",
    "print(\"¡Hola, Mundo!\")\n",
    "print(\"Bienvenido al curso de Machine Learning con Python.\")"
   ]
  },
  {
   "cell_type": "markdown",
   "id": "a3a16e39",
   "metadata": {},
   "source": [
    "---"
   ]
  },
  {
   "cell_type": "markdown",
   "id": "13ffdc94",
   "metadata": {},
   "source": [
    "## 📦 3. Variables y Tipos de Datos <a id='3-variables'></a>\n",
    "\n",
    "Una **variable** es como una caja con una etiqueta donde guardamos información. Podemos ponerle un nombre y asignarle un valor con el signo `=`.\n",
    "\n",
    "Python tiene varios **tipos de datos** incorporados. Los más importantes son:\n",
    "\n",
    "- **`int`** (Enteros): Números sin decimales (ej: 10, -5, 0).\n",
    "- **`float`** (Flotantes): Números con decimales (ej: 3.14, -0.5).\n",
    "- **`str`** (Strings o Cadenas): Texto, siempre entre comillas `\"` o `'`.\n",
    "- **`bool`** (Booleanos): Representan verdad o falsedad. Solo pueden ser `True` o `False`."
   ]
  },
  {
   "cell_type": "code",
   "execution_count": null,
   "id": "046252f6",
   "metadata": {},
   "outputs": [],
   "source": [
    "# Asignación de variables\n",
    "nombre = \"Ana\"          # str (string)\n",
    "edad = 30               # int (entero)\n",
    "altura = 1.65           # float (flotante)\n",
    "es_estudiante = True    # bool (booleano)\n",
    "\n",
    "# Podemos imprimir las variables para ver su valor\n",
    "print(\"Nombre:\", nombre)\n",
    "print(\"Edad:\", edad)\n",
    "print(\"Altura:\", altura)\n",
    "print(\"¿Es estudiante?\", es_estudiante)\n",
    "\n",
    "# La función type() nos dice de qué tipo es una variable\n",
    "print(\"\\nTipos de datos:\")\n",
    "print(\"El tipo de 'nombre' es:\", type(nombre))\n",
    "print(\"El tipo de 'edad' es:\", type(edad))"
   ]
  },
  {
   "cell_type": "markdown",
   "id": "5e0b585d",
   "metadata": {},
   "source": [
    "### Operaciones con Variables\n",
    "\n",
    "Podemos realizar operaciones matemáticas con las variables numéricas y concatenar (unir) las cadenas de texto."
   ]
  },
  {
   "cell_type": "code",
   "execution_count": null,
   "id": "70c34252",
   "metadata": {},
   "outputs": [],
   "source": [
    "# Operaciones numéricas\n",
    "año_actual = 2025\n",
    "año_nacimiento = 1995\n",
    "edad_calculada = año_actual - año_nacimiento\n",
    "print(f\"Si naciste en {año_nacimiento}, en {año_actual} tienes {edad_calculada} años.\")\n",
    "\n",
    "# Concatenación de strings\n",
    "nombre_completo = \"Juan\" + \" \" + \"Pérez\"\n",
    "print(\"Nombre completo:\", nombre_completo)\n",
    "\n",
    "# f-strings: la forma moderna y recomendada de formatear texto\n",
    "print(f\"Hola, me llamo {nombre} y tengo {edad} años.\")"
   ]
  },
  {
   "cell_type": "markdown",
   "id": "270421ec",
   "metadata": {},
   "source": [
    "### ✅ Ejercicio 1: Calculadora de IMC\n",
    "\n",
    "El Índice de Masa Corporal (IMC) se calcula con la fórmula: `peso / (altura²)`.\n",
    "\n",
    "1. Crea dos variables: `peso` (en kg) y `altura` (en metros).\n",
    "2. Calcula el IMC y guárdalo en una variable `imc`.\n",
    "3. Imprime el resultado con un mensaje claro usando un f-string."
   ]
  },
  {
   "cell_type": "code",
   "execution_count": null,
   "id": "9c286ec4",
   "metadata": {},
   "outputs": [],
   "source": [
    "# Tu código aquí\n",
    "peso = 75   # en kg\n",
    "altura = 1.80 # en metros\n",
    "\n",
    "# Calcula el IMC\n",
    "\n",
    "# Imprime el resultado"
   ]
  },
  {
   "cell_type": "markdown",
   "id": "bf817349",
   "metadata": {},
   "source": [
    "<details>\n",
    "<summary>💡 <b>Solución (haz clic para ver)</b></summary>\n",
    "\n",
    "```python\n",
    "peso = 75\n",
    "altura = 1.80\n",
    "\n",
    "# La potencia se calcula con **\n",
    "imc = peso / (altura ** 2)\n",
    "\n",
    "# El :.2f formatea el número para que solo muestre 2 decimales\n",
    "print(f\"Para un peso de {peso} kg y una altura de {altura} m, el IMC es de {imc:.2f}.\")\n",
    "```\n",
    "</details>\n",
    "\n",
    "---"
   ]
  },
  {
   "cell_type": "markdown",
   "id": "d1dccd1e",
   "metadata": {},
   "source": [
    "## 🧱 4. Estructuras de Datos <a id='4-estructuras'></a>\n",
    "\n",
    "A menudo necesitamos guardar colecciones de datos, no solo valores individuales. Python nos ofrece varias estructuras para ello.\n",
    "\n",
    "### 4.1 Listas <a id='4.1-listas'></a>\n",
    "\n",
    "Una **lista** es una colección **ordenada** y **modificable** de elementos. Se definen con corchetes `[]`.\n",
    "\n",
    "- **Ordenada**: Los elementos mantienen el orden en que los añadiste.\n",
    "- **Modificable**: Puedes añadir, eliminar o cambiar elementos después de crearla."
   ]
  },
  {
   "cell_type": "code",
   "execution_count": null,
   "id": "882c1d65",
   "metadata": {},
   "outputs": [],
   "source": [
    "# Creación de una lista\n",
    "frutas = [\"manzana\", \"banana\", \"cereza\", \"naranja\"]\n",
    "print(\"Lista de frutas:\", frutas)\n",
    "\n",
    "# Acceder a elementos (la indexación empieza en 0)\n",
    "primera_fruta = frutas[0]  # El primer elemento\n",
    "ultima_fruta = frutas[-1] # El último elemento\n",
    "print(f\"La primera fruta es '{primera_fruta}' y la última es '{ultima_fruta}'.\")\n",
    "\n",
    "# Slicing (sublistas): lista[inicio:fin]\n",
    "primeras_dos = frutas[0:2]\n",
    "print(\"Las dos primeras frutas son:\", primeras_dos)\n",
    "\n",
    "# Modificar un elemento\n",
    "frutas[1] = \"plátano\" # Cambiamos 'banana' por 'plátano'\n",
    "print(\"Lista modificada:\", frutas)\n",
    "\n",
    "# Añadir elementos\n",
    "frutas.append(\"kiwi\") # Añade al final\n",
    "print(\"Lista con kiwi:\", frutas)\n",
    "\n",
    "# Eliminar elementos\n",
    "frutas.remove(\"cereza\")\n",
    "print(\"Lista sin cereza:\", frutas)\n",
    "\n",
    "# Longitud de la lista\n",
    "print(f\"Ahora hay {len(frutas)} frutas en la lista.\")"
   ]
  },
  {
   "cell_type": "markdown",
   "id": "8c7ac9c2",
   "metadata": {},
   "source": [
    "### ✅ Ejercicio 2: Lista de la compra\n",
    "\n",
    "1. Crea una lista llamada `lista_compra` con tres productos que necesites.\n",
    "2. Añade un cuarto producto a la lista.\n",
    "3. Cambia el segundo producto por otro que prefieras.\n",
    "4. Imprime la lista final y su longitud."
   ]
  },
  {
   "cell_type": "code",
   "execution_count": null,
   "id": "685f4e76",
   "metadata": {},
   "outputs": [],
   "source": [
    "# Tu código aquí"
   ]
  },
  {
   "cell_type": "markdown",
   "id": "a6d09a5e",
   "metadata": {},
   "source": [
    "<details>\n",
    "<summary>💡 <b>Solución</b></summary>\n",
    "\n",
    "```python\n",
    "lista_compra = [\"leche\", \"pan\", \"huevos\"]\n",
    "print(f\"Lista inicial: {lista_compra}\")\n",
    "\n",
    "lista_compra.append(\"zumo\")\n",
    "print(f\"Lista con zumo: {lista_compra}\")\n",
    "\n",
    "lista_compra[1] = \"cereales\"\n",
    "print(f\"Lista final: {lista_compra}\")\n",
    "print(f\"Total de productos: {len(lista_compra)}\")\n",
    "```\n",
    "</details>"
   ]
  },
  {
   "cell_type": "markdown",
   "id": "7dbcf3d6",
   "metadata": {},
   "source": [
    "### 4.2 Diccionarios <a id='4.2-diccionarios'></a>\n",
    "\n",
    "Un **diccionario** es una colección **no ordenada** de pares `clave: valor`. Se definen con llaves `{}`.\n",
    "\n",
    "- **No ordenada** (en versiones antiguas de Python): No puedes confiar en el orden.\n",
    "- **Modificable**: Puedes añadir, cambiar o eliminar pares.\n",
    "- **Claves únicas**: Cada clave debe ser única."
   ]
  },
  {
   "cell_type": "code",
   "execution_count": null,
   "id": "92f948c9",
   "metadata": {},
   "outputs": [],
   "source": [
    "# Creación de un diccionario\n",
    "persona = {\n",
    "    \"nombre\": \"Carlos\",\n",
    "    \"edad\": 42,\n",
    "    \"ciudad\": \"Madrid\",\n",
    "    \"profesion\": \"Científico de Datos\"\n",
    "}\n",
    "print(\"Diccionario de persona:\", persona)\n",
    "\n",
    "# Acceder a valores a través de su clave\n",
    "print(f\"Carlos vive en {persona['ciudad']}.\")\n",
    "\n",
    "# Modificar un valor\n",
    "persona[\"edad\"] = 43\n",
    "print(\"Edad actualizada:\", persona[\"edad\"])\n",
    "\n",
    "# Añadir un nuevo par clave-valor\n",
    "persona[\"email\"] = \"carlos@email.com\"\n",
    "print(\"Diccionario con email:\", persona)\n",
    "\n",
    "# Obtener todas las claves y valores\n",
    "print(\"Claves:\", persona.keys())\n",
    "print(\"Valores:\", persona.values())"
   ]
  },
  {
   "cell_type": "markdown",
   "id": "bb6a10d2",
   "metadata": {},
   "source": [
    "### ✅ Ejercicio 3: Información de un libro\n",
    "\n",
    "1. Crea un diccionario que represente un libro, con las claves `titulo`, `autor` y `año`.\n",
    "2. Añade una nueva clave `genero`.\n",
    "3. Imprime una frase que resuma la información del libro."
   ]
  },
  {
   "cell_type": "code",
   "execution_count": null,
   "id": "d75a7fa2",
   "metadata": {},
   "outputs": [],
   "source": [
    "# Tu código aquí"
   ]
  },
  {
   "cell_type": "markdown",
   "id": "7f070add",
   "metadata": {},
   "source": [
    "<details>\n",
    "<summary>💡 <b>Solución</b></summary>\n",
    "\n",
    "```python\n",
    "libro = {\n",
    "    \"titulo\": \"Cien años de soledad\",\n",
    "    \"autor\": \"Gabriel García Márquez\",\n",
    "    \"año\": 1967\n",
    "}\n",
    "\n",
    "libro[\"genero\"] = \"Realismo mágico\"\n",
    "\n",
    "print(f\"'{libro['titulo']}' es una novela de {libro['autor']} publicada en {libro['año']}.\")\n",
    "```\n",
    "</details>"
   ]
  },
  {
   "cell_type": "markdown",
   "id": "d3b75d06",
   "metadata": {},
   "source": [
    "### 4.3 Tuplas <a id='4.3-tuplas'></a>\n",
    "\n",
    "Una **tupla** es una colección **ordenada** e **inmutable**. Se definen con paréntesis `()`.\n",
    "\n",
    "- **Inmutable**: Una vez creada, **no puedes cambiarla**. Ni añadir, ni eliminar, ni modificar elementos.\n",
    "\n",
    "Se usan para datos que no deben cambiar, como coordenadas, colores RGB, o registros de una base de datos."
   ]
  },
  {
   "cell_type": "code",
   "execution_count": null,
   "id": "e70b9e7e",
   "metadata": {},
   "outputs": [],
   "source": [
    "# Creación de una tupla\n",
    "coordenadas = (40.4168, -3.7038) # Coordenadas de Madrid\n",
    "print(\"Coordenadas:\", coordenadas)\n",
    "\n",
    "# Acceder a elementos (igual que las listas)\n",
    "latitud = coordenadas[0]\n",
    "longitud = coordenadas[1]\n",
    "print(f\"Latitud: {latitud}, Longitud: {longitud}\")\n",
    "\n",
    "# Desempaquetado de tuplas (muy útil)\n",
    "lat, lon = coordenadas\n",
    "print(f\"Latitud (desempaquetada): {lat}, Longitud: {lon}\")\n",
    "\n",
    "# Intentar modificar una tupla dará un error\n",
    "try:\n",
    "    coordenadas[0] = 41.0\n",
    "except TypeError as e:\n",
    "    print(f\"\\nError al intentar modificar la tupla: {e}\")"
   ]
  },
  {
   "cell_type": "markdown",
   "id": "99ac9a98",
   "metadata": {},
   "source": [
    "### 4.4 Sets (Conjuntos) <a id='4.4-sets'></a>\n",
    "\n",
    "Un **set** es una colección **no ordenada** de elementos **únicos**. Se definen con llaves `{}` como los diccionarios, pero sin pares clave-valor.\n",
    "\n",
    "- **Únicos**: No puede haber elementos duplicados. Si intentas añadir un elemento que ya existe, simplemente se ignora.\n",
    "\n",
    "Son muy útiles para eliminar duplicados de una lista o para operaciones matemáticas de conjuntos (unión, intersección)."
   ]
  },
  {
   "cell_type": "code",
   "execution_count": null,
   "id": "071802bb",
   "metadata": {},
   "outputs": [],
   "source": [
    "# Creación de un set a partir de una lista con duplicados\n",
    "numeros_con_duplicados = [1, 2, 2, 3, 4, 4, 4, 5]\n",
    "numeros_unicos = set(numeros_con_duplicados)\n",
    "\n",
    "print(\"Lista original:\", numeros_con_duplicados)\n",
    "print(\"Set (elementos únicos):\", numeros_unicos)\n",
    "\n",
    "# Operaciones de conjuntos\n",
    "set_A = {1, 2, 3, 4}\n",
    "set_B = {3, 4, 5, 6}\n",
    "\n",
    "union = set_A.union(set_B) # Todos los elementos\n",
    "interseccion = set_A.intersection(set_B) # Elementos en común\n",
    "\n",
    "print(\"\\nUnión de A y B:\", union)\n",
    "print(\"Intersección de A y B:\", interseccion)"
   ]
  },
  {
   "cell_type": "markdown",
   "id": "a984e435",
   "metadata": {},
   "source": [
    "---"
   ]
  },
  {
   "cell_type": "markdown",
   "id": "1187bc1b",
   "metadata": {},
   "source": [
    "## ⚙️ 5. Control de Flujo <a id='5-control'></a>\n",
    "\n",
    "El control de flujo nos permite tomar decisiones y repetir acciones en nuestro código.\n",
    "\n",
    "### 5.1 Condicionales (if, elif, else) <a id='5.1-condicionales'></a>\n",
    "\n",
    "Permiten ejecutar un bloque de código solo si se cumple una condición."
   ]
  },
  {
   "cell_type": "code",
   "execution_count": null,
   "id": "6cf47a89",
   "metadata": {},
   "outputs": [],
   "source": [
    "edad = 19\n",
    "\n",
    "if edad < 18:\n",
    "    print(\"Es menor de edad.\")\n",
    "elif edad >= 18 and edad < 65:\n",
    "    print(\"Es un adulto.\")\n",
    "else:\n",
    "    print(\"Es un jubilado.\")\n",
    "\n",
    "# Ejemplo con booleanos\n",
    "esta_lloviendo = True\n",
    "\n",
    "if esta_lloviendo:\n",
    "    print(\"No te olvides el paraguas.\")\n",
    "else:\n",
    "    print(\"¡Disfruta del buen tiempo!\")"
   ]
  },
  {
   "cell_type": "markdown",
   "id": "77ec22c6",
   "metadata": {},
   "source": [
    "### 5.2 Bucles (for, while) <a id='5.2-bucles'></a>\n",
    "\n",
    "Los bucles nos permiten repetir un bloque de código varias veces.\n",
    "\n",
    "#### Bucle `for`\n",
    "Se usa para **iterar sobre una secuencia** (como una lista, tupla o string)."
   ]
  },
  {
   "cell_type": "code",
   "execution_count": null,
   "id": "06948759",
   "metadata": {},
   "outputs": [],
   "source": [
    "# Iterar sobre una lista\n",
    "frutas = [\"manzana\", \"banana\", \"cereza\"]\n",
    "print(\"Iterando sobre una lista:\")\n",
    "for fruta in frutas:\n",
    "    print(f\"- {fruta}\")\n",
    "\n",
    "# Iterar un número específico de veces con range()\n",
    "print(\"\\nContando hasta 4:\")\n",
    "for i in range(5): # range(5) genera números de 0 a 4\n",
    "    print(i)"
   ]
  },
  {
   "cell_type": "markdown",
   "id": "a51481cb",
   "metadata": {},
   "source": [
    "#### Bucle `while`\n",
    "Se usa para repetir un bloque de código **mientras se cumpla una condición**."
   ]
  },
  {
   "cell_type": "code",
   "execution_count": null,
   "id": "3a0d4cb4",
   "metadata": {},
   "outputs": [],
   "source": [
    "contador = 0\n",
    "\n",
    "print(\"Bucle while:\")\n",
    "while contador < 5:\n",
    "    print(contador)\n",
    "    contador = contador + 1 # ¡Importante! Hay que modificar la condición para no crear un bucle infinito\n",
    "\n",
    "print(\"Fin del bucle while.\")"
   ]
  },
  {
   "cell_type": "markdown",
   "id": "75a987ae",
   "metadata": {},
   "source": [
    "### ✅ Ejercicio 4: Suma de números pares\n",
    "\n",
    "Usa un bucle `for` y un condicional `if` para sumar todos los números pares del 1 al 20."
   ]
  },
  {
   "cell_type": "code",
   "execution_count": null,
   "id": "dbc32bdc",
   "metadata": {},
   "outputs": [],
   "source": [
    "# Tu código aquí\n",
    "suma_pares = 0\n",
    "\n",
    "# El 21 es para que incluya el 20\n",
    "for numero in range(1, 21):\n",
    "    # Comprueba si el número es par\n",
    "    # El operador % (módulo) da el resto de una división\n",
    "    pass\n",
    "\n",
    "print(f\"La suma de los números pares del 1 al 20 es: {suma_pares}\")"
   ]
  },
  {
   "cell_type": "markdown",
   "id": "12c07e29",
   "metadata": {},
   "source": [
    "<details>\n",
    "<summary>💡 <b>Solución</b></summary>\n",
    "\n",
    "```python\n",
    "suma_pares = 0\n",
    "\n",
    "for numero in range(1, 21):\n",
    "    if numero % 2 == 0: # Si el resto de dividir por 2 es 0, es par\n",
    "        suma_pares = suma_pares + numero\n",
    "\n",
    "print(f\"La suma de los números pares del 1 al 20 es: {suma_pares}\") # 110\n",
    "```\n",
    "</details>\n",
    "\n",
    "---"
   ]
  },
  {
   "cell_type": "markdown",
   "id": "68c64bf6",
   "metadata": {},
   "source": [
    "## 🛠️ 6. Funciones <a id='6-funciones'></a>\n",
    "\n",
    "Una **función** es un bloque de código reutilizable que realiza una tarea específica. Se definen con la palabra clave `def`.\n",
    "\n",
    "Las funciones nos ayudan a:\n",
    "- **Organizar** el código.\n",
    "- **Reutilizar** lógica sin copiar y pegar.\n",
    "- Hacer el código más **legible**."
   ]
  },
  {
   "cell_type": "code",
   "execution_count": null,
   "id": "010385eb",
   "metadata": {},
   "outputs": [],
   "source": [
    "# Definición de una función simple\n",
    "def saludar(nombre):\n",
    "    \"\"\"Esta función recibe un nombre y devuelve un saludo.\"\"\"\n",
    "    return f\"¡Hola, {nombre}! ¿Cómo estás?\"\n",
    "\n",
    "# Llamada a la función\n",
    "mensaje_para_ana = saludar(\"Ana\")\n",
    "print(mensaje_para_ana)\n",
    "\n",
    "mensaje_para_pedro = saludar(\"Pedro\")\n",
    "print(mensaje_para_pedro)\n",
    "\n",
    "# Función con múltiples parámetros y valor por defecto\n",
    "def calcular_precio_final(precio_base, iva=0.21):\n",
    "    \"\"\"Calcula el precio final añadiendo el IVA.\"\"\"\n",
    "    return precio_base * (1 + iva)\n",
    "\n",
    "precio_producto_A = 100\n",
    "precio_final_A = calcular_precio_final(precio_producto_A)\n",
    "print(f\"\\nEl precio final de un producto de {precio_producto_A}€ es {precio_final_A:.2f}€ (con 21% de IVA).\")\n",
    "\n",
    "precio_producto_B = 50\n",
    "precio_final_B = calcular_precio_final(precio_producto_B, iva=0.10) # IVA reducido\n",
    "print(f\"El precio final de un producto de {precio_producto_B}€ es {precio_final_B:.2f}€ (con 10% de IVA).\")"
   ]
  },
  {
   "cell_type": "markdown",
   "id": "2a0ba8e5",
   "metadata": {},
   "source": [
    "### ✅ Ejercicio 5: Función de Área de un Círculo\n",
    "\n",
    "El área de un círculo se calcula como `π * radio²`.\n",
    "\n",
    "1. Importa la constante `pi` del módulo `math`.\n",
    "2. Crea una función `area_circulo` que reciba el `radio`.\n",
    "3. La función debe devolver el área calculada.\n",
    "4. Prueba la función con diferentes radios."
   ]
  },
  {
   "cell_type": "code",
   "execution_count": null,
   "id": "1caecbee",
   "metadata": {},
   "outputs": [],
   "source": [
    "# Tu código aquí\n",
    "# 1. Importar pi\n",
    "\n",
    "# 2. Definir la función\n",
    "\n",
    "# 4. Probar la función"
   ]
  },
  {
   "cell_type": "markdown",
   "id": "76fb9520",
   "metadata": {},
   "source": [
    "<details>\n",
    "<summary>💡 <b>Solución</b></summary>\n",
    "\n",
    "```python\n",
    "import math # Importamos el módulo de matemáticas\n",
    "\n",
    "def area_circulo(radio):\n",
    "    \"\"\"Calcula el área de un círculo dado su radio.\"\"\"\n",
    "    if radio < 0:\n",
    "        return \"El radio no puede ser negativo.\"\n",
    "    return math.pi * (radio ** 2)\n",
    "\n",
    "area_1 = area_circulo(5)\n",
    "print(f\"El área de un círculo de radio 5 es {area_1:.2f}\")\n",
    "\n",
    "area_2 = area_circulo(10)\n",
    "print(f\"El área de un círculo de radio 10 es {area_2:.2f}\")\n",
    "```\n",
    "</details>\n",
    "\n",
    "---"
   ]
  },
  {
   "cell_type": "markdown",
   "id": "e0ad0c87",
   "metadata": {},
   "source": [
    "## 🏛️ 7. Programación Orientada a Objetos (POO) <a id='7-poo'></a>\n",
    "\n",
    "La POO es un paradigma para estructurar nuestro código. En lugar de solo funciones y variables, creamos **objetos** que combinan **datos (atributos)** y **comportamientos (métodos)**.\n",
    "\n",
    "Una **clase** es como un plano o una plantilla para crear objetos.\n",
    "Un **objeto** (o instancia) es una entidad creada a partir de una clase."
   ]
  },
  {
   "cell_type": "code",
   "execution_count": null,
   "id": "621f391a",
   "metadata": {},
   "outputs": [],
   "source": [
    "# Definición de la clase 'Coche'\n",
    "class Coche:\n",
    "    # El método __init__ es el constructor. Se llama al crear un objeto.\n",
    "    def __init__(self, marca, modelo, año):\n",
    "        # Atributos (datos del objeto)\n",
    "        self.marca = marca\n",
    "        self.modelo = modelo\n",
    "        self.año = año\n",
    "        self.velocidad = 0 # Velocidad inicial\n",
    "\n",
    "    # Métodos (comportamientos del objeto)\n",
    "    def acelerar(self, cantidad):\n",
    "        self.velocidad += cantidad\n",
    "        print(f\"El {self.modelo} acelera. Velocidad actual: {self.velocidad} km/h\")\n",
    "\n",
    "    def frenar(self, cantidad):\n",
    "        self.velocidad -= cantidad\n",
    "        if self.velocidad < 0:\n",
    "            self.velocidad = 0\n",
    "        print(f\"El {self.modelo} frena. Velocidad actual: {self.velocidad} km/h\")\n",
    "\n",
    "    def describir(self):\n",
    "        return f\"Coche: {self.marca} {self.modelo} del año {self.año}\"\n",
    "\n",
    "# Creación de objetos (instancias) de la clase Coche\n",
    "mi_coche = Coche(\"Toyota\", \"Corolla\", 2022)\n",
    "coche_de_ana = Coche(\"Ford\", \"Mustang\", 1968)\n",
    "\n",
    "# Usar los objetos\n",
    "print(mi_coche.describir())\n",
    "mi_coche.acelerar(50)\n",
    "mi_coche.frenar(20)\n",
    "\n",
    "print(\"\\n\" + coche_de_ana.describir())\n",
    "coche_de_ana.acelerar(100)"
   ]
  },
  {
   "cell_type": "markdown",
   "id": "d69e6b0d",
   "metadata": {},
   "source": [
    "### ✅ Ejercicio 6: Clase `Rectangulo`\n",
    "\n",
    "1. Crea una clase `Rectangulo`.\n",
    "2. El constructor `__init__` debe recibir `base` y `altura`.\n",
    "3. Crea un método `calcular_area()` que devuelva el área (`base * altura`).\n",
    "4. Crea un método `calcular_perimetro()` que devuelva el perímetro (`2 * base + 2 * altura`).\n",
    "5. Crea un objeto de esta clase y prueba sus métodos."
   ]
  },
  {
   "cell_type": "code",
   "execution_count": null,
   "id": "74a06139",
   "metadata": {},
   "outputs": [],
   "source": [
    "# Tu código aquí"
   ]
  },
  {
   "cell_type": "markdown",
   "id": "4110ad49",
   "metadata": {},
   "source": [
    "<details>\n",
    "<summary>💡 <b>Solución</b></summary>\n",
    "\n",
    "```python\n",
    "class Rectangulo:\n",
    "    def __init__(self, base, altura):\n",
    "        self.base = base\n",
    "        self.altura = altura\n",
    "    \n",
    "    def calcular_area(self):\n",
    "        return self.base * self.altura\n",
    "    \n",
    "    def calcular_perimetro(self):\n",
    "        return 2 * self.base + 2 * self.altura\n",
    "\n",
    "# Crear un objeto\n",
    "mi_rectangulo = Rectangulo(10, 5)\n",
    "\n",
    "# Probar métodos\n",
    "print(f\"Rectángulo de base {mi_rectangulo.base} y altura {mi_rectangulo.altura}\")\n",
    "print(f\"Área: {mi_rectangulo.calcular_area()}\")\n",
    "print(f\"Perímetro: {mi_rectangulo.calcular_perimetro()}\")\n",
    "```\n",
    "</details>\n",
    "\n",
    "---"
   ]
  },
  {
   "cell_type": "markdown",
   "id": "2f4f48a1",
   "metadata": {},
   "source": [
    "## 📝 8. Resumen y Próximos Pasos <a id='8-resumen'></a>\n",
    "\n",
    "### 🎉 ¡Felicidades! Has completado tu introducción a Python\n",
    "\n",
    "#### ✅ Lo que has aprendido:\n",
    "\n",
    "1. **Fundamentos**\n",
    "   - Escribir código Python y usar `print()`.\n",
    "   - Crear y usar variables (`int`, `float`, `str`, `bool`).\n",
    "\n",
    "2. **Estructuras de Datos**\n",
    "   - **Listas**: colecciones ordenadas y modificables.\n",
    "   - **Diccionarios**: pares `clave: valor`.\n",
    "   - **Tuplas**: colecciones ordenadas e inmutables.\n",
    "   - **Sets**: colecciones de elementos únicos.\n",
    "\n",
    "3. **Control de Flujo**\n",
    "   - Tomar decisiones con `if`, `elif`, `else`.\n",
    "   - Repetir código con bucles `for` y `while`.\n",
    "\n",
    "4. **Organización del Código**\n",
    "   - Crear funciones reutilizables con `def`.\n",
    "   - Entender la estructura básica de una clase en POO.\n",
    "\n",
    "---\n",
    "\n",
    "### 🚀 Próximo Módulo: Librerías Fundamentales para Machine Learning\n",
    "\n",
    "Ahora que tienes las bases de Python, estás listo para aprender las herramientas que hacen de Python el lenguaje rey para la ciencia de datos:\n",
    "\n",
    "- **NumPy**: Para cálculos numéricos y matemáticos a gran velocidad.\n",
    "- **Pandas**: Para manipular y analizar datos tabulares (como hojas de cálculo)."
   ]
  }
 ],
 "metadata": {
  "kernelspec": {
   "display_name": "Python [conda env:base] *",
   "language": "python",
   "name": "conda-base-py"
  },
  "language_info": {
   "codemirror_mode": {
    "name": "ipython",
    "version": 3
   },
   "file_extension": ".py",
   "mimetype": "text/x-python",
   "name": "python",
   "nbconvert_exporter": "python",
   "pygments_lexer": "ipython3",
   "version": "3.13.5"
  }
 },
 "nbformat": 4,
 "nbformat_minor": 5
}
