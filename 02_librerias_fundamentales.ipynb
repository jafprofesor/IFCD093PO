{
 "cells": [
  {
   "cell_type": "markdown",
   "id": "86b8c7a6",
   "metadata": {},
   "source": [
    "# 📚 Módulo 1.2: Librerías Fundamentales para Machine Learning\n",
    "### Curso: **Machine Learning con Python** (IFCD093PO)\n",
    "**Duración estimada:** 12 horas\n",
    "\n",
    "---\n",
    "\n",
    "## 🎯 Objetivos del Módulo\n",
    "\n",
    "En este módulo, dominarás las tres librerías que forman la base de casi cualquier proyecto de Data Science y Machine Learning en Python. Al finalizar, serás capaz de:\n",
    "\n",
    "- ✅ **NumPy**: Realizar cálculos numéricos eficientes con arrays multidimensionales.\n",
    "- ✅ **Pandas**: Cargar, limpiar, manipular y analizar datos tabulares con DataFrames.\n",
    "- ✅ **Matplotlib y Seaborn**: Crear visualizaciones de datos informativas y estéticamente agradables.\n",
    "\n",
    "**Estas herramientas son el pan de cada día de un científico de datos. ¡Vamos a dominarlas!**\n",
    "\n",
    "---"
   ]
  },
  {
   "cell_type": "markdown",
   "id": "e5bf7b91",
   "metadata": {},
   "source": [
    "## 📚 Tabla de Contenidos\n",
    "\n",
    "1. [**NumPy**: Computación Numérica](#1-numpy)\n",
    "   - [¿Qué es NumPy y por qué es tan rápido?](#1.1-intro-numpy)\n",
    "   - [Creación de Arrays](#1.2-creacion-arrays)\n",
    "   - [Operaciones y Broadcasting](#1.3-operaciones)\n",
    "   - [Indexación y Slicing](#1.4-indexacion)\n",
    "   - [Estadísticas y Álgebra Lineal](#1.5-estadisticas)\n",
    "\n",
    "2. [**Pandas**: Manipulación de Datos](#2-pandas)\n",
    "   - [Series y DataFrames](#2.1-series-dataframes)\n",
    "   - [Lectura y Escritura de Datos (CSV)](#2.2-lectura-datos)\n",
    "   - [Selección y Filtrado (loc, iloc)](#2.3-seleccion)\n",
    "   - [Agrupación (GroupBy)](#2.4-groupby)\n",
    "   - [Manejo de Datos Faltantes](#2.5-nulos)\n",
    "\n",
    "3. [**Visualización**: Matplotlib y Seaborn](#3-visualizacion)\n",
    "   - [Anatomía de un Gráfico con Matplotlib](#3.1-matplotlib)\n",
    "   - [Gráficos Estadísticos con Seaborn](#3.2-seaborn)\n",
    "\n",
    "4. [Resumen y Próximos Pasos](#4-resumen)\n",
    "\n",
    "---"
   ]
  },
  {
   "cell_type": "markdown",
   "id": "88b5981e",
   "metadata": {},
   "source": [
    "## ⚙️ Preparación: Importar las librerías\n",
    "\n",
    "Por convención, siempre importamos estas librerías con alias específicos. Esto hace el código más corto y legible."
   ]
  },
  {
   "cell_type": "code",
   "execution_count": 2,
   "id": "792e0060",
   "metadata": {},
   "outputs": [],
   "source": [
    "# Importar las librerías\n",
    "import numpy as np\n",
    "import pandas as pd\n",
    "import matplotlib.pyplot as plt\n",
    "import seaborn as sns\n",
    "\n",
    "# Configuraciones recomendadas para una mejor visualización\n",
    "sns.set_style(\"whitegrid\") # Estilo de los gráficos de Seaborn\n",
    "plt.rcParams[\"figure.figsize\"] = (10, 6) # Tamaño por defecto de los gráficos"
   ]
  },
  {
   "cell_type": "markdown",
   "id": "710ba975",
   "metadata": {},
   "source": [
    "---"
   ]
  },
  {
   "cell_type": "markdown",
   "id": "266bc1eb",
   "metadata": {},
   "source": [
    "## 🔢 1. NumPy: Computación Numérica <a id='1-numpy'></a>\n",
    "\n",
    "### 1.1 ¿Qué es NumPy y por qué es tan rápido? <a id='1.1-intro-numpy'></a>\n",
    "\n",
    "**NumPy** (Numerical Python) es la librería fundamental para la computación científica en Python. Su objeto principal es el **array multidimensional** (`ndarray`).\n",
    "\n",
    "**¿Por qué es más rápido que las listas de Python?**\n",
    "- **Memoria Contigua**: Los elementos de un array de NumPy se guardan uno al lado del otro en la memoria, permitiendo un acceso mucho más rápido.\n",
    "- **Código Optimizado**: Muchas de sus operaciones están escritas en C o Fortran, lenguajes de bajo nivel mucho más rápidos que Python.\n",
    "- **Vectorización**: Permite aplicar una operación a todo un array a la vez, sin necesidad de bucles `for` explícitos en Python."
   ]
  },
  {
   "cell_type": "code",
   "execution_count": 3,
   "id": "dc82017f",
   "metadata": {},
   "outputs": [
    {
     "name": "stdout",
     "output_type": "stream",
     "text": [
      "Calculando el cuadrado de 1 millón de números:\n",
      "\n",
      "Con listas de Python:\n",
      "127 ms ± 19.1 ms per loop (mean ± std. dev. of 7 runs, 10 loops each)\n",
      "\n",
      "Con NumPy:\n",
      "2.98 ms ± 287 μs per loop (mean ± std. dev. of 7 runs, 100 loops each)\n"
     ]
    }
   ],
   "source": [
    "# Comparación de velocidad: NumPy vs Listas\n",
    "lista_py = list(range(1_000_000)) # Lista de Python con 1 millón de números\n",
    "array_np = np.arange(1_000_000) # Array de NumPy con 1 millón de números\n",
    "\n",
    "print(\"Calculando el cuadrado de 1 millón de números:\")\n",
    "\n",
    "# Con listas de Python (usando un bucle)\n",
    "print(\"\\nCon listas de Python:\")\n",
    "%timeit [x**2 for x in lista_py] # Usando comprensión de listas\n",
    "\n",
    "# Con NumPy (vectorizado)\n",
    "print(\"\\nCon NumPy:\")\n",
    "%timeit array_np**2 # Operación vectorizada"
   ]
  },
  {
   "cell_type": "markdown",
   "id": "6eca0036",
   "metadata": {},
   "source": [
    "### 1.2 Creación de Arrays <a id='1.2-creacion-arrays'></a>\n",
    "\n",
    "Hay muchas formas de crear arrays en NumPy."
   ]
  },
  {
   "cell_type": "code",
   "execution_count": 4,
   "id": "36e95451",
   "metadata": {},
   "outputs": [
    {
     "name": "stdout",
     "output_type": "stream",
     "text": [
      "Array 1D: [1 2 3 4 5]\n",
      "\n",
      "Array 2D (matriz):\n",
      " [[1 2 3]\n",
      " [4 5 6]]\n",
      "\n",
      "Array de ceros:\n",
      " [[0. 0. 0.]\n",
      " [0. 0. 0.]]\n",
      "\n",
      "Array de unos:\n",
      " [[1. 1.]\n",
      " [1. 1.]\n",
      " [1. 1.]]\n",
      "\n",
      "Array con arange(0, 10, 2): [0 2 4 6 8]\n",
      "\n",
      "Array con linspace(0, 1, 5): [0.   0.25 0.5  0.75 1.  ]\n",
      "\n",
      "Array aleatorio:\n",
      " [[0.59947817 0.81950035 0.43632858]\n",
      " [0.5109675  0.36126439 0.78871592]]\n"
     ]
    }
   ],
   "source": [
    "# Desde una lista de Python\n",
    "array_1d = np.array([1, 2, 3, 4, 5])\n",
    "print(\"Array 1D:\", array_1d)\n",
    "\n",
    "array_2d = np.array([[1, 2, 3], [4, 5, 6]])\n",
    "print(\"\\nArray 2D (matriz):\\n\", array_2d)\n",
    "\n",
    "# Con funciones de NumPy\n",
    "array_zeros = np.zeros((2, 3)) # Array de ceros\n",
    "print(\"\\nArray de ceros:\\n\", array_zeros)\n",
    "\n",
    "array_ones = np.ones((3, 2)) # Array de unos\n",
    "print(\"\\nArray de unos:\\n\", array_ones)\n",
    "\n",
    "array_range = np.arange(0, 10, 2) # Similar a range() de Python\n",
    "print(\"\\nArray con arange(0, 10, 2):\", array_range)\n",
    "\n",
    "array_linspace = np.linspace(0, 1, 5) # 5 números espaciados igualmente entre 0 y 1\n",
    "print(\"\\nArray con linspace(0, 1, 5):\", array_linspace)\n",
    "\n",
    "array_random = np.random.rand(2, 3) # Números aleatorios entre 0 y 1\n",
    "print(\"\\nArray aleatorio:\\n\", array_random) "
   ]
  },
  {
   "cell_type": "markdown",
   "id": "141dcced",
   "metadata": {},
   "source": [
    "### 1.3 Operaciones y Broadcasting <a id='1.3-operaciones'></a>\n",
    "\n",
    "Las operaciones se aplican elemento a elemento. **Broadcasting** es la habilidad de NumPy de tratar con arrays de diferentes formas durante las operaciones aritméticas."
   ]
  },
  {
   "cell_type": "code",
   "execution_count": null,
   "id": "16f97622",
   "metadata": {},
   "outputs": [],
   "source": [
    "a = np.array([1, 2, 3])\n",
    "b = np.array([4, 5, 6])\n",
    "\n",
    "# Operaciones elemento a elemento\n",
    "print(\"Suma:\", a + b)\n",
    "print(\"Multiplicación:\", a * b)\n",
    "\n",
    "# Broadcasting: operando un array con un escalar\n",
    "print(\"\\nBroadcasting:\")\n",
    "print(\"Array + 10:\", a + 10)\n",
    "print(\"Array * 2:\", a * 2)\n",
    "\n",
    "# Ejemplo más complejo de broadcasting\n",
    "matriz = np.array([[1, 2, 3], [4, 5, 6]])\n",
    "vector = np.array([10, 20, 30])\n",
    "print(\"\\nMatriz + Vector:\")\n",
    "print(matriz + vector) # El vector se \"estira\" para sumarse a cada fila"
   ]
  },
  {
   "cell_type": "markdown",
   "id": "e08a7e67",
   "metadata": {},
   "source": [
    "### 1.4 Indexación y Slicing <a id='1.4-indexacion'></a>\n",
    "\n",
    "Funciona de forma similar a las listas, pero con más dimensiones."
   ]
  },
  {
   "cell_type": "code",
   "execution_count": null,
   "id": "7ce292be",
   "metadata": {},
   "outputs": [],
   "source": [
    "data = np.arange(1, 13).reshape(3, 4) # Crea un array de 1 a 12 y lo remodela a 3x4\n",
    "print(\"Matriz de datos:\\n\", data)\n",
    "\n",
    "# Acceder a un elemento: data[fila, columna]\n",
    "print(\"\\nElemento en la fila 1, columna 2:\", data[1, 2]) # Es 7\n",
    "\n",
    "# Slicing\n",
    "print(\"\\nPrimera fila completa:\", data[0, :])\n",
    "print(\"Segunda columna completa:\", data[:, 1])\n",
    "print(\"\\nSubmatriz (primeras 2 filas, columnas 1 y 2):\\n\", data[0:2, 1:3])\n",
    "\n",
    "# Indexación booleana (muy potente)\n",
    "mayores_que_5 = data > 5\n",
    "print(\"\\nMáscara booleana (elementos > 5):\\n\", mayores_que_5)\n",
    "print(\"\\nElementos mayores que 5:\", data[mayores_que_5])"
   ]
  },
  {
   "cell_type": "markdown",
   "id": "8088c3c1",
   "metadata": {},
   "source": [
    "### ✅ Ejercicio 1 (NumPy): Normalización de Datos\n",
    "\n",
    "La normalización Z-score es una técnica muy común en ML. La fórmula es: `(x - media) / desv_estandar`.\n",
    "\n",
    "1. Crea un array de NumPy con 10 números aleatorios (ej: `np.random.randint(50, 100, 10)`).\n",
    "2. Calcula la media (`.mean()`) y la desviación estándar (`.std()`) del array.\n",
    "3. Aplica la fórmula de Z-score para normalizar los datos.\n",
    "4. Imprime el array original y el normalizado."
   ]
  },
  {
   "cell_type": "code",
   "execution_count": null,
   "id": "d8d0d006",
   "metadata": {},
   "outputs": [],
   "source": [
    "# Tu código aquí"
   ]
  },
  {
   "cell_type": "markdown",
   "id": "4a953f51",
   "metadata": {},
   "source": [
    "<details>\n",
    "<summary>💡 <b>Solución</b></summary>\n",
    "\n",
    "```python\n",
    "np.random.seed(42) # Para que los resultados sean reproducibles\n",
    "datos_originales = np.random.randint(50, 100, 10)\n",
    "\n",
    "media = datos_originales.mean()\n",
    "desv_estandar = datos_originales.std()\n",
    "\n",
    "datos_normalizados = (datos_originales - media) / desv_estandar\n",
    "\n",
    "print(f\"Datos originales: {datos_originales}\")\n",
    "print(f\"Media: {media:.2f}, Desv. Estándar: {desv_estandar:.2f}\")\n",
    "print(f\"\\nDatos normalizados (Z-score):\\n{datos_normalizados}\")\n",
    "\n",
    "# Comprobación: la media de los datos normalizados debe ser cercana a 0 y la desv. estándar a 1\n",
    "print(f\"\\nMedia de datos normalizados: {datos_normalizados.mean():.2f}\")\n",
    "print(f\"Desv. Estándar de datos normalizados: {datos_normalizados.std():.2f}\")\n",
    "```\n",
    "</details>\n",
    "\n",
    "---"
   ]
  },
  {
   "cell_type": "markdown",
   "id": "c3eaf272",
   "metadata": {},
   "source": [
    "## 🐼 2. Pandas: Manipulación de Datos <a id='2-pandas'></a>\n",
    "\n",
    "**Pandas** es la librería esencial para trabajar con datos \"estructurados\" (tablas, como en Excel o SQL). Se construye sobre NumPy.\n",
    "\n",
    "### 2.1 Series y DataFrames <a id='2.1-series-dataframes'></a>\n",
    "\n",
    "- **Serie**: Un array unidimensional etiquetado (como una columna de una tabla). Puede contener cualquier tipo de dato.\n",
    "- **DataFrame**: Una tabla bidimensional etiquetada (como una hoja de cálculo). Es la estructura de datos principal de Pandas."
   ]
  },
  {
   "cell_type": "code",
   "execution_count": null,
   "id": "5751f604",
   "metadata": {},
   "outputs": [],
   "source": [
    "# Creación de una Serie\n",
    "serie_poblacion = pd.Series([8_000_000, 3_200_000, 1_600_000], \n",
    "                              index=[\"Nueva York\", \"Madrid\", \"Barcelona\"])\n",
    "print(\"Serie de población:\\n\", serie_poblacion)\n",
    "\n",
    "# Creación de un DataFrame desde un diccionario\n",
    "datos = {\n",
    "    'País': ['España', 'Francia', 'Alemania', 'Italia'],\n",
    "    'Capital': ['Madrid', 'París', 'Berlín', 'Roma'],\n",
    "    'Población (millones)': [47, 65, 83, 60]\n",
    "}\n",
    "df = pd.DataFrame(datos)\n",
    "\n",
    "print(\"\\nDataFrame de países:\")\n",
    "display(df) # display() es mejor que print() para DataFrames en notebooks"
   ]
  },
  {
   "cell_type": "markdown",
   "id": "2b73c358",
   "metadata": {},
   "source": [
    "### 2.2 Lectura y Escritura de Datos (CSV) <a id='2.2-lectura-datos'></a>\n",
    "\n",
    "Una de las tareas más comunes es cargar datos desde un archivo. Pandas lo hace muy fácil, especialmente con archivos CSV (Comma-Separated Values)."
   ]
  },
  {
   "cell_type": "code",
   "execution_count": null,
   "id": "90e7085d",
   "metadata": {},
   "outputs": [],
   "source": [
    "# Vamos a crear un archivo CSV de ejemplo para poder leerlo\n",
    "contenido_csv = \"\"\"ID,Nombre,Edad,Salario\n",
    "1,Ana,28,50000\n",
    "2,Luis,34,62000\n",
    "3,Marta,45,75000\n",
    "4,Javier,22,45000\n",
    "5,Sofía,39,\n",
    "\"\"\"\n",
    "with open(\"empleados.csv\", \"w\") as f:\n",
    "    f.write(contenido_csv)\n",
    "\n",
    "# Leer el archivo CSV en un DataFrame\n",
    "df_empleados = pd.read_csv(\"empleados.csv\")\n",
    "\n",
    "print(\"DataFrame cargado desde 'empleados.csv':\")\n",
    "display(df_empleados)\n",
    "\n",
    "# Métodos básicos para explorar un DataFrame\n",
    "print(\"\\nPrimeras 3 filas (.head(3)):\") # Muestra las primeras 3 filas\n",
    "display(df_empleados.head(3))\n",
    "\n",
    "print(\"\\nInformación del DataFrame (.info()):\") # Tipos de datos y valores nulos\n",
    "df_empleados.info()\n",
    "\n",
    "print(\"\\nEstadísticas descriptivas (.describe()):\") # Estadísticas para columnas numéricas\n",
    "display(df_empleados.describe())"
   ]
  },
  {
   "cell_type": "markdown",
   "id": "c8cdba09",
   "metadata": {},
   "source": [
    "### 2.3 Selección y Filtrado (loc, iloc) <a id='2.3-seleccion'></a>\n",
    "\n",
    "Hay dos formas principales de seleccionar datos:\n",
    "- **`.loc`**: Selecciona por **etiquetas** (nombres de filas/columnas).\n",
    "- **`.iloc`**: Selecciona por **posición** entera (índices numéricos)."
   ]
  },
  {
   "cell_type": "code",
   "execution_count": null,
   "id": "091c9ec3",
   "metadata": {},
   "outputs": [],
   "source": [
    "# Seleccionar una columna\n",
    "nombres = df_empleados['Nombre']\n",
    "print(\"Columna 'Nombre':\\n\", nombres)\n",
    "\n",
    "# Seleccionar múltiples columnas\n",
    "nombre_y_salario = df_empleados[['Nombre', 'Salario']]\n",
    "print(\"\\nColumnas 'Nombre' y 'Salario':\")\n",
    "display(nombre_y_salario)\n",
    "\n",
    "# .iloc: seleccionar la primera fila (posición 0)\n",
    "primera_fila = df_empleados.iloc[0]\n",
    "print(\"\\nPrimera fila (iloc[0]):\\n\", primera_fila)\n",
    "\n",
    "# .loc: seleccionar la fila con índice 2\n",
    "fila_indice_2 = df_empleados.loc[2]\n",
    "print(\"\\nFila con índice 2 (loc[2]):\\n\", fila_indice_2)\n",
    "\n",
    "# Filtrado booleano: empleados que ganan más de 60000\n",
    "salarios_altos = df_empleados[df_empleados['Salario'] > 60000]\n",
    "print(\"\\nEmpleados con salario > 60000:\")\n",
    "display(salarios_altos)"
   ]
  },
  {
   "cell_type": "markdown",
   "id": "d323a12f",
   "metadata": {},
   "source": [
    "### 2.4 Agrupación (GroupBy) <a id='2.4-groupby'></a>\n",
    "\n",
    "El `groupby` es una operación extremadamente potente que implica:\n",
    "1. **Dividir** los datos en grupos basados en algún criterio.\n",
    "2. **Aplicar** una función a cada grupo de forma independiente.\n",
    "3. **Combinar** los resultados en una estructura de datos."
   ]
  },
  {
   "cell_type": "code",
   "execution_count": null,
   "id": "d77d91aa",
   "metadata": {},
   "outputs": [],
   "source": [
    "# Creemos un DataFrame más complejo\n",
    "data_ventas = {\n",
    "    'Departamento': ['Deportes', 'Hogar', 'Deportes', 'Tecnología', 'Hogar', 'Tecnología'],\n",
    "    'Vendedor': ['Ana', 'Luis', 'Ana', 'Marta', 'Luis', 'Marta'],\n",
    "    'Ventas': [200, 150, 250, 300, 180, 320]\n",
    "}\n",
    "df_ventas = pd.DataFrame(data_ventas)\n",
    "print(\"DataFrame de ventas:\")\n",
    "display(df_ventas)\n",
    "\n",
    "# Agrupar por 'Departamento' y calcular la suma de ventas\n",
    "ventas_por_depto = df_ventas.groupby('Departamento')['Ventas'].sum()\n",
    "print(\"\\nSuma de ventas por departamento:\")\n",
    "print(ventas_por_depto)\n",
    "\n",
    "# Agrupar por 'Vendedor' y calcular la media y el total de ventas\n",
    "stats_vendedor = df_ventas.groupby('Vendedor')['Ventas'].agg(['mean', 'sum'])\n",
    "print(\"\\nEstadísticas por vendedor:\")\n",
    "display(stats_vendedor)"
   ]
  },
  {
   "cell_type": "markdown",
   "id": "9579aaf6",
   "metadata": {},
   "source": [
    "### ✅ Ejercicio 2 (Pandas): Análisis de Datos de Películas\n",
    "\n",
    "1. Crea un DataFrame con datos de películas: `Titulo`, `Director`, `Año`, `Puntuacion` (de 1 a 10).\n",
    "2. Filtra y muestra solo las películas con una puntuación mayor o igual a 8.\n",
    "3. Agrupa por `Director` y calcula la puntuación media de sus películas."
   ]
  },
  {
   "cell_type": "code",
   "execution_count": null,
   "id": "21732acd",
   "metadata": {},
   "outputs": [],
   "source": [
    "# Tu código aquí\n",
    "datos_peliculas = {\n",
    "    'Titulo': ['Pulp Fiction', 'The Dark Knight', 'Forrest Gump', 'The Dark Knight Rises', 'Inception'],\n",
    "    'Director': ['Tarantino', 'Nolan', 'Zemeckis', 'Nolan', 'Nolan'],\n",
    "    'Año': [1994, 2008, 1994, 2012, 2010],\n",
    "    'Puntuacion': [8.9, 9.0, 8.8, 8.4, 8.8]\n",
    "}\n",
    "df_peliculas = pd.DataFrame(datos_peliculas)\n",
    "\n",
    "# 1. Filtra las mejores películas\n",
    "\n",
    "# 2. Agrupa por director"
   ]
  },
  {
   "cell_type": "markdown",
   "id": "ef0d2ddb",
   "metadata": {},
   "source": [
    "<details>\n",
    "<summary>💡 <b>Solución</b></summary>\n",
    "\n",
    "```python\n",
    "mejores_peliculas = df_peliculas[df_peliculas['Puntuacion'] >= 8.8]\n",
    "print(\"Películas con puntuación >= 8.8:\")\n",
    "display(mejores_peliculas)\n",
    "\n",
    "puntuacion_media_director = df_peliculas.groupby('Director')['Puntuacion'].mean().sort_values(ascending=False)\n",
    "print(\"\\nPuntuación media por director:\")\n",
    "print(puntuacion_media_director)\n",
    "```\n",
    "</details>\n",
    "\n",
    "---"
   ]
  },
  {
   "cell_type": "markdown",
   "id": "2a2abf76",
   "metadata": {},
   "source": [
    "## 📊 3. Visualización: Matplotlib y Seaborn <a id='3-visualizacion'></a>\n",
    "\n",
    "Una imagen vale más que mil palabras (o mil filas de datos). La visualización es clave para entender patrones, tendencias y outliers.\n",
    "\n",
    "- **Matplotlib**: Es la librería base. Potente y altamente personalizable, pero a veces verbosa.\n",
    "- **Seaborn**: Construida sobre Matplotlib. Ofrece una interfaz de más alto nivel para crear gráficos estadísticos atractivos con menos código.\n",
    "\n",
    "### 3.1 Anatomía de un Gráfico con Matplotlib <a id='3.1-matplotlib'></a>"
   ]
  },
  {
   "cell_type": "code",
   "execution_count": null,
   "id": "f148246d",
   "metadata": {},
   "outputs": [],
   "source": [
    "# Datos de ejemplo\n",
    "x = np.linspace(0, 10, 100)\n",
    "y_seno = np.sin(x)\n",
    "y_coseno = np.cos(x)\n",
    "\n",
    "# Crear el gráfico\n",
    "plt.plot(x, y_seno, label='Seno(x)', color='blue', linestyle='-')\n",
    "plt.plot(x, y_coseno, label='Coseno(x)', color='red', linestyle='--')\n",
    "\n",
    "# Añadir títulos y etiquetas\n",
    "plt.title('Funciones Seno y Coseno', fontsize=16, fontweight='bold')\n",
    "plt.xlabel('Eje X', fontsize=12)\n",
    "plt.ylabel('Eje Y', fontsize=12)\n",
    "\n",
    "# Añadir leyenda\n",
    "plt.legend()\n",
    "\n",
    "# Mostrar el gráfico\n",
    "plt.show()"
   ]
  },
  {
   "cell_type": "markdown",
   "id": "b1c8c75f",
   "metadata": {},
   "source": [
    "### 3.2 Gráficos Estadísticos con Seaborn <a id='3.2-seaborn'></a>\n",
    "\n",
    "Seaborn simplifica la creación de gráficos comunes en el análisis de datos."
   ]
  },
  {
   "cell_type": "code",
   "execution_count": null,
   "id": "10b805ae",
   "metadata": {},
   "outputs": [],
   "source": [
    "# Usaremos el DataFrame de empleados que creamos antes\n",
    "print(\"Recordatorio del DataFrame de empleados:\")\n",
    "display(df_empleados)\n",
    "\n",
    "# Gráfico de dispersión (scatterplot) para ver la relación entre edad y salario\n",
    "plt.figure()\n",
    "sns.scatterplot(data=df_empleados, x='Edad', y='Salario', hue='Nombre', s=200)\n",
    "plt.title('Relación entre Edad y Salario', fontsize=16)\n",
    "plt.show()\n",
    "\n",
    "# Gráfico de barras (barplot) para comparar salarios\n",
    "plt.figure()\n",
    "sns.barplot(data=df_empleados, x='Nombre', y='Salario')\n",
    "plt.title('Salario por Empleado', fontsize=16)\n",
    "plt.show()\n",
    "\n",
    "# Histograma para ver la distribución de una variable\n",
    "plt.figure()\n",
    "sns.histplot(data=df_empleados, x='Salario', kde=True) # kde=True añade una curva de densidad\n",
    "plt.title('Distribución de Salarios', fontsize=16)\n",
    "plt.show()"
   ]
  },
  {
   "cell_type": "markdown",
   "id": "308d7142",
   "metadata": {},
   "source": [
    "### ✅ Ejercicio 3 (Visualización): Gráfico de Películas\n",
    "\n",
    "Usando el DataFrame de películas del ejercicio anterior:\n",
    "\n",
    "1. Crea un **gráfico de barras** que muestre la puntuación de cada película.\n",
    "2. Crea un **gráfico de conteo** (`countplot`) que muestre cuántas películas ha dirigido cada director en el dataset."
   ]
  },
  {
   "cell_type": "code",
   "execution_count": null,
   "id": "ec45449c",
   "metadata": {},
   "outputs": [],
   "source": [
    "# Tu código aquí\n",
    "# 1. Gráfico de barras de puntuaciones\n",
    "\n",
    "# 2. Gráfico de conteo de directores"
   ]
  },
  {
   "cell_type": "markdown",
   "id": "c7c10178",
   "metadata": {},
   "source": [
    "<details>\n",
    "<summary>💡 <b>Solución</b></summary>\n",
    "\n",
    "```python\n",
    "# 1. Gráfico de barras de puntuaciones\n",
    "plt.figure(figsize=(12, 6))\n",
    "sns.barplot(data=df_peliculas, x='Titulo', y='Puntuacion', hue='Director')\n",
    "plt.title('Puntuación por Película', fontsize=16)\n",
    "plt.xticks(rotation=45, ha='right') # Rotar etiquetas para que no se solapen\n",
    "plt.ylim(8, 9.2) # Ajustar el límite del eje Y para ver mejor las diferencias\n",
    "plt.show()\n",
    "\n",
    "# 2. Gráfico de conteo de directores\n",
    "plt.figure(figsize=(10, 6))\n",
    "sns.countplot(data=df_peliculas, x='Director', order=df_peliculas['Director'].value_counts().index)\n",
    "plt.title('Número de Películas por Director en el Dataset', fontsize=16)\n",
    "plt.show()\n",
    "```\n",
    "</details>\n",
    "\n",
    "---"
   ]
  },
  {
   "cell_type": "markdown",
   "id": "41a0bff3",
   "metadata": {},
   "source": [
    "## 📝 4. Resumen y Próximos Pasos <a id='4-resumen'></a>\n",
    "\n",
    "### 🎉 ¡Felicidades! Has dominado las librerías fundamentales\n",
    "\n",
    "#### ✅ Lo que has aprendido:\n",
    "\n",
    "1. **NumPy**\n",
    "   - Crear y manipular arrays multidimensionales.\n",
    "   - Realizar operaciones matemáticas vectorizadas y usar broadcasting.\n",
    "   - Seleccionar datos con slicing e indexación booleana.\n",
    "\n",
    "2. **Pandas**\n",
    "   - Trabajar con Series y DataFrames.\n",
    "   - Cargar datos desde archivos CSV y explorarlos.\n",
    "   - Filtrar y seleccionar datos de manera precisa con `.loc`, `.iloc` y condiciones booleanas.\n",
    "   - Agrupar datos y calcular estadísticas con `groupby`.\n",
    "\n",
    "3. **Matplotlib y Seaborn**\n",
    "   - Entender la estructura básica de un gráfico.\n",
    "   - Crear gráficos de líneas, barras, dispersión e histogramas.\n",
    "   - Usar Seaborn para crear visualizaciones estadísticas atractivas con poco código.\n",
    "\n",
    "---\n",
    "\n",
    "### 🚀 Próximo Módulo: Introducción al Machine Learning\n",
    "\n",
    "Ahora que sabes cómo manejar y visualizar datos, estás listo para el siguiente gran paso: **¡entrenar tu primer modelo de Machine Learning!**\n",
    "\n",
    "En el próximo módulo aprenderás:\n",
    "- ¿Qué es realmente el Machine Learning?\n",
    "- Los diferentes tipos de aprendizaje (supervisado, no supervisado).\n",
    "- El flujo de trabajo completo de un proyecto de ML, desde la carga de datos hasta la evaluación del modelo.\n",
    "- Conceptos clave como *overfitting*, *underfitting* y *validación cruzada*.\n",
    "\n",
    "**¡Aquí es donde todo lo que has aprendido se une para crear algo increíble!**"
   ]
  }
 ],
 "metadata": {
  "kernelspec": {
   "display_name": "Python 3 (ipykernel)",
   "language": "python",
   "name": "python3"
  },
  "language_info": {
   "codemirror_mode": {
    "name": "ipython",
    "version": 3
   },
   "file_extension": ".py",
   "mimetype": "text/x-python",
   "name": "python",
   "nbconvert_exporter": "python",
   "pygments_lexer": "ipython3",
   "version": "3.13.5"
  }
 },
 "nbformat": 4,
 "nbformat_minor": 5
}
