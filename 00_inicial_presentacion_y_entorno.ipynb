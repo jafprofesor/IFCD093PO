{
 "cells": [
  {
   "cell_type": "markdown",
   "id": "6b6912f2",
   "metadata": {},
   "source": [
    "# 🚀 Módulo inicial: Bienvenida y Puesta en Marcha\n",
    "\n",
    "Curso: Machine Learning con Python (IFCD093PO)\n",
    "\n",
    "Este módulo es el punto de partida del curso. Aquí verás los objetivos generales, una breve introducción al enfoque del curso y cómo preparar el entorno de trabajo con tres opciones: Anaconda (local), Visual Studio Code y Google Colab."
   ]
  },
  {
   "cell_type": "markdown",
   "id": "0c8a4490",
   "metadata": {},
   "source": [
    "## 🎯 Objetivos generales del curso\n",
    "\n",
    "Al finalizar el curso serás capaz de:\n",
    "\n",
    "- Programar en Python a nivel básico-intermedio orientado a ciencia de datos.\n",
    "- Manejar las librerías fundamentales: NumPy, Pandas, Matplotlib/Seaborn.\n",
    "- Comprender el flujo de trabajo de Machine Learning y aplicar modelos supervisados y no supervisados.\n",
    "- Evaluar modelos con las métricas adecuadas y comparar resultados.\n",
    "- Construir pequeños proyectos de clasificación, regresión y clustering.\n",
    "- Empaquetar y desplegar un modelo sencillo (introducción a FastAPI/Docker y opciones en la nube)."
   ]
  },
  {
   "cell_type": "markdown",
   "id": "11768d87",
   "metadata": {},
   "source": [
    "## 🧭 Estructura y enfoque\n",
    "\n",
    "- Módulos 0–1: Fundamentos matemáticos y Python.\n",
    "- Módulos 2: Aprendizaje supervisado (métricas, modelos lineales, árboles/SVM, ensembles).\n",
    "- Módulo 3: Aprendizaje no supervisado (clustering, reducción de dimensionalidad, detección de anomalías).\n",
    "- Proyectos guiados: clasificación, regresión, clustering.\n",
    "- Despliegue: introducción a APIs (FastAPI), Docker y nociones de cloud.\n",
    "\n",
    "Metodología: teoría mínima + práctica guiada + ejercicios + pequeños proyectos."
   ]
  },
  {
   "cell_type": "markdown",
   "id": "49617dca",
   "metadata": {},
   "source": [
    "## 🧩 Requisitos previos\n",
    "\n",
    "- No necesitas experiencia previa en programación (empezamos desde cero).\n",
    "- Recomendado: manejo básico de ficheros en tu sistema operativo.\n",
    "- 10–12 GB libres en disco si optas por instalación local con Anaconda."
   ]
  },
  {
   "cell_type": "markdown",
   "id": "7a572feb",
   "metadata": {},
   "source": [
    "---\n",
    "\n",
    "# ⚙️ Puesta en marcha del entorno\n",
    "\n",
    "A continuación tienes tres opciones. Puedes elegir una o combinar (por ejemplo, desarrollar localmente y usar Colab en un equipo sin instalación)."
   ]
  },
  {
   "cell_type": "markdown",
   "id": "fe40cd89",
   "metadata": {},
   "source": [
    "## Opción A: Anaconda (local) — uso guiado \n",
    "\n",
    "1) Instalar Anaconda (Windows)\n",
    "- Descarga: https://www.anaconda.com/download e instala con las opciones por defecto.\n",
    "- Marca “Add Anaconda3 to my PATH” solo si sabes lo que haces; con Anaconda Prompt no es necesario.\n",
    "\n",
    "2) Abrir Anaconda Navigator\n",
    "- Inicio de Windows > Anaconda Navigator.\n",
    "- Espera a que cargue los entornos.\n",
    "\n",
    "![Anaconda Navigator](imagenes/anaconda_navigator.png)\n",
    "\n",
    "3) Crear el entorno del curso\n",
    "- En la barra lateral, pestaña “Environments”.\n",
    "- Clic en “Create”. Nombre: `ml-ifcd093po`. Versión de Python: 3.11. Aceptar.\n",
    "\n",
    "![Crear entorno](imagenes/crear_entorno.png)\n",
    "\n",
    "![Dialogo emergente](imagenes/crear_entorno_2.png)\n",
    "\n",
    "4) Instalar librerías del curso\n",
    "- Con el entorno `ml-ifcd093po` seleccionado, cambia el filtro a “Not installed”.\n",
    "- Busca e instala (marca check y “Apply”): `numpy`, `pandas`, `matplotlib`, `seaborn`, `scikit-learn`, `fastapi`, `uvicorn`.\n",
    "- Consejo: si no aparecen, activa el canal `conda-forge` en “Channels”.\n",
    "\n",
    "5) Abrir JupyterLab o VS Code desde Navigator\n",
    "- Pestaña “Home”. Con `ml-ifcd093po` como entorno (arriba a la derecha), pulsa “Launch” en:\n",
    "  - JupyterLab (recomendado para empezar), o\n",
    "  - Visual Studio Code (si lo tienes integrado en Navigator).\n",
    "- En JupyterLab, al abrir un `.ipynb`, elige el kernel `Python [conda env: ml-ifcd093po]`.\n",
    "\n",
    "![Instalar extensiones](imagenes/extensiones_anaconda.png)\n",
    "<details>\n",
    "<summary>Alternativa rápida por terminal (opcional)</summary>\n",
    "\n",
    "```powershell\n",
    "# En Anaconda Prompt (Windows)\n",
    "conda create -n ml-ifcd093po python=3.11 -y\n",
    "conda activate ml-ifcd093po\n",
    "pip install -r requirements.txt\n",
    "jupyter lab  # o: code .\n",
    "```\n",
    "\n",
    "</details>\n",
    "\n",
    "6) Verificación\n",
    "- Abre este cuaderno y ejecuta la celda “Verificación rápida del entorno” de más abajo.\n",
    "- Si alguna librería falla, vuelve a Environments y reinstálala."
   ]
  },
  {
   "cell_type": "markdown",
   "id": "d9de8081",
   "metadata": {},
   "source": [
    "## Opción B: Visual Studio Code (local) — enfoque GUI\n",
    "\n",
    "1) Instalar VS Code y extensiones\n",
    "- Descarga VS Code: https://code.visualstudio.com/\n",
    "- Extensiones: “Python” y “Jupyter” (Microsoft). Menú: Extensiones > buscar > Instalar.\n",
    "\n",
    "2) Abrir la carpeta del curso\n",
    "- Archivo > Abrir carpeta… > selecciona `IFCD093PO_final`.\n",
    "\n",
    "3) Seleccionar intérprete de Python (sin terminal)\n",
    "- Ctrl+Shift+P > “Python: Select Interpreter”.\n",
    "- Elige: `Conda (ml-ifcd093po)`.\n",
    "- Consejo: si no aparece, abre Anaconda Navigator y asegúrate de que el entorno existe.\n",
    "\n",
    "4) Elegir kernel del notebook\n",
    "- Abre cualquier `.ipynb`.\n",
    "- Arriba a la derecha, clic en el nombre del kernel > selecciona el entorno `ml-ifcd093po`.\n",
    "\n",
    "5) Instalar dependencias (opción sin terminal usando Navigator)\n",
    "- Preferible: gestiona paquetes desde Anaconda Navigator (ver Opción A, paso 4), así evitas terminal.\n",
    "\n",
    "6) Ejecutar celdas\n",
    "- Ejecuta con “Run All” o el botón de play de cada celda.\n",
    "- Si aparece un aviso de permisos o selección de kernel, acepta/selecciona `ml-ifcd093po`.\n",
    "\n",
    "<details>\n",
    "<summary>Alternativa por terminal (opcional)</summary>\n",
    "\n",
    "```powershell\n",
    "conda activate ml-ifcd093po\n",
    "pip install -r requirements.txt\n",
    "```\n",
    "\n",
    "</details>"
   ]
  },
  {
   "cell_type": "markdown",
   "id": "08a77b57",
   "metadata": {},
   "source": [
    "## Opción C: Google Colab (sin instalación) — todo desde el navegador\n",
    "\n",
    "1) Abrir Colab\n",
    "- https://colab.research.google.com > Inicia sesión.\n",
    "\n",
    "2) Abrir o subir el cuaderno\n",
    "- Archivo > Abrir cuaderno > Pestaña “GitHub” o “Subir”.\n",
    "- También: Archivo > Subir cuaderno… y selecciona el `.ipynb` del curso.\n",
    "\n",
    "3) Preparar dependencias mínimas\n",
    "- Añade una celda al inicio y ejecuta (solo si no están instaladas):\n",
    "\n",
    "```python\n",
    "# Ejecuta esta celda si falta alguna librería\n",
    "!pip -q install numpy pandas matplotlib seaborn scikit-learn fastapi uvicorn\n",
    "```\n",
    "\n",
    "4) Acceder a archivos del curso\n",
    "- Si los tienes en Google Drive:\n",
    "\n",
    "```python\n",
    "from google.colab import drive\n",
    "drive.mount('/content/drive')\n",
    "# Navega a tu carpeta de trabajo en /content/drive/MyDrive\n",
    "```\n",
    "\n",
    "5) Elegir aceleración (opcional)\n",
    "- Entorno de ejecución > Cambiar tipo de entorno > Acelerador de hardware: Ninguno / GPU.\n",
    "\n",
    "Consejos\n",
    "- Mantén los cuadernos y datos en Drive para no perderlos al cerrar la sesión.\n",
    "- Evita instalaciones pesadas en cada sesión pegando la celda de pip en tus cuadernos base."
   ]
  },
  {
   "cell_type": "markdown",
   "id": "d7339ec7",
   "metadata": {},
   "source": [
    "---\n",
    "\n",
    "## ✅ Verificación rápida del entorno\n",
    "Ejecuta esta celda. Si todo va bien, verás versiones y librerías básicas funcionando."
   ]
  },
  {
   "cell_type": "code",
   "execution_count": null,
   "id": "22ed75e1",
   "metadata": {},
   "outputs": [],
   "source": [
    "import sys\n",
    "print('Python:', sys.version)\n",
    "\n",
    "def check_import(modname):\n",
    "    try:\n",
    "        mod = __import__(modname)\n",
    "        ver = getattr(mod, '__version__', 'N/A')\n",
    "        print(f'{modname}:', ver)\n",
    "    except Exception as e:\n",
    "        print(f'{modname}: NO DISPONIBLE ({e})')\n",
    "\n",
    "for m in ['numpy', 'pandas', 'matplotlib', 'seaborn', 'sklearn']:\n",
    "    check_import(m)"
   ]
  },
  {
   "cell_type": "markdown",
   "id": "d8b9ed63",
   "metadata": {},
   "source": [
    "## 💡 Consejos de trabajo\n",
    "\n",
    "- Usa un entorno aislado (conda env) para evitar conflictos de versiones.\n",
    "- Revisa `requirements.txt` y actualízalo si añades librerías nuevas.\n",
    "- Guarda tu trabajo con frecuencia. Si usas Colab, conecta con Drive.\n",
    "- Añade comentarios y usa notebooks como cuadernos de aprendizaje (texto + código)."
   ]
  },
  {
   "cell_type": "markdown",
   "id": "4651ddb9",
   "metadata": {},
   "source": [
    "## ❓ Preguntas frecuentes\n",
    "\n",
    "- ¿Necesito GPU? Para este curso no es imprescindible. La parte de ML clásico funciona en CPU.\n",
    "- ¿Cuál opción elijo? Si puedes instalar localmente, Anaconda + VS Code dan mejor experiencia. Si no, Colab es suficiente.\n",
    "- ¿Qué versión de Python? 3.10 o 3.11 funcionan bien con las librerías del curso."
   ]
  }
 ],
 "metadata": {
  "kernelspec": {
   "display_name": "Python 3 (ipykernel)",
   "language": "python",
   "name": "python3"
  },
  "language_info": {
   "codemirror_mode": {
    "name": "ipython",
    "version": 3
   },
   "file_extension": ".py",
   "mimetype": "text/x-python",
   "name": "python",
   "nbconvert_exporter": "python",
   "pygments_lexer": "ipython3",
   "version": "3.13.7"
  }
 },
 "nbformat": 4,
 "nbformat_minor": 5
}
