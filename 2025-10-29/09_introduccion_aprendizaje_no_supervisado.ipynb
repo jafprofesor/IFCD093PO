{
 "cells": [
  {
   "cell_type": "markdown",
   "id": "73d0a6ce",
   "metadata": {},
   "source": [
    "# 🌍 Módulo 3.1: Introducción al Aprendizaje No Supervisado\n",
    "### Curso: **Machine Learning con Python** (IFCD093PO)\n",
    "**Duración estimada:** 4 horas\n",
    "\n",
    "---\n",
    "\n",
    "## 🎯 Objetivos del Módulo\n",
    "\n",
    "Bienvenido a un nuevo paradigma del Machine Learning. Hasta ahora, siempre hemos tenido una \"respuesta correcta\" (etiqueta) que guíaba el aprendizaje. ¿Pero qué pasa cuando no la tenemos? En este módulo, te sumergirás en el **Aprendizaje No Supervisado**, el arte de encontrar patrones y estructura en datos sin etiquetar.\n",
    "\n",
    "Al finalizar, serás capaz de:\n",
    "\n",
    "- ✅ Diferenciar claramente entre **Aprendizaje Supervisado y No Supervisado**.\n",
    "- ✅ Entender el propósito y las aplicaciones de las tres tareas principales del aprendizaje no supervisado:\n",
    "  - **Clustering (Agrupamiento)**: Para descubrir grupos naturales en los datos.\n",
    "  - **Reducción de Dimensionalidad**: Para simplificar y visualizar datos complejos.\n",
    "  - **Detección de Anomalías**: Para encontrar observaciones inusuales.\n",
    "- ✅ Conocer los desafíos únicos de este tipo de aprendizaje, como la dificultad de evaluar los resultados.\n",
    "- ✅ Identificar problemas de negocio que pueden resolverse con técnicas no supervisadas.\n",
    "\n",
    "**¡Prepárate para convertirte en un detective de datos y descubrir las historias ocultas que tus datos tienen que contar!**\n",
    "\n",
    "---"
   ]
  },
  {
   "cell_type": "markdown",
   "id": "1584d89a",
   "metadata": {},
   "source": [
    "## 📚 Tabla de Contenidos\n",
    "\n",
    "1. [Un Mundo sin Etiquetas](#1-sin-etiquetas)\n",
    "   - [Repaso: Aprendizaje Supervisado](#1.1-repaso-sup)\n",
    "   - [El Cambio de Paradigma: Aprendizaje No Supervisado](#1.2-cambio-paradigma)\n",
    "2. [Principales Tareas del Aprendizaje No Supervisado](#2-tareas)\n",
    "   - [Clustering: Encontrando los Grupos](#2.1-clustering)\n",
    "   - [Reducción de Dimensionalidad: Simplificando la Complejidad](#2.2-reduccion)\n",
    "   - [Detección de Anomalías: Buscando lo Extraño](#2.3-anomalias)\n",
    "3. [Aplicaciones en el Mundo Real](#3-aplicaciones)\n",
    "4. [Desafíos del Aprendizaje No Supervisado](#4-desafios)\n",
    "5. [Resumen y Próximos Pasos](#5-resumen)\n",
    "\n",
    "---"
   ]
  },
  {
   "cell_type": "markdown",
   "id": "942096a5",
   "metadata": {},
   "source": [
    "## 🗺️ 1. Un Mundo sin Etiquetas <a id='1-sin-etiquetas'></a>\n",
    "\n",
    "### 1.1 Repaso: Aprendizaje Supervisado <a id='1.1-repaso-sup'></a>\n",
    "\n",
    "En el aprendizaje supervisado, el objetivo es aprender una función que mapea las entradas `X` a las salidas `y`.\n",
    "\n",
    "`(X, y) -> Modelo -> Predicción`\n",
    "\n",
    "- **Datos**: Tenemos características (`X`) y una etiqueta o variable objetivo (`y`).\n",
    "- **Objetivo**: Predecir `y` para nuevos datos `X`.\n",
    "- **Evaluación**: Comparamos las predicciones con las etiquetas reales (`y_test`).\n",
    "- **Ejemplos**: Predecir el precio de una casa, clasificar si un email es spam.\n",
    "\n",
    "![Supervised Learning](imagenes/Supervised_Learning.png)"
   ]
  },
  {
   "cell_type": "markdown",
   "id": "b24fcd3d",
   "metadata": {},
   "source": [
    "### 1.2 El Cambio de Paradigma: Aprendizaje No Supervisado <a id='1.2-cambio-paradigma'></a>\n",
    "\n",
    "En el aprendizaje no supervisado, **no tenemos una variable objetivo `y`**. Solo tenemos los datos de entrada `X`.\n",
    "\n",
    "`X -> Modelo -> Estructura/Patrones`\n",
    "\n",
    "- **Datos**: Solo tenemos características (`X`). No hay \"respuesta correcta\".\n",
    "- **Objetivo**: Encontrar estructura, patrones, grupos o anomalías inherentes en los datos.\n",
    "- **Evaluación**: Mucho más difícil y subjetiva. A menudo requiere inspección humana o métricas indirectas.\n",
    "- **Ejemplos**: Segmentar clientes en grupos de marketing, comprimir imágenes, detectar transacciones fraudulentas.\n",
    "\n",
    "![Unsupervised Learning](imagenes/Unsupervised_Learning.png)\n",
    "\n",
    "**¿Por qué es útil?** En muchos escenarios del mundo real, obtener datos etiquetados es caro, lento o simplemente imposible. El aprendizaje no supervisado nos permite extraer valor de grandes cantidades de datos sin etiquetar."
   ]
  },
  {
   "cell_type": "markdown",
   "id": "c8693d99",
   "metadata": {},
   "source": [
    "---"
   ]
  },
  {
   "cell_type": "markdown",
   "id": "8e2ac5fe",
   "metadata": {},
   "source": [
    "## 🚀 2. Principales Tareas del Aprendizaje No Supervisado <a id='2-tareas'></a>\n",
    "\n",
    "Vamos a explorar las tres familias principales de algoritmos no supervisados."
   ]
  },
  {
   "cell_type": "markdown",
   "id": "00db91e0",
   "metadata": {},
   "source": [
    "### 2.1 Clustering: Encontrando los Grupos <a id='2.1-clustering'></a>\n",
    "\n",
    "El **clustering** es la tarea de agrupar un conjunto de objetos de tal manera que los objetos en el mismo grupo (llamado **clúster**) sean más similares entre sí que con los de otros grupos.\n",
    "\n",
    "**Objetivo**: Descubrir las agrupaciones naturales en los datos.\n",
    "\n",
    "**Algoritmos Comunes**: K-Means, DBSCAN, Clustering Jerárquico.\n",
    "\n",
    "**Ejemplo Visual**: Imagina que tenemos datos de clientes basados en sus gastos y frecuencia de compra. Un algoritmo de clustering podría identificar automáticamente diferentes segmentos de clientes."
   ]
  },
  {
   "cell_type": "code",
   "execution_count": null,
   "id": "339de42d",
   "metadata": {},
   "outputs": [],
   "source": [
    "from sklearn.datasets import make_blobs\n",
    "import matplotlib.pyplot as plt\n",
    "\n",
    "# Generar datos sintéticos con 3 grupos claros\n",
    "# make_blobs crea datos para clustering\n",
    "# Parámetros:\n",
    "# - n_samples: número de muestras\n",
    "# - centers: número de centros (grupos)\n",
    "# - n_features: número de características\n",
    "# - random_state: semilla para reproducibilidad\n",
    "# - cluster_std: desviación estándar de los clusters\n",
    "\n",
    "X, y = make_blobs(n_samples=300, centers=3, n_features=2, random_state=42, cluster_std=1.0)\n",
    "\n",
    "plt.figure(figsize=(8, 6))\n",
    "plt.scatter(X[:, 0], X[:, 1], s=50)\n",
    "plt.title(\"Datos sin Etiquetar para Clustering\")\n",
    "plt.xlabel(\"Característica 1\")\n",
    "plt.ylabel(\"Característica 2\")\n",
    "plt.show()\n",
    "\n",
    "print(\"El objetivo del clustering sería identificar estos 3 grupos sin conocer las etiquetas de color.\")"
   ]
  },
  {
   "cell_type": "markdown",
   "id": "a1fb45b6",
   "metadata": {},
   "source": [
    "### 2.2 Reducción de Dimensionalidad: Simplificando la Complejidad <a id='2.2-reduccion'></a>\n",
    "\n",
    "La **reducción de dimensionalidad** consiste en reducir el número de características (dimensiones) de un conjunto de datos, conservando la mayor cantidad de información relevante posible.\n",
    "\n",
    "**¿Por qué hacerlo?**\n",
    "- **Visualización**: Los humanos no podemos visualizar datos en más de 3 dimensiones. Reducir los datos a 2D o 3D nos permite explorarlos visualmente.\n",
    "- **Eficiencia Computacional**: Menos características significa que los modelos se entrenan más rápido.\n",
    "- **Combatir la \"Maldición de la Dimensionalidad\"**: En dimensiones muy altas, los datos se vuelven muy dispersos, lo que puede dificultar el aprendizaje de los modelos.\n",
    "\n",
    "**Algoritmos Comunes**: PCA (Análisis de Componentes Principales), t-SNE, UMAP.\n",
    "\n",
    "**Ejemplo**: El famoso dataset de dígitos escritos a mano tiene 64 características (una por cada píxel de 8x8). Usando PCA, podemos reducirlo a 2 características y visualizar cómo se agrupan los diferentes dígitos."
   ]
  },
  {
   "cell_type": "code",
   "execution_count": null,
   "id": "9e884071",
   "metadata": {},
   "outputs": [],
   "source": [
    "# El conjunto de datos de dígitos manuscritos es un buen ejemplo para aplicar PCA\n",
    "\n",
    "from sklearn.datasets import load_digits # Cargar el conjunto de datos de dígitos\n",
    "from sklearn.decomposition import PCA # Análisis de Componentes Principales\n",
    "import warnings\n",
    "warnings.filterwarnings(\"ignore\") # Ignorar advertencias para una salida más limpia\n",
    "\n",
    "digits = load_digits() # Cargar datos de dígitos manuscritos\n",
    "X_digits = digits.data # Datos de características (64 dimensiones)\n",
    "y_digits = digits.target # Etiquetas de los dígitos (0-9)\n",
    "# Para visualizar un dígito los diez primeros digitos manuscritos\n",
    "# En tamaño más pequeño para que se vea mejor y en horizontal uno al lado del otro   \n",
    "plt.figure(figsize=(8, 2))\n",
    "for i in range(10):\n",
    "    plt.subplot(1, 10, i + 1)\n",
    "    plt.imshow(X_digits[i].reshape(8, 8), cmap='gray')\n",
    "    plt.title(f\"{y_digits[i]}\")\n",
    "    plt.axis('off')\n",
    "plt.tight_layout()\n",
    "plt.show()\n",
    "\n",
    "print(f\"Dimensiones originales de los datos: {X_digits.shape}\")\n",
    "\n",
    "# Reducir de 64 a 2 dimensiones\n",
    "pca = PCA(n_components=2) # Inicializar PCA para 2 componentes\n",
    "X_digits_pca = pca.fit_transform(X_digits) # Aplicar PCA a los datos\n",
    "\n",
    "print(f\"Dimensiones después de PCA: {X_digits_pca.shape}\")\n",
    "\n",
    "# Visualizar los datos reducidos\n",
    "plt.figure(figsize=(10, 8))\n",
    "plt.scatter(X_digits_pca[:, 0], X_digits_pca[:, 1], c=y_digits, cmap=plt.cm.get_cmap('jet', 10))\n",
    "plt.colorbar(label='Dígito', ticks=range(10))\n",
    "plt.title(\"Visualización de los Dígitos en 2D usando PCA\")\n",
    "plt.xlabel(\"Componente Principal 1\")\n",
    "plt.ylabel(\"Componente Principal 2\")\n",
    "plt.show()\n"
   ]
  },
  {
   "cell_type": "markdown",
   "id": "86731b03",
   "metadata": {},
   "source": [
    "**Explicación del gráfico:**\n",
    "\n",
    "- El gráfico muestra cómo se ven los datos de los dígitos manuscritos (imágenes de 8x8 píxeles) después de aplicar **PCA** para reducir su complejidad.\n",
    "- **Originalmente**, cada imagen es un punto en un espacio de 64 dimensiones (una dimensión por cada píxel).\n",
    "- **PCA** (Análisis de Componentes Principales) nos permite resumir la información más importante de esos 64 valores en solo **2 dimensiones**. Así, podemos visualizar los datos en un plano 2D.\n",
    "- **Cada punto** en el gráfico es una imagen de un dígito. El **color** del punto indica qué número representa (del 0 al 9).\n",
    "- Si ves que los puntos del mismo color tienden a agruparse y están separados de otros colores, significa que PCA ha logrado encontrar patrones que distinguen bien los diferentes dígitos.\n",
    "- En resumen: este gráfico nos ayuda a ver si los dígitos escritos a mano tienen características que los hacen distinguibles, incluso después de simplificar mucho la información."
   ]
  },
  {
   "cell_type": "markdown",
   "id": "d0134d52",
   "metadata": {},
   "source": [
    "### 2.3 Detección de Anomalías: Buscando lo Extraño <a id='2.3-anomalias'></a>\n",
    "\n",
    "La **detección de anomalías (o outliers)** es la tarea de identificar observaciones que son raras y se desvían significativamente del resto de los datos.\n",
    "\n",
    "**Objetivo**: Encontrar los \"puntos raros\".\n",
    "\n",
    "**Algoritmos Comunes**: Isolation Forest, Local Outlier Factor (LOF), One-Class SVM.\n",
    "\n",
    "**Ejemplo**: En un conjunto de datos de transacciones con tarjeta de crédito, la gran mayoría son legítimas. Las transacciones fraudulentas son raras y tienen patrones diferentes. Un algoritmo de detección de anomalías puede identificarlas sin haber visto nunca una etiqueta de \"fraude\"."
   ]
  },
  {
   "cell_type": "markdown",
   "id": "1b5b9b9a",
   "metadata": {},
   "source": [
    "---"
   ]
  },
  {
   "cell_type": "markdown",
   "id": "a5355dc9",
   "metadata": {},
   "source": [
    "## 🏢 3. Aplicaciones en el Mundo Real <a id='3-aplicaciones'></a>\n",
    "\n",
    "| Tarea | Aplicación de Negocio |\n",
    "| :--- | :--- |\n",
    "| **Clustering** | **Segmentación de Clientes**: Agrupar clientes con comportamientos de compra similares para campañas de marketing dirigidas. |\n",
    "| | **Agrupación de Documentos**: Organizar noticias o documentos por temas sin necesidad de leerlos. |\n",
    "| | **Genómica**: Agrupar genes con patrones de expresión similares. |\n",
    "| **Reducción de Dim.** | **Compresión de Imágenes**: Reducir el tamaño de las imágenes eliminando información redundante. |\n",
    "| | **Visualización de Datos**: Explorar datasets de alta dimensión en gráficos 2D/3D. |\n",
    "| | **Preprocesamiento**: Usar las componentes principales como características para un modelo supervisado posterior. |\n",
    "| **Detección de Anom.** | **Detección de Fraude**: Identificar transacciones fraudulentas en sistemas bancarios. |\n",
    "| | **Mantenimiento Predictivo**: Detectar lecturas anómalas en sensores de maquinaria para predecir fallos. |\n",
    "| | **Ciberseguridad**: Detectar intrusiones o comportamientos extraños en una red. |\n",
    "\n",
    "---"
   ]
  },
  {
   "cell_type": "markdown",
   "id": "66374398",
   "metadata": {},
   "source": [
    "## 🚧 4. Desafíos del Aprendizaje No Supervisado <a id='4-desafios'></a>\n",
    "\n",
    "1.  **Evaluación Difícil**: Sin una \"verdad fundamental\" (ground truth), es difícil saber si tu modelo es \"bueno\". ¿Son 3 clústeres mejores que 4? La respuesta a menudo depende del contexto y de la interpretación humana.\n",
    "\n",
    "2.  **Interpretación de Resultados**: El modelo puede encontrar grupos, pero no te dice *qué significan*. El científico de datos debe analizar los clústeres para entender sus características y darles un nombre o sentido de negocio.\n",
    "\n",
    "3.  **Sensibilidad a los Hiperparámetros**: Muchos algoritmos no supervisados son muy sensibles a la configuración de sus hiperparámetros (por ejemplo, el número de clústeres `k` en K-Means).\n",
    "\n",
    "4.  **La Maldición de la Dimensionalidad**: A medida que aumenta el número de características, la distancia entre los puntos se vuelve menos significativa, lo que puede dificultar la tarea de algoritmos basados en distancia como el clustering."
   ]
  },
  {
   "cell_type": "markdown",
   "id": "073c0a72",
   "metadata": {},
   "source": [
    "---"
   ]
  },
  {
   "cell_type": "markdown",
   "id": "aaf157ee",
   "metadata": {},
   "source": [
    "## 📝 5. Resumen y Próximos Pasos <a id='5-resumen'></a>\n",
    "\n",
    "### 🎉 ¡Has abierto la puerta a un nuevo universo de posibilidades en Machine Learning!\n",
    "\n",
    "#### ✅ Lo que has aprendido:\n",
    "\n",
    "1. **El Concepto Clave**\n",
    "   - El Aprendizaje No Supervisado se trata de **encontrar estructura en datos sin etiquetar**.\n",
    "\n",
    "2. **Las Tres Grandes Tareas**\n",
    "   - **Clustering**: Para encontrar grupos (ej. segmentos de clientes).\n",
    "   - **Reducción de Dimensionalidad**: Para simplificar y visualizar (ej. PCA).\n",
    "   - **Detección de Anomalías**: Para encontrar lo inusual (ej. fraude).\n",
    "\n",
    "3. **Aplicaciones y Desafíos**\n",
    "   - Has visto cómo estas técnicas resuelven problemas de negocio reales.\n",
    "   - Comprendes que la evaluación e interpretación son los mayores desafíos en este campo.\n",
    "\n",
    "---\n",
    "\n",
    "### 🚀 Próximo Módulo: Métricas en Aprendizaje No Supervisado\n",
    "\n",
    "Hemos dicho que evaluar los modelos no supervisados es difícil, pero no imposible. Existen métricas que nos pueden ayudar a cuantificar la calidad de nuestros resultados, especialmente en el clustering.\n",
    "\n",
    "En el próximo módulo, exploraremos:\n",
    "\n",
    "- **Métricas de Evaluación de Clustering**: ¿Cómo sabemos si nuestros clústeres son buenos? Aprenderás sobre el Coeficiente de Silueta, el Índice de Davies-Bouldin y más.\n",
    "- **El Método del Codo (Elbow Method)**: Una técnica para ayudarnos a elegir el número óptimo de clústeres.\n",
    "\n",
    "**Has aprendido a buscar patrones. Ahora, ¡vamos a aprender a medir la calidad de los patrones que encontramos!**"
   ]
  }
 ],
 "metadata": {
  "kernelspec": {
   "display_name": "cpu",
   "language": "python",
   "name": "python3"
  },
  "language_info": {
   "codemirror_mode": {
    "name": "ipython",
    "version": 3
   },
   "file_extension": ".py",
   "mimetype": "text/x-python",
   "name": "python",
   "nbconvert_exporter": "python",
   "pygments_lexer": "ipython3",
   "version": "3.13.7"
  }
 },
 "nbformat": 4,
 "nbformat_minor": 5
}
