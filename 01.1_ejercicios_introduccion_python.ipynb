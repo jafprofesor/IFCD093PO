{
 "cells": [
  {
   "cell_type": "markdown",
   "id": "f30b89d3",
   "metadata": {},
   "source": [
    "# 🧪 01.1 Ejercicios de Introducción a Python\n",
    "\n",
    "Este cuaderno recoge ejercicios prácticos sobre los temas del Módulo 01. Cada ejercicio incluye:\n",
    "\n",
    "- Una breve explicación de qué hacer.\n",
    "- Una celda para que escribas tu solución.\n",
    "- Una celda de solución oculta para que compruebes tu respuesta.\n",
    "\n",
    "Consejo: intenta resolver cada ejercicio sin mirar la solución. Si te atascas, prueba a dividir el problema en pasos pequeños."
   ]
  },
  {
   "cell_type": "markdown",
   "id": "1addd3cf",
   "metadata": {},
   "source": [
    "## 📚 Índice\n",
    "\n",
    "2. Tu primer programa: Hola Mundo\n",
    "3. Variables y tipos de datos\n",
    "4. Estructuras de datos (listas, diccionarios, tuplas, sets)\n",
    "5. Control de flujo (condicionales y bucles)\n",
    "6. Funciones\n",
    "7. Programación Orientada a Objetos (POO)"
   ]
  },
  {
   "cell_type": "markdown",
   "id": "08f95f92",
   "metadata": {},
   "source": [
    "---\n",
    "\n",
    "## 👋 2) Tu primer programa: Hola, Mundo\n",
    "En esta sección practicarás `print`, formateo de cadenas y algunos detalles útiles como `sep` y `end`."
   ]
  },
  {
   "cell_type": "markdown",
   "id": "629f23c5",
   "metadata": {},
   "source": [
    "### Ejercicio 2.1 — Imprime dos líneas\n",
    "Imprime en dos líneas separadas:\n",
    "- `Hola, Mundo`\n",
    "- `Bienvenid@ a Python`"
   ]
  },
  {
   "cell_type": "code",
   "execution_count": null,
   "id": "ebf70ef9",
   "metadata": {},
   "outputs": [],
   "source": [
    "# Tu código aquí\n",
    "print()\n",
    "print()"
   ]
  },
  {
   "cell_type": "markdown",
   "id": "5479d762",
   "metadata": {},
   "source": [
    "<details>\n",
    "<summary>💡 Solución (haz clic para ver)</summary>\n",
    "\n",
    "```python\n",
    "print('Hola, Mundo')\n",
    "print('Bienvenid@ a Python')\n",
    "```\n",
    "\n",
    "</details>"
   ]
  },
  {
   "cell_type": "markdown",
   "id": "055476d2",
   "metadata": {},
   "source": [
    "### Ejercicio 2.2 — Usa variables y f-strings\n",
    "Crea variables `nombre` y `edad` y muestra: `Me llamo <nombre> y tengo <edad> años`."
   ]
  },
  {
   "cell_type": "code",
   "execution_count": null,
   "id": "fa63ede0",
   "metadata": {},
   "outputs": [],
   "source": [
    "# Tu código aquí\n",
    "nombre = 'Ana'\n",
    "edad = 28\n",
    "# Muestra el mensaje usando f-strings\n",
    "..."
   ]
  },
  {
   "cell_type": "markdown",
   "id": "9f240e79",
   "metadata": {},
   "source": [
    "<details>\n",
    "<summary>💡 Solución (haz clic para ver)</summary>\n",
    "\n",
    "```python\n",
    "nombre = 'Ana'\n",
    "edad = 28\n",
    "print(f'Me llamo {nombre} y tengo {edad} años')\n",
    "```\n",
    "\n",
    "</details>"
   ]
  },
  {
   "cell_type": "markdown",
   "id": "b1784661",
   "metadata": {},
   "source": [
    "### Ejercicio 2.3 — Parámetros de print\n",
    "Imprime los números 1, 2 y 3 en una sola línea separados por `-` sin salto final (no debe haber salto de línea al final)."
   ]
  },
  {
   "cell_type": "code",
   "execution_count": null,
   "id": "ee1568cc",
   "metadata": {},
   "outputs": [],
   "source": [
    "# Tu código aquí\n",
    "# Pista: usa sep y end\n",
    "..."
   ]
  },
  {
   "cell_type": "markdown",
   "id": "aefd49a9",
   "metadata": {},
   "source": [
    "<details>\n",
    "<summary>💡 Solución (haz clic para ver)</summary>\n",
    "\n",
    "```python\n",
    "print(1, 2, 3, sep='-', end='')\n",
    "```\n",
    "\n",
    "</details>"
   ]
  },
  {
   "cell_type": "markdown",
   "id": "4f84be4f",
   "metadata": {},
   "source": [
    "### Ejercicio 2.4 — Secuencias de escape\n",
    "Imprime un pequeño menú en tres líneas con tabulaciones (\\t) y saltos de línea (\\n)."
   ]
  },
  {
   "cell_type": "code",
   "execution_count": null,
   "id": "98da9f2f",
   "metadata": {},
   "outputs": [],
   "source": [
    "# Tu código aquí\n",
    "menu = ...  # usa \"\\n\" y \"\\t\"\n",
    "print(menu)"
   ]
  },
  {
   "cell_type": "markdown",
   "id": "bacfb787",
   "metadata": {},
   "source": [
    "<details>\n",
    "<summary>💡 Solución (haz clic para ver)</summary>\n",
    "\n",
    "```python\n",
    "menu = 'Menú:\\n\\t1) Iniciar\\n\\t2) Configuración\\n\\t3) Salir'\n",
    "print(menu)\n",
    "```\n",
    "\n",
    "</details>"
   ]
  },
  {
   "cell_type": "markdown",
   "id": "7cd0d743",
   "metadata": {},
   "source": [
    "### Ejercicio 2.5 — Texto multilínea con formato\n",
    "Crea un banner multilínea (triple comillas) que muestre un título centrado con asteriscos a los lados (no hace falta alinear perfectamente, solo decorar)."
   ]
  },
  {
   "cell_type": "code",
   "execution_count": null,
   "id": "4b5005de",
   "metadata": {},
   "outputs": [],
   "source": [
    "# Tu código aquí\n",
    "titulo = 'Mi Programa'\n",
    "banner = ...\n",
    "print(banner)"
   ]
  },
  {
   "cell_type": "markdown",
   "id": "65ae3b85",
   "metadata": {},
   "source": [
    "<details>\n",
    "<summary>💡 Solución (haz clic para ver)</summary>\n",
    "\n",
    "```python\n",
    "titulo = 'Mi Programa'\n",
    "banner = f\"\"\"\n",
    "***************\n",
    "* {titulo} *\n",
    "***************\n",
    "\"\"\"\n",
    "print(banner)\n",
    "```\n",
    "\n",
    "</details>"
   ]
  },
  {
   "cell_type": "markdown",
   "id": "a4030d0c",
   "metadata": {},
   "source": [
    "---\n",
    "## 📦 3) Variables y tipos de datos\n",
    "Practicarás creación, conversión y operaciones básicas con variables de diferentes tipos."
   ]
  },
  {
   "cell_type": "markdown",
   "id": "d458b14d",
   "metadata": {},
   "source": [
    "### Ejercicio 3.1 — Crea variables de distintos tipos\n",
    "Crea variables `un_entero`, `un_float`, `un_texto`, `un_booleano` y muestra sus valores y tipos con `type()`."
   ]
  },
  {
   "cell_type": "code",
   "execution_count": null,
   "id": "b7914597",
   "metadata": {},
   "outputs": [],
   "source": [
    "# Tu código aquí\n",
    "un_entero = ...\n",
    "un_float = ...\n",
    "un_texto = ...\n",
    "un_booleano = ...\n",
    "print(un_entero, type(un_entero))\n",
    "print(un_float, type(un_float))\n",
    "print(un_texto, type(un_texto))\n",
    "print(un_booleano, type(un_booleano))"
   ]
  },
  {
   "cell_type": "markdown",
   "id": "cd0df2be",
   "metadata": {},
   "source": [
    "<details>\n",
    "<summary>💡 Solución</summary>\n",
    "\n",
    "```python\n",
    "un_entero = 10\n",
    "un_float = 3.14\n",
    "un_texto = 'Python'\n",
    "un_booleano = True\n",
    "print(un_entero, type(un_entero))\n",
    "print(un_float, type(un_float))\n",
    "print(un_texto, type(un_texto))\n",
    "print(un_booleano, type(un_booleano))\n",
    "```\n",
    "\n",
    "</details>"
   ]
  },
  {
   "cell_type": "markdown",
   "id": "213ad237",
   "metadata": {},
   "source": [
    "### Ejercicio 3.2 — Conversión de tipos\n",
    "Convierte el string `'42'` a entero y a float. Convierte el float `3.9` a entero. Explica con un comentario qué ocurrió al convertir `3.9` a entero."
   ]
  },
  {
   "cell_type": "code",
   "execution_count": null,
   "id": "c8ffda94",
   "metadata": {},
   "outputs": [],
   "source": [
    "# Tu código aquí\n",
    "s = '42'\n",
    "n_entero = ...\n",
    "n_float = ...\n",
    "x = 3.9\n",
    "x_entero = ...\n",
    "# Explicación:\n",
    "# ...\n",
    "print(n_entero, type(n_entero))\n",
    "print(n_float, type(n_float))\n",
    "print(x_entero, type(x_entero))"
   ]
  },
  {
   "cell_type": "markdown",
   "id": "07a5236a",
   "metadata": {},
   "source": [
    "<details>\n",
    "<summary>💡 Solución</summary>\n",
    "\n",
    "```python\n",
    "s = '42'\n",
    "n_entero = int(s)\n",
    "n_float = float(s)\n",
    "x = 3.9\n",
    "x_entero = int(x)  # trunca la parte decimal\n",
    "print(n_entero, type(n_entero))\n",
    "print(n_float, type(n_float))\n",
    "print(x_entero, type(x_entero))\n",
    "```\n",
    "\n",
    "</details>"
   ]
  },
  {
   "cell_type": "markdown",
   "id": "cb7bcef4",
   "metadata": {},
   "source": [
    "### Ejercicio 3.3 — Operaciones básicas\n",
    "Dados `a=15` y `b=4`, calcula suma, resta, producto, división, división entera y resto. Muestra los resultados con un f-string."
   ]
  },
  {
   "cell_type": "code",
   "execution_count": null,
   "id": "a205af51",
   "metadata": {},
   "outputs": [],
   "source": [
    "# Tu código aquí\n",
    "a, b = 15, 4\n",
    "suma = ...\n",
    "resta = ...\n",
    "producto = ...\n",
    "division = ...\n",
    "division_entera = ...\n",
    "resto = ...\n",
    "print(f'suma={suma}, resta={resta}, prod={producto}, div={division}, div_entera={division_entera}, resto={resto}')"
   ]
  },
  {
   "cell_type": "markdown",
   "id": "15cf46b9",
   "metadata": {},
   "source": [
    "<details>\n",
    "<summary>💡 Solución</summary>\n",
    "\n",
    "```python\n",
    "a, b = 15, 4\n",
    "suma = a + b\n",
    "resta = a - b\n",
    "producto = a * b\n",
    "division = a / b\n",
    "division_entera = a // b\n",
    "resto = a % b\n",
    "print(f'suma={suma}, resta={resta}, prod={producto}, div={division}, div_entera={division_entera}, resto={resto}')\n",
    "```\n",
    "\n",
    "</details>"
   ]
  },
  {
   "cell_type": "markdown",
   "id": "21d1488c",
   "metadata": {},
   "source": [
    "### Ejercicio 3.4 — Formateo numérico\n",
    "Muestra el número `12345.6789` con 2 decimales y con separador de miles usando f-strings."
   ]
  },
  {
   "cell_type": "code",
   "execution_count": null,
   "id": "f1adf66b",
   "metadata": {},
   "outputs": [],
   "source": [
    "# Tu código aquí\n",
    "x = 12345.6789\n",
    "print(...)  # 2 decimales\n",
    "print(...)  # separador de miles"
   ]
  },
  {
   "cell_type": "markdown",
   "id": "8a441649",
   "metadata": {},
   "source": [
    "<details>\n",
    "<summary>💡 Solución</summary>\n",
    "\n",
    "```python\n",
    "x = 12345.6789\n",
    "print(f'{x:.2f}')\n",
    "print(f'{x:,.2f}')\n",
    "```\n",
    "\n",
    "</details>"
   ]
  },
  {
   "cell_type": "markdown",
   "id": "b7a9446d",
   "metadata": {},
   "source": [
    "### Ejercicio 3.5 — Mini calculadora\n",
    "Dados `a=8` y `b=3`, crea un diccionario `resultados` con las claves `suma`, `resta`, `producto`, `cociente`, `potencia` y muestra el diccionario."
   ]
  },
  {
   "cell_type": "code",
   "execution_count": null,
   "id": "64e07210",
   "metadata": {},
   "outputs": [],
   "source": [
    "# Tu código aquí\n",
    "a, b = 8, 3\n",
    "resultados = {\n",
    "    'suma': ...,\n",
    "    'resta': ...,\n",
    "    'producto': ...,\n",
    "    'cociente': ...,\n",
    "    'potencia': ...\n",
    "}\n",
    "print(resultados)"
   ]
  },
  {
   "cell_type": "markdown",
   "id": "9a6c5fee",
   "metadata": {},
   "source": [
    "<details>\n",
    "<summary>💡 Solución</summary>\n",
    "\n",
    "```python\n",
    "a, b = 8, 3\n",
    "resultados = {\n",
    "    'suma': a + b,\n",
    "    'resta': a - b,\n",
    "    'producto': a * b,\n",
    "    'cociente': a / b,\n",
    "    'potencia': a ** b\n",
    "}\n",
    "print(resultados)\n",
    "```\n",
    "\n",
    "</details>"
   ]
  },
  {
   "cell_type": "markdown",
   "id": "a15b7afb",
   "metadata": {},
   "source": [
    "---\n",
    "## 🧱 4) Estructuras de datos\n",
    "Trabajarás con listas, diccionarios, tuplas y sets."
   ]
  },
  {
   "cell_type": "markdown",
   "id": "cf3cca88",
   "metadata": {},
   "source": [
    "### Ejercicio 4.1 — Listas básicas\n",
    "Crea una lista `frutas` con al menos 4 frutas. Añade una fruta al final, elimina otra por nombre y muestra el resultado y su longitud."
   ]
  },
  {
   "cell_type": "code",
   "execution_count": null,
   "id": "c01e1036",
   "metadata": {},
   "outputs": [],
   "source": [
    "# Tu código aquí\n",
    "frutas = [...]\n",
    "frutas.append(...)\n",
    "frutas.remove(...)\n",
    "print(frutas)\n",
    "print('Longitud:', len(frutas))"
   ]
  },
  {
   "cell_type": "markdown",
   "id": "afda8d6d",
   "metadata": {},
   "source": [
    "<details>\n",
    "<summary>💡 Solución</summary>\n",
    "\n",
    "```python\n",
    "frutas = ['manzana', 'banana', 'naranja', 'kiwi']\n",
    "frutas.append('pera')\n",
    "frutas.remove('banana')\n",
    "print(frutas)\n",
    "print('Longitud:', len(frutas))\n",
    "```\n",
    "\n",
    "</details>"
   ]
  },
  {
   "cell_type": "markdown",
   "id": "32467aa2",
   "metadata": {},
   "source": [
    "### Ejercicio 4.2 — Diccionarios\n",
    "Crea un diccionario `alumno` con `nombre`, `edad` y `curso`. Actualiza la `edad`, añade `email` y muestra las claves y valores."
   ]
  },
  {
   "cell_type": "code",
   "execution_count": null,
   "id": "0ece4710",
   "metadata": {},
   "outputs": [],
   "source": [
    "# Tu código aquí\n",
    "alumno = {...}\n",
    "alumno['edad'] = ...\n",
    "alumno['email'] = ...\n",
    "print(alumno.keys())\n",
    "print(alumno.values())"
   ]
  },
  {
   "cell_type": "markdown",
   "id": "a28bd53a",
   "metadata": {},
   "source": [
    "<details>\n",
    "<summary>💡 Solución</summary>\n",
    "\n",
    "```python\n",
    "alumno = {'nombre': 'Lucía', 'edad': 20, 'curso': 'ML'}\n",
    "alumno['edad'] = 21\n",
    "alumno['email'] = 'lucia@example.com'\n",
    "print(alumno.keys())\n",
    "print(alumno.values())\n",
    "```\n",
    "\n",
    "</details>"
   ]
  },
  {
   "cell_type": "markdown",
   "id": "0da4366b",
   "metadata": {},
   "source": [
    "### Ejercicio 4.3 — Tuplas y desempaquetado\n",
    "Dada la tupla `fecha = (2025, 10, 9)`, desempaca en `anio, mes, dia` y muestra `YYYY-MM-DD`."
   ]
  },
  {
   "cell_type": "code",
   "execution_count": null,
   "id": "6f246278",
   "metadata": {},
   "outputs": [],
   "source": [
    "# Tu código aquí\n",
    "fecha = (2025, 10, 9)\n",
    "anio, mes, dia = ...\n",
    "print(f'{anio}-{mes:02d}-{dia:02d}')"
   ]
  },
  {
   "cell_type": "markdown",
   "id": "498fcf9b",
   "metadata": {},
   "source": [
    "<details>\n",
    "<summary>💡 Solución</summary>\n",
    "\n",
    "```python\n",
    "fecha = (2025, 10, 9)\n",
    "anio, mes, dia = fecha\n",
    "print(f'{anio}-{mes:02d}-{dia:02d}')\n",
    "```\n",
    "\n",
    "</details>"
   ]
  },
  {
   "cell_type": "markdown",
   "id": "585fc637",
   "metadata": {},
   "source": [
    "### Ejercicio 4.4 — Sets para deduplicar\n",
    "Dado el texto `texto = 'hoy hoy es un buen buen día'`, obtén las palabras únicas como un set y muéstralas ordenadas alfabéticamente."
   ]
  },
  {
   "cell_type": "code",
   "execution_count": null,
   "id": "dec18c3b",
   "metadata": {},
   "outputs": [],
   "source": [
    "# Tu código aquí\n",
    "texto = 'hoy hoy es un buen buen día'\n",
    "palabras = ...\n",
    "unicas = ...\n",
    "print(sorted(unicas))"
   ]
  },
  {
   "cell_type": "markdown",
   "id": "d8f1e274",
   "metadata": {},
   "source": [
    "<details>\n",
    "<summary>💡 Solución</summary>\n",
    "\n",
    "```python\n",
    "texto = 'hoy hoy es un buen buen día'\n",
    "palabras = texto.split()\n",
    "unicas = set(palabras)\n",
    "print(sorted(unicas))\n",
    "```\n",
    "\n",
    "</details>"
   ]
  },
  {
   "cell_type": "markdown",
   "id": "7178e893",
   "metadata": {},
   "source": [
    "### Ejercicio 4.5 — Combinado (lista + dict + set)\n",
    "Dada `compras = ['pan', 'leche', 'pan', 'huevos']` y `precios = {'pan':1.0,'leche':1.2,'huevos':2.0}`, calcula el total gastado considerando cada artículo una sola vez (usa un set)."
   ]
  },
  {
   "cell_type": "code",
   "execution_count": null,
   "id": "b8217f82",
   "metadata": {},
   "outputs": [],
   "source": [
    "# Tu código aquí\n",
    "compras = ['pan', 'leche', 'pan', 'huevos']\n",
    "precios = {'pan':1.0,'leche':1.2,'huevos':2.0}\n",
    "articulos = ...  # elementos únicos\n",
    "total = 0.0\n",
    "for art in articulos:\n",
    "    total += ...\n",
    "print(total)  # debería ser 4.2"
   ]
  },
  {
   "cell_type": "markdown",
   "id": "7120db35",
   "metadata": {},
   "source": [
    "<details>\n",
    "<summary>💡 Solución</summary>\n",
    "\n",
    "```python\n",
    "compras = ['pan', 'leche', 'pan', 'huevos']\n",
    "precios = {'pan':1.0,'leche':1.2,'huevos':2.0}\n",
    "articulos = set(compras)\n",
    "total = 0.0\n",
    "for art in articulos:\n",
    "    total += precios[art]\n",
    "print(total)\n",
    "```\n",
    "\n",
    "</details>"
   ]
  },
  {
   "cell_type": "markdown",
   "id": "f77b9d5c",
   "metadata": {},
   "source": [
    "---\n",
    "## ⚙️ 5) Control de flujo (condicionales y bucles)\n",
    "Practicarás `if/elif/else`, bucles `for` y `while`."
   ]
  },
  {
   "cell_type": "markdown",
   "id": "2081520e",
   "metadata": {},
   "source": [
    "### Ejercicio 5.1 — Clasificación por edad\n",
    "Dada una variable `edad`, imprime `menor`, `adulto` o `mayor` (65+) según corresponda."
   ]
  },
  {
   "cell_type": "code",
   "execution_count": null,
   "id": "e203f95c",
   "metadata": {},
   "outputs": [],
   "source": [
    "# Tu código aquí\n",
    "edad = 42\n",
    "# if / elif / else\n",
    "..."
   ]
  },
  {
   "cell_type": "markdown",
   "id": "2940b813",
   "metadata": {},
   "source": [
    "<details>\n",
    "<summary>💡 Solución</summary>\n",
    "\n",
    "```python\n",
    "edad = 42\n",
    "if edad < 18:\n",
    "    print('menor')\n",
    "elif edad < 65:\n",
    "    print('adulto')\n",
    "else:\n",
    "    print('mayor')\n",
    "```\n",
    "\n",
    "</details>"
   ]
  },
  {
   "cell_type": "markdown",
   "id": "1dff87ca",
   "metadata": {},
   "source": [
    "### Ejercicio 5.2 — Suma 1..n\n",
    "Usa un bucle `for` para sumar los números del 1 al `n=100`. Muestra el resultado."
   ]
  },
  {
   "cell_type": "code",
   "execution_count": null,
   "id": "a002e12a",
   "metadata": {},
   "outputs": [],
   "source": [
    "# Tu código aquí\n",
    "n = 100\n",
    "suma = 0\n",
    "for i in ...:\n",
    "    suma += ...\n",
    "print(suma)  # 5050"
   ]
  },
  {
   "cell_type": "markdown",
   "id": "ecec2071",
   "metadata": {},
   "source": [
    "<details>\n",
    "<summary>💡 Solución</summary>\n",
    "\n",
    "```python\n",
    "n = 100\n",
    "suma = 0\n",
    "for i in range(1, n+1):\n",
    "    suma += i\n",
    "print(suma)\n",
    "```\n",
    "\n",
    "</details>"
   ]
  },
  {
   "cell_type": "markdown",
   "id": "97c80b1a",
   "metadata": {},
   "source": [
    "### Ejercicio 5.3 — Contar pares e impares\n",
    "Dada una lista de números, cuenta cuántos son pares e impares usando un `for` y un `if`."
   ]
  },
  {
   "cell_type": "code",
   "execution_count": null,
   "id": "ecb70247",
   "metadata": {},
   "outputs": [],
   "source": [
    "# Tu código aquí\n",
    "nums = [1,2,3,4,5,6,7,8,9,10]\n",
    "pares = 0\n",
    "impares = 0\n",
    "for n in nums:\n",
    "    ...\n",
    "print('pares:', pares, 'impares:', impares)  # pares:5 impares:5"
   ]
  },
  {
   "cell_type": "markdown",
   "id": "a0dced0c",
   "metadata": {},
   "source": [
    "<details>\n",
    "<summary>💡 Solución</summary>\n",
    "\n",
    "```python\n",
    "nums = [1,2,3,4,5,6,7,8,9,10]\n",
    "pares = 0\n",
    "impares = 0\n",
    "for n in nums:\n",
    "    if n % 2 == 0:\n",
    "        pares += 1\n",
    "    else:\n",
    "        impares += 1\n",
    "print('pares:', pares, 'impares:', impares)\n",
    "```\n",
    "\n",
    "</details>"
   ]
  },
  {
   "cell_type": "markdown",
   "id": "a2eb4c06",
   "metadata": {},
   "source": [
    "### Ejercicio 5.4 — While con acumulación\n",
    "Suma números de la lista hasta que la suma sea mayor que 20. Detén el proceso cuando se supere 20 y muestra la suma y cuántos elementos se usaron."
   ]
  },
  {
   "cell_type": "markdown",
   "id": "efc259fd",
   "metadata": {},
   "source": [
    "# Tu código aquí\n",
    "valores = [3, 5, 8, 4, 10, 2]\n",
    "suma = 0\n",
    "i = 0\n",
    "usados = 0\n",
    "while ...:\n",
    "    ...\n",
    "print('suma:', suma, 'usados:', usados)"
   ]
  },
  {
   "cell_type": "markdown",
   "id": "a0f329bf",
   "metadata": {},
   "source": [
    "<details>\n",
    "<summary>💡 Solución</summary>\n",
    "\n",
    "```python\n",
    "valores = [3, 5, 8, 4, 10, 2]\n",
    "suma = 0\n",
    "i = 0\n",
    "usados = 0\n",
    "while i < len(valores) and suma <= 20:\n",
    "    suma += valores[i]\n",
    "    usados += 1\n",
    "    i += 1\n",
    "print('suma:', suma, 'usados:', usados)\n",
    "```\n",
    "\n",
    "</details>"
   ]
  },
  {
   "cell_type": "markdown",
   "id": "4bf9078e",
   "metadata": {},
   "source": [
    "### Ejercicio 5.5 — Tabla de multiplicar\n",
    "Imprime la tabla de multiplicar del 1 al 3 (filas 1..3 y columnas 1..3) usando bucles anidados."
   ]
  },
  {
   "cell_type": "code",
   "execution_count": null,
   "id": "b5c2114c",
   "metadata": {},
   "outputs": [],
   "source": [
    "# Tu código aquí\n",
    "for i in ...:\n",
    "    fila = []\n",
    "    for j in ...:\n",
    "        fila.append(i*j)\n",
    "    print(fila)  # p.ej. [1,2,3] en la primera fila"
   ]
  },
  {
   "cell_type": "markdown",
   "id": "c5df7921",
   "metadata": {},
   "source": [
    "<details>\n",
    "<summary>💡 Solución</summary>\n",
    "\n",
    "```python\n",
    "for i in range(1,4):\n",
    "    fila = []\n",
    "    for j in range(1,4):\n",
    "        fila.append(i*j)\n",
    "    print(fila)\n",
    "```\n",
    "\n",
    "</details>"
   ]
  },
  {
   "cell_type": "markdown",
   "id": "1bf01e8f",
   "metadata": {},
   "source": [
    "---\n",
    "## 🛠️ 6) Funciones\n",
    "Definirás funciones, parámetros por defecto, validaciones y retornos múltiples."
   ]
  },
  {
   "cell_type": "markdown",
   "id": "0cb8a3d6",
   "metadata": {},
   "source": [
    "### Ejercicio 6.1 — Función simple\n",
    "Define una función `saludar(nombre)` que devuelva `Hola, <nombre>!`. Pruébala con tu nombre."
   ]
  },
  {
   "cell_type": "code",
   "execution_count": null,
   "id": "004ff3b5",
   "metadata": {},
   "outputs": [],
   "source": [
    "# Tu código aquí\n",
    "def saludar(nombre):\n",
    "    ...\n",
    "\n",
    "print(saludar('Ana'))"
   ]
  },
  {
   "cell_type": "markdown",
   "id": "ce8ec409",
   "metadata": {},
   "source": [
    "<details>\n",
    "<summary>💡 Solución</summary>\n",
    "\n",
    "```python\n",
    "def saludar(nombre):\n",
    "    return f'Hola, {nombre}!'\n",
    "\n",
    "print(saludar('Ana'))\n",
    "```\n",
    "\n",
    "</details>"
   ]
  },
  {
   "cell_type": "markdown",
   "id": "bdb3fcb5",
   "metadata": {},
   "source": [
    "### Ejercicio 6.2 — Parámetro por defecto\n",
    "Crea `potencia(base, exponente=2)` que eleve `base` al `exponente`. Pruébala con y sin pasar el `exponente`."
   ]
  },
  {
   "cell_type": "code",
   "execution_count": null,
   "id": "b8f25868",
   "metadata": {},
   "outputs": [],
   "source": [
    "# Tu código aquí\n",
    "def potencia(base, exponente=2):\n",
    "    ...\n",
    "\n",
    "print(potencia(3))  # 9\n",
    "print(potencia(2, 3))  # 8"
   ]
  },
  {
   "cell_type": "markdown",
   "id": "58c6963f",
   "metadata": {},
   "source": [
    "<details>\n",
    "<summary>💡 Solución</summary>\n",
    "\n",
    "```python\n",
    "def potencia(base, exponente=2):\n",
    "    return base ** exponente\n",
    "\n",
    "print(potencia(3))\n",
    "print(potencia(2, 3))\n",
    "```\n",
    "\n",
    "</details>"
   ]
  },
  {
   "cell_type": "markdown",
   "id": "4ee881cf",
   "metadata": {},
   "source": [
    "### Ejercicio 6.3 — Retornos múltiples\n",
    "Implementa `estadisticas(nums)` que devuelva una tupla `(minimo, maximo, media)` de una lista de números."
   ]
  },
  {
   "cell_type": "code",
   "execution_count": null,
   "id": "94d652d4",
   "metadata": {},
   "outputs": [],
   "source": [
    "# Tu código aquí\n",
    "def estadisticas(nums):\n",
    "    ...\n",
    "\n",
    "print(estadisticas([1,2,3,4]))  # (1,4,2.5)"
   ]
  },
  {
   "cell_type": "markdown",
   "id": "b8825a7d",
   "metadata": {},
   "source": [
    "<details>\n",
    "<summary>💡 Solución</summary>\n",
    "\n",
    "```python\n",
    "def estadisticas(nums):\n",
    "    minimo = min(nums)\n",
    "    maximo = max(nums)\n",
    "    media = sum(nums) / len(nums)\n",
    "    return minimo, maximo, media\n",
    "\n",
    "print(estadisticas([1,2,3,4]))\n",
    "```\n",
    "\n",
    "</details>"
   ]
  },
  {
   "cell_type": "markdown",
   "id": "a93ff658",
   "metadata": {},
   "source": [
    "### Ejercicio 6.4 — Validación y errores\n",
    "Crea `aplicar_descuento(precio, pct)` que devuelva `precio*(1-pct)` validando que `pct` esté entre 0 y 1. Lanza `ValueError` si no se cumple."
   ]
  },
  {
   "cell_type": "code",
   "execution_count": null,
   "id": "ecd6240f",
   "metadata": {},
   "outputs": [],
   "source": [
    "# Tu código aquí\n",
    "def aplicar_descuento(precio, pct):\n",
    "    ...\n",
    "\n",
    "print(aplicar_descuento(100, 0.2))  # 80.0"
   ]
  },
  {
   "cell_type": "markdown",
   "id": "cacbc609",
   "metadata": {},
   "source": [
    "<details>\n",
    "<summary>💡 Solución</summary>\n",
    "\n",
    "```python\n",
    "def aplicar_descuento(precio, pct):\n",
    "    if not (0 <= pct <= 1):\n",
    "        raise ValueError('pct debe estar entre 0 y 1')\n",
    "    return precio * (1 - pct)\n",
    "\n",
    "print(aplicar_descuento(100, 0.2))\n",
    "```\n",
    "\n",
    "</details>"
   ]
  },
  {
   "cell_type": "markdown",
   "id": "ab9d2b36",
   "metadata": {},
   "source": [
    "### Ejercicio 6.5 — Filtrar pares\n",
    "Implementa `filtrar_pares(nums)` que devuelva una lista con solo los números pares."
   ]
  },
  {
   "cell_type": "code",
   "execution_count": null,
   "id": "43cdc360",
   "metadata": {},
   "outputs": [],
   "source": [
    "# Tu código aquí\n",
    "def filtrar_pares(nums):\n",
    "    ...\n",
    "\n",
    "print(filtrar_pares([1,2,3,4,5,6]))  # [2,4,6]"
   ]
  },
  {
   "cell_type": "markdown",
   "id": "aa91e8da",
   "metadata": {},
   "source": [
    "<details>\n",
    "<summary>💡 Solución</summary>\n",
    "\n",
    "```python\n",
    "def filtrar_pares(nums):\n",
    "    resultado = []\n",
    "    for n in nums:\n",
    "        if n % 2 == 0:\n",
    "            resultado.append(n)\n",
    "    return resultado\n",
    "\n",
    "print(filtrar_pares([1,2,3,4,5,6]))\n",
    "```\n",
    "\n",
    "</details>"
   ]
  },
  {
   "cell_type": "markdown",
   "id": "eb31feb8",
   "metadata": {},
   "source": [
    "---\n",
    "## 🏛️ 7) Programación Orientada a Objetos (POO)\n",
    "Crearás clases sencillas con atributos y métodos, e implementarás herencia básica."
   ]
  },
  {
   "cell_type": "markdown",
   "id": "8af78b41",
   "metadata": {},
   "source": [
    "### Ejercicio 7.1 — Clase Persona\n",
    "Crea una clase `Persona` con `nombre` y `edad`, y un método `presentarse()` que devuelva un string con su presentación. Crea un objeto y llámalo."
   ]
  },
  {
   "cell_type": "code",
   "execution_count": null,
   "id": "46a8b816",
   "metadata": {},
   "outputs": [],
   "source": [
    "# Tu código aquí\n",
    "class Persona:\n",
    "    def __init__(self, nombre, edad):\n",
    "        ...\n",
    "    def presentarse(self):\n",
    "        ...\n",
    "\n",
    "p = Persona('Ana', 30)\n",
    "print(p.presentarse())"
   ]
  },
  {
   "cell_type": "markdown",
   "id": "2c0c29fe",
   "metadata": {},
   "source": [
    "<details>\n",
    "<summary>💡 Solución</summary>\n",
    "\n",
    "```python\n",
    "class Persona:\n",
    "    def __init__(self, nombre, edad):\n",
    "        self.nombre = nombre\n",
    "        self.edad = edad\n",
    "    def presentarse(self):\n",
    "        return f'Soy {self.nombre} y tengo {self.edad} años'\n",
    "\n",
    "p = Persona('Ana', 30)\n",
    "print(p.presentarse())\n",
    "```\n",
    "\n",
    "</details>"
   ]
  },
  {
   "cell_type": "markdown",
   "id": "ece399ce",
   "metadata": {},
   "source": [
    "### Ejercicio 7.2 — Métodos que modifican estado\n",
    "Añade a `Persona` un método `cumpleanios()` que incremente `edad` en 1 y un método `es_mayor_de_edad()` que devuelva True si `edad` >= 18."
   ]
  },
  {
   "cell_type": "code",
   "execution_count": null,
   "id": "45e632af",
   "metadata": {},
   "outputs": [],
   "source": [
    "# Tu código aquí (puedes reutilizar la clase anterior)\n",
    "class Persona:\n",
    "    def __init__(self, nombre, edad):\n",
    "        ...\n",
    "    def presentarse(self):\n",
    "        ...\n",
    "    def cumpleanios(self):\n",
    "        ...\n",
    "    def es_mayor_de_edad(self):\n",
    "        ...\n",
    "\n",
    "p = Persona('Luis', 17)\n",
    "p.cumpleanios()\n",
    "print(p.edad, p.es_mayor_de_edad())  # 18 True"
   ]
  },
  {
   "cell_type": "markdown",
   "id": "a22b084c",
   "metadata": {},
   "source": [
    "<details>\n",
    "<summary>💡 Solución</summary>\n",
    "\n",
    "```python\n",
    "class Persona:\n",
    "    def __init__(self, nombre, edad):\n",
    "        self.nombre = nombre\n",
    "        self.edad = edad\n",
    "    def presentarse(self):\n",
    "        return f'Soy {self.nombre} y tengo {self.edad} años'\n",
    "    def cumpleanios(self):\n",
    "        self.edad += 1\n",
    "    def es_mayor_de_edad(self):\n",
    "        return self.edad >= 18\n",
    "\n",
    "p = Persona('Luis', 17)\n",
    "p.cumpleanios()\n",
    "print(p.edad, p.es_mayor_de_edad())\n",
    "```\n",
    "\n",
    "</details>"
   ]
  },
  {
   "cell_type": "markdown",
   "id": "5ca6c0dc",
   "metadata": {},
   "source": [
    "### Ejercicio 7.3 — Clase CuentaBancaria\n",
    "Crea `CuentaBancaria` con `titular` y `saldo` (inicia en 0), métodos `depositar(cantidad)` y `retirar(cantidad)` (no permitir saldo negativo). Muestra el saldo tras algunas operaciones."
   ]
  },
  {
   "cell_type": "code",
   "execution_count": null,
   "id": "da1e7153",
   "metadata": {},
   "outputs": [],
   "source": [
    "# Tu código aquí\n",
    "class CuentaBancaria:\n",
    "    def __init__(self, titular):\n",
    "        ...\n",
    "    def depositar(self, cantidad):\n",
    "        ...\n",
    "    def retirar(self, cantidad):\n",
    "        ...\n",
    "\n",
    "c = CuentaBancaria('Ana')\n",
    "c.depositar(100)\n",
    "c.retirar(30)\n",
    "print(c.saldo)  # 70"
   ]
  },
  {
   "cell_type": "markdown",
   "id": "a6eafa79",
   "metadata": {},
   "source": [
    "<details>\n",
    "<summary>💡 Solución</summary>\n",
    "\n",
    "```python\n",
    "class CuentaBancaria:\n",
    "    def __init__(self, titular):\n",
    "        self.titular = titular\n",
    "        self.saldo = 0.0\n",
    "    def depositar(self, cantidad):\n",
    "        self.saldo += cantidad\n",
    "    def retirar(self, cantidad):\n",
    "        if cantidad > self.saldo:\n",
    "            raise ValueError('Fondos insuficientes')\n",
    "        self.saldo -= cantidad\n",
    "\n",
    "c = CuentaBancaria('Ana')\n",
    "c.depositar(100)\n",
    "c.retirar(30)\n",
    "print(c.saldo)\n",
    "```\n",
    "\n",
    "</details>"
   ]
  },
  {
   "cell_type": "markdown",
   "id": "66d27ccd",
   "metadata": {},
   "source": [
    "### Ejercicio 7.4 — __str__ para presentar objetos\n",
    "Añade a `CuentaBancaria` un método `__str__` que al imprimir el objeto muestre `Cuenta de <titular> con saldo <saldo>`. Imprime el objeto."
   ]
  },
  {
   "cell_type": "code",
   "execution_count": null,
   "id": "c43f5935",
   "metadata": {},
   "outputs": [],
   "source": [
    "# Tu código aquí (puedes reutilizar la clase)\n",
    "class CuentaBancaria:\n",
    "    def __init__(self, titular):\n",
    "        ...\n",
    "    def __str__(self):\n",
    "        ...\n",
    "\n",
    "c = CuentaBancaria('Ana')\n",
    "print(c)"
   ]
  },
  {
   "cell_type": "markdown",
   "id": "6ccc1f94",
   "metadata": {},
   "source": [
    "<details>\n",
    "<summary>💡 Solución</summary>\n",
    "\n",
    "```python\n",
    "class CuentaBancaria:\n",
    "    def __init__(self, titular):\n",
    "        self.titular = titular\n",
    "        self.saldo = 0.0\n",
    "    def __str__(self):\n",
    "        return f'Cuenta de {self.titular} con saldo {self.saldo:.2f}'\n",
    "\n",
    "c = CuentaBancaria('Ana')\n",
    "print(c)\n",
    "```\n",
    "\n",
    "</details>"
   ]
  },
  {
   "cell_type": "markdown",
   "id": "c85e3bfc",
   "metadata": {},
   "source": [
    "### Ejercicio 7.5 — Herencia básica\n",
    "Crea `Estudiante(Persona)` que añada `curso` y sobreescriba `presentarse()` para incluir el curso. Crea un objeto y prueba el método."
   ]
  },
  {
   "cell_type": "code",
   "execution_count": null,
   "id": "919c2a57",
   "metadata": {},
   "outputs": [],
   "source": [
    "# Tu código aquí\n",
    "class Persona:\n",
    "    def __init__(self, nombre, edad):\n",
    "        self.nombre = nombre\n",
    "        self.edad = edad\n",
    "    def presentarse(self):\n",
    "        return f'Soy {self.nombre} y tengo {self.edad} años'\n",
    "\n",
    "class Estudiante(Persona):\n",
    "    def __init__(self, nombre, edad, curso):\n",
    "        ...\n",
    "    def presentarse(self):\n",
    "        ...\n",
    "\n",
    "e = Estudiante('Sofía', 22, 'ML')\n",
    "print(e.presentarse())"
   ]
  },
  {
   "cell_type": "markdown",
   "id": "dca4246b",
   "metadata": {},
   "source": [
    "<details>\n",
    "<summary>💡 Solución</summary>\n",
    "\n",
    "```python\n",
    "class Persona:\n",
    "    def __init__(self, nombre, edad):\n",
    "        self.nombre = nombre\n",
    "        self.edad = edad\n",
    "    def presentarse(self):\n",
    "        return f'Soy {self.nombre} y tengo {self.edad} años'\n",
    "\n",
    "class Estudiante(Persona):\n",
    "    def __init__(self, nombre, edad, curso):\n",
    "        super().__init__(nombre, edad)\n",
    "        self.curso = curso\n",
    "    def presentarse(self):\n",
    "        base = super().presentarse()\n",
    "        return base + f' y estudio {self.curso}'\n",
    "\n",
    "e = Estudiante('Sofía', 22, 'ML')\n",
    "print(e.presentarse())\n",
    "```\n",
    "\n",
    "</details>"
   ]
  }
 ],
 "metadata": {
  "language_info": {
   "name": "python"
  }
 },
 "nbformat": 4,
 "nbformat_minor": 5
}
