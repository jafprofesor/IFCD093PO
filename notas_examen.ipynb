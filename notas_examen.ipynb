{
 "cells": [
  {
   "cell_type": "markdown",
   "id": "9e440a3b",
   "metadata": {},
   "source": [
    "Vamoa a crear un sistema de predicción de notas de examen por horas de estudio"
   ]
  },
  {
   "cell_type": "markdown",
   "id": "459d3d66",
   "metadata": {},
   "source": [
    "Importamos las librerias"
   ]
  },
  {
   "cell_type": "code",
   "execution_count": 2,
   "id": "36d81d0e",
   "metadata": {},
   "outputs": [
    {
     "name": "stdout",
     "output_type": "stream",
     "text": [
      "✅ Todas las librerías importadas correctamente\n"
     ]
    }
   ],
   "source": [
    "import numpy as np\n",
    "import pandas as pd\n",
    "import matplotlib.pyplot as plt\n",
    "import seaborn as sns\n",
    "\n",
    "from sklearn.model_selection import train_test_split, cross_val_score, GridSearchCV\n",
    "from sklearn.preprocessing import StandardScaler, LabelEncoder\n",
    "from sklearn.linear_model import LinearRegression, Ridge, Lasso, LogisticRegression\n",
    "from sklearn.metrics import (r2_score, mean_squared_error, accuracy_score,\n",
    "                             precision_score, recall_score, f1_score,\n",
    "                             confusion_matrix, roc_curve, auc, classification_report)\n",
    "\n",
    "import warnings\n",
    "warnings.filterwarnings('ignore')\n",
    "\n",
    "print('✅ Todas las librerías importadas correctamente')"
   ]
  },
  {
   "cell_type": "markdown",
   "id": "1a77e51d",
   "metadata": {},
   "source": [
    "Importar el dataset"
   ]
  },
  {
   "cell_type": "code",
   "execution_count": 3,
   "id": "d1f3f7dd",
   "metadata": {},
   "outputs": [
    {
     "name": "stdout",
     "output_type": "stream",
     "text": [
      "  student_id  hours_studied  sleep_hours  attendance_percent  previous_scores  \\\n",
      "0       S001            8.0          8.8                72.1               45   \n",
      "1       S002            1.3          8.6                60.7               55   \n",
      "2       S003            4.0          8.2                73.7               86   \n",
      "3       S004            3.5          4.8                95.1               66   \n",
      "4       S005            9.1          6.4                89.8               71   \n",
      "\n",
      "   exam_score  \n",
      "0        30.2  \n",
      "1        25.0  \n",
      "2        35.8  \n",
      "3        34.0  \n",
      "4        40.3  \n"
     ]
    }
   ],
   "source": [
    "# Voy a importar el dataset student_exam_scores.csv que contiene las notas de estudiantes en función de horas de estudio y asistencia a clase.\n",
    "data = pd.read_csv('student_exam_scores.csv')\n",
    "\n",
    "print(data.head())"
   ]
  },
  {
   "cell_type": "markdown",
   "id": "cefbd801",
   "metadata": {},
   "source": [
    "Vamoa a intenetar predecir exam_score"
   ]
  },
  {
   "cell_type": "code",
   "execution_count": 6,
   "id": "96bed07d",
   "metadata": {},
   "outputs": [
    {
     "name": "stdout",
     "output_type": "stream",
     "text": [
      "✓ Características y variable objetivo separadas\n",
      "✓ Datos divididos en entrenamiento y prueba\n",
      "✓ Datos preprocesados correctamente\n",
      "✓ Modelo de Regresión Lineal entrenado\n",
      "✓ Modelo de Regresión Ridge entrenado\n",
      "✓ Modelo de Regresión Lasso entrenado\n",
      "✓ Validación cruzada completada para todos los modelos\n",
      "Resultados de Regresión Lineal: R2 = 0.8537, MSE = 7.7618, CV Score = 0.8242 ± 0.0391\n",
      "Resultados de Ridge: R2 = 0.8538, MSE = 7.7606, CV Score = 0.8244 ± 0.0389\n",
      "Resultados de Lasso: R2 = 0.8524, MSE = 7.8335, CV Score = 0.8235 ± 0.0392\n",
      "✅ Todos los modelos entrenados y evaluados correctamente\n",
      "El mejor modelo es el que tiene el mayor R2 y menor MSE\n"
     ]
    }
   ],
   "source": [
    "# Vamos a guardar en x todas las características excepto exam_score y en y la característica exam_score\n",
    "x = data.drop(['student_id', 'exam_score'], axis=1)\n",
    "y = data['exam_score']\n",
    "print('✓ Características y variable objetivo separadas')\n",
    "\n",
    "# Dividir el dataset en conjunto de entrenamiento y prueba\n",
    "x_train, x_test, y_train, y_test = train_test_split(x, y, test_size=0.2, random_state=42)\n",
    "print('✓ Datos divididos en entrenamiento y prueba')\n",
    "\n",
    "# Ahora vamos a normalizar las características numéricas\n",
    "scaler = StandardScaler()\n",
    "x_train = scaler.fit_transform(x_train)\n",
    "x_test = scaler.transform(x_test)\n",
    "print('✓ Datos preprocesados correctamente')\n",
    "\n",
    "# 1. Modelo de Regresión Lineal\n",
    "model = LinearRegression()\n",
    "model.fit(x_train, y_train)\n",
    "# Vamos a extraer las métricas de rendimiento\n",
    "y_pred = model.predict(x_test)\n",
    "r2 = r2_score(y_test, y_pred)\n",
    "mse = mean_squared_error(y_test, y_pred)\n",
    "print('✓ Modelo de Regresión Lineal entrenado')\n",
    "\n",
    "# 2. Modelo Ridge\n",
    "model_ridge = Ridge(alpha=1.0)\n",
    "model_ridge.fit(x_train, y_train)\n",
    "# Vamos a extraer las métricas de rendimiento\n",
    "y_pred_ridge = model_ridge.predict(x_test)\n",
    "r2_ridge = r2_score(y_test, y_pred_ridge)\n",
    "mse_ridge = mean_squared_error(y_test, y_pred_ridge)\n",
    "print('✓ Modelo de Regresión Ridge entrenado')\n",
    "\n",
    "# 3. Modelo Lasso\n",
    "model_lasso = Lasso(alpha=0.1, max_iter=10000)\n",
    "model_lasso.fit(x_train, y_train)\n",
    "# Vamos a extraer las métricas de rendimiento\n",
    "y_pred_lasso = model_lasso.predict(x_test)\n",
    "r2_lasso = r2_score(y_test, y_pred_lasso)\n",
    "mse_lasso = mean_squared_error(y_test, y_pred_lasso)\n",
    "print('✓ Modelo de Regresión Lasso entrenado')\n",
    "\n",
    "# Valoración cruzda de los modelos\n",
    "cv_scores_lr = cross_val_score(model, x_train, y_train, cv=5)\n",
    "cv_scores_ridge = cross_val_score(model_ridge, x_train, y_train, cv=5)\n",
    "cv_scores_lasso = cross_val_score(model_lasso, x_train, y_train, cv=5)\n",
    "print('✓ Validación cruzada completada para todos los modelos')\n",
    "print('Resultados de Regresión Lineal: R2 = {:.4f}, MSE = {:.4f}, CV Score = {:.4f} ± {:.4f}'.format(\n",
    "    r2, mse, cv_scores_lr.mean(), cv_scores_lr.std()))\n",
    "print('Resultados de Ridge: R2 = {:.4f}, MSE = {:.4f}, CV Score = {:.4f} ± {:.4f}'.format(\n",
    "    r2_ridge, mse_ridge, cv_scores_ridge.mean(), cv_scores_ridge.std()))\n",
    "print('Resultados de Lasso: R2 = {:.4f}, MSE = {:.4f}, CV Score = {:.4f} ± {:.4f}'.format(\n",
    "    r2_lasso, mse_lasso, cv_scores_lasso.mean(), cv_scores_lasso.std()))\n",
    "print('✅ Todos los modelos entrenados y evaluados correctamente')\n",
    "print('El mejor modelo es el que tiene el mayor R2 y menor MSE')"
   ]
  }
 ],
 "metadata": {
  "kernelspec": {
   "display_name": "cpu",
   "language": "python",
   "name": "python3"
  },
  "language_info": {
   "codemirror_mode": {
    "name": "ipython",
    "version": 3
   },
   "file_extension": ".py",
   "mimetype": "text/x-python",
   "name": "python",
   "nbconvert_exporter": "python",
   "pygments_lexer": "ipython3",
   "version": "3.13.7"
  }
 },
 "nbformat": 4,
 "nbformat_minor": 5
}
